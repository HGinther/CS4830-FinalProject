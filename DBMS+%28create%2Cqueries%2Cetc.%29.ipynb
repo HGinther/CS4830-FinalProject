{
 "cells": [
  {
   "cell_type": "code",
   "execution_count": null,
   "metadata": {
    "collapsed": true
   },
   "outputs": [],
   "source": [
    "# # load sql magic and password input\n",
    "# import getpass\n",
    "# %load_ext sql\n",
    "\n",
    "# # specify parameters\n",
    "# user = \"hagd5d\"               # your pawprint\n",
    "# password = getpass.getpass()    # type in your password after running this cell\n",
    "# host = \"dbase.dsa.missouri.edu\"\n",
    "# database = \"cs_student\""
   ]
  },
  {
   "cell_type": "code",
   "execution_count": 1,
   "metadata": {},
   "outputs": [
    {
     "name": "stdout",
     "output_type": "stream",
     "text": [
      "········\n"
     ]
    }
   ],
   "source": [
    "# load sql magic and password input\n",
    "import getpass\n",
    "%load_ext sql\n",
    "\n",
    "# specify parameters\n",
    "user = \"s18group03\"\n",
    "password = getpass.getpass()    \n",
    "host = \"dbase.dsa.missouri.edu\"\n",
    "database = \"s18dbmsgroups\""
   ]
  },
  {
   "cell_type": "code",
   "execution_count": 2,
   "metadata": {},
   "outputs": [
    {
     "data": {
      "text/plain": [
       "'Connected: s18group03@s18dbmsgroups'"
      ]
     },
     "execution_count": 2,
     "metadata": {},
     "output_type": "execute_result"
    }
   ],
   "source": [
    "# form connection string\n",
    "connection_string = \"postgresql://{user}:{password}@{host}/{database}\".format(user=user, password=password, host=host, database=database)\n",
    "# connect to database using the formed string\n",
    "%sql $connection_string"
   ]
  },
  {
   "cell_type": "markdown",
   "metadata": {},
   "source": [
    "# TABLE CREATION"
   ]
  },
  {
   "cell_type": "markdown",
   "metadata": {},
   "source": [
    "## Clean-up before tables completely (Drop tables)"
   ]
  },
  {
   "cell_type": "code",
   "execution_count": 3,
   "metadata": {},
   "outputs": [
    {
     "name": "stdout",
     "output_type": "stream",
     "text": [
      "Done.\n",
      "Done.\n",
      "Done.\n",
      "Done.\n",
      "Done.\n",
      "Done.\n",
      "Done.\n",
      "Done.\n",
      "Done.\n",
      "Done.\n",
      "Done.\n",
      "Done.\n",
      "Done.\n",
      "Done.\n",
      "Done.\n",
      "Done.\n",
      "Done.\n",
      "Done.\n",
      "Done.\n",
      "Done.\n",
      "Done.\n",
      "Done.\n",
      "Done.\n",
      "Done.\n",
      "Done.\n"
     ]
    },
    {
     "data": {
      "text/plain": [
       "[]"
      ]
     },
     "execution_count": 3,
     "metadata": {},
     "output_type": "execute_result"
    }
   ],
   "source": [
    "%sql DROP TABLE IF EXISTS member CASCADE;\n",
    "%sql DROP TABLE IF EXISTS emergencyContact;\n",
    "%sql DROP TABLE IF EXISTS member_address;\n",
    "%sql DROP TABLE IF EXISTS member_contact;\n",
    "%sql DROP TABLE IF EXISTS memberDues CASCADE;\n",
    "%sql DROP TABLE IF EXISTS dues_paymentPlan;\n",
    "%sql DROP TABLE IF EXISTS member_status;\n",
    "%sql DROP TABLE IF EXISTS family CASCADE;\n",
    "%sql DROP TABLE IF EXISTS familyTree_roster;\n",
    "%sql DROP TABLE IF EXISTS recSports CASCADE;\n",
    "%sql DROP TABLE IF EXISTS recSports_teams CASCADE;\n",
    "%sql DROP TABLE IF EXISTS team_roster;\n",
    "%sql DROP TABLE IF EXISTS merch CASCADE;\n",
    "%sql DROP TABLE IF EXISTS merch_order;\n",
    "%sql DROP TABLE IF EXISTS budget CASCADE;\n",
    "%sql DROP TABLE IF EXISTS chairPosition CASCADE;\n",
    "%sql DROP TABLE IF EXISTS budget_register;\n",
    "%sql DROP TABLE IF EXISTS point_type CASCADE;\n",
    "%sql DROP TABLE IF EXISTS events CASCADE;\n",
    "%sql DROP TABLE IF EXISTS event_attendance;\n",
    "%sql DROP TABLE IF EXISTS memberPoints_assoc;\n",
    "%sql DROP TABLE IF EXISTS potential_roster CASCADE;\n",
    "%sql DROP TABLE IF EXISTS votingResults;\n",
    "%sql DROP TABLE IF EXISTS classes CASCADE;\n",
    "%sql DROP TABLE IF EXISTS class_roster;"
   ]
  },
  {
   "cell_type": "markdown",
   "metadata": {},
   "source": [
    "## Create Table Statements"
   ]
  },
  {
   "cell_type": "markdown",
   "metadata": {},
   "source": [
    "### Security Notes\n",
    "* Doing security based on Users wouldn't make sense for our shared PSQL server. Would likely use this if we had our very own server and could manage our own list of users (which would be similar to the member table)\n",
    "* Need a field for security class (for each table) (Each member will be given a security class field based on their position)\n",
    "    * ex: status_id | status_name | class\n",
    "    * where class = Top secret (TS), secret (S), confidential (C), unclassified (U): TS > S> C > U\n",
    "    * and we would check each member access level before performing an action\n",
    "* Member should have the security class that needs to be checked\n",
    "    * This should get updated (via Trigger) when a chairPostion is updated\n",
    "        * OLD chairPosition should change back to U and NEW chairPosition should change to more secure"
   ]
  },
  {
   "cell_type": "code",
   "execution_count": 4,
   "metadata": {},
   "outputs": [
    {
     "name": "stdout",
     "output_type": "stream",
     "text": [
      "Done.\n"
     ]
    },
    {
     "data": {
      "text/plain": [
       "[]"
      ]
     },
     "execution_count": 4,
     "metadata": {},
     "output_type": "execute_result"
    }
   ],
   "source": [
    "%%sql\n",
    "CREATE OR REPLACE function random_string(length integer) returns text as\n",
    "$$\n",
    "declare\n",
    "  chars text[] := '{0,1,2,3,4,5,6,7,8,9,a,b,c,d,e,f,g,h,i,j,k,l,m,n,o,p,q,r,s,t,u,v,w,x,y,z}';\n",
    "  result text := '';\n",
    "  i integer := 0;\n",
    "begin\n",
    "  if length < 0 then\n",
    "    raise exception 'Given length cannot be less than 0';\n",
    "  end if;\n",
    "  for i in 1..length loop\n",
    "    result := result || chars[1+random()*(array_length(chars, 1)-1)];\n",
    "  end loop;\n",
    "  return result;\n",
    "end;\n",
    "$$\n",
    "LANGUAGE plpgsql;"
   ]
  },
  {
   "cell_type": "markdown",
   "metadata": {},
   "source": [
    "## member_status table"
   ]
  },
  {
   "cell_type": "code",
   "execution_count": 5,
   "metadata": {},
   "outputs": [
    {
     "name": "stdout",
     "output_type": "stream",
     "text": [
      "Done.\n"
     ]
    },
    {
     "data": {
      "text/plain": [
       "[]"
      ]
     },
     "execution_count": 5,
     "metadata": {},
     "output_type": "execute_result"
    }
   ],
   "source": [
    "%%sql \n",
    "CREATE TABLE member_status (\n",
    "    status_id INTEGER PRIMARY KEY,\n",
    "    status_name VARCHAR(25)\n",
    ");"
   ]
  },
  {
   "cell_type": "code",
   "execution_count": 6,
   "metadata": {},
   "outputs": [
    {
     "name": "stdout",
     "output_type": "stream",
     "text": [
      "Done.\n"
     ]
    },
    {
     "data": {
      "text/plain": [
       "[]"
      ]
     },
     "execution_count": 6,
     "metadata": {},
     "output_type": "execute_result"
    }
   ],
   "source": [
    "%%sql\n",
    "TRUNCATE member_status CASCADE;"
   ]
  },
  {
   "cell_type": "code",
   "execution_count": 7,
   "metadata": {},
   "outputs": [
    {
     "name": "stdout",
     "output_type": "stream",
     "text": [
      "4 rows affected.\n"
     ]
    },
    {
     "data": {
      "text/plain": [
       "[]"
      ]
     },
     "execution_count": 7,
     "metadata": {},
     "output_type": "execute_result"
    }
   ],
   "source": [
    "%%sql\n",
    "INSERT INTO member_status VALUES\n",
    "    (1, 'Active'),\n",
    "    (2, 'Locally Inactive'),\n",
    "    (3, 'Nationally Inactive'),\n",
    "    (4, 'Alumni')\n",
    ";"
   ]
  },
  {
   "cell_type": "markdown",
   "metadata": {},
   "source": [
    "## member table"
   ]
  },
  {
   "cell_type": "code",
   "execution_count": 8,
   "metadata": {},
   "outputs": [
    {
     "name": "stdout",
     "output_type": "stream",
     "text": [
      "Done.\n"
     ]
    },
    {
     "data": {
      "text/plain": [
       "[]"
      ]
     },
     "execution_count": 8,
     "metadata": {},
     "output_type": "execute_result"
    }
   ],
   "source": [
    "%%sql \n",
    "CREATE TABLE member (\n",
    "    student_id INTEGER PRIMARY KEY,\n",
    "    pawprint VARCHAR(25),\n",
    "    salt VARCHAR(25),\n",
    "    salted_password VARCHAR(255),\n",
    "    status INTEGER REFERENCES member_status (status_id),\n",
    "    last_name VARCHAR(50),\n",
    "    first_name VARCHAR(50),\n",
    "    birthday DATE,\n",
    "    chapter_book_number INTEGER\n",
    ");"
   ]
  },
  {
   "cell_type": "code",
   "execution_count": 9,
   "metadata": {},
   "outputs": [
    {
     "name": "stdout",
     "output_type": "stream",
     "text": [
      "Done.\n"
     ]
    },
    {
     "data": {
      "text/plain": [
       "[]"
      ]
     },
     "execution_count": 9,
     "metadata": {},
     "output_type": "execute_result"
    }
   ],
   "source": [
    "%%sql\n",
    "TRUNCATE member CASCADE;"
   ]
  },
  {
   "cell_type": "code",
   "execution_count": 10,
   "metadata": {},
   "outputs": [
    {
     "name": "stdout",
     "output_type": "stream",
     "text": [
      "100 rows affected.\n"
     ]
    },
    {
     "data": {
      "text/plain": [
       "[]"
      ]
     },
     "execution_count": 10,
     "metadata": {},
     "output_type": "execute_result"
    }
   ],
   "source": [
    "%%sql\n",
    "INSERT INTO member VALUES\n",
    "    (1, random_string(6),NULL,NULL,1,'Carroll','Roy',current_date + (floor(random() * 350 + 1)::int), floor(random() * 700 + 100)::int),\n",
    "    (2, random_string(6),NULL,NULL,1,'Brown','Clarence',current_date + (floor(random() * 350 + 1)::int), floor(random() * 700 + 100)::int),\n",
    "    (3, random_string(6),NULL,NULL,1,'Markx','Sabrina',current_date + (floor(random() * 350 + 1)::int), floor(random() * 700 + 100)::int),\n",
    "    (4, random_string(6),NULL,NULL,1,'Jonathan','Julia',current_date + (floor(random() * 350 + 1)::int), floor(random() * 700 + 100)::int),\n",
    "    (5, random_string(6),NULL,NULL,1,'Mike','Julian',current_date + (floor(random() * 350 + 1)::int), floor(random() * 700 + 100)::int),\n",
    "    (6, random_string(6),NULL,NULL,1,'Comb','Marlon',current_date + (floor(random() * 350 + 1)::int), floor(random() * 700 + 100)::int),\n",
    "    (7, random_string(6),NULL,NULL,1,'Pierce','Evan',current_date + (floor(random() * 350 + 1)::int), floor(random() * 700 + 100)::int),\n",
    "    (8, random_string(6),NULL,NULL,1,'Wong','Valerie',current_date + (floor(random() * 350 + 1)::int), floor(random() * 700 + 100)::int),\n",
    "    (9, random_string(6),NULL,NULL,1,'Marcella','Sandy',current_date + (floor(random() * 350 + 1)::int), floor(random() * 700 + 100)::int),\n",
    "    (10, random_string(6),NULL,NULL,1,'Logan','Bessie',current_date + (floor(random() * 350 + 1)::int), floor(random() * 700 + 100)::int),\n",
    "    (11, random_string(6),NULL,NULL,1,'Elliott','Seth',current_date + (floor(random() * 350 + 1)::int), floor(random() * 700 + 100)::int),\n",
    "    (12, random_string(6),NULL,NULL,1,'Sylvester','Randy',current_date + (floor(random() * 350 + 1)::int), floor(random() * 700 + 100)::int),\n",
    "    (13, random_string(6),NULL,NULL,1,'Cunningham','Harry',current_date + (floor(random() * 350 + 1)::int), floor(random() * 700 + 100)::int),\n",
    "    (14, random_string(6),NULL,NULL,1,'Carl','Ivan',current_date + (floor(random() * 350 + 1)::int), floor(random() * 700 + 100)::int),\n",
    "    (15, random_string(6),NULL,NULL,1,'Jacob','Lorene',current_date + (floor(random() * 350 + 1)::int), floor(random() * 700 + 100)::int),\n",
    "    (16, random_string(6),NULL,NULL,1,'Larry','Willie',current_date + (floor(random() * 350 + 1)::int), floor(random() * 700 + 100)::int),\n",
    "    (17, random_string(6),NULL,NULL,1,'Chris','Leigh',current_date + (floor(random() * 350 + 1)::int), floor(random() * 700 + 100)::int),\n",
    "    (18, random_string(6),NULL,NULL,1,'Andrew','Lois',current_date + (floor(random() * 350 + 1)::int), floor(random() * 700 + 100)::int),\n",
    "    (19, random_string(6),NULL,NULL,1,'Kayla','Katrina',current_date + (floor(random() * 350 + 1)::int), floor(random() * 700 + 100)::int),\n",
    "    (20, random_string(6),NULL,NULL,1,'Meyers','Lindsey',current_date + (floor(random() * 350 + 1)::int), floor(random() * 700 + 100)::int),\n",
    "    (21, random_string(6),NULL,NULL,1,'Schammel','Joel',current_date + (floor(random() * 350 + 1)::int), floor(random() * 700 + 100)::int),\n",
    "    (22, random_string(6),NULL,NULL,1,'Bailey','Peggy',current_date + (floor(random() * 350 + 1)::int), floor(random() * 700 + 100)::int),\n",
    "    (23, random_string(6),NULL,NULL,1,'Brenden','Robin',current_date + (floor(random() * 350 + 1)::int), floor(random() * 700 + 100)::int),\n",
    "    (24, random_string(6),NULL,NULL,1,'Trochtenberg','Janie',current_date + (floor(random() * 350 + 1)::int), floor(random() * 700 + 100)::int),\n",
    "    (25, random_string(6),NULL,NULL,1,'Barmann','Frances',current_date + (floor(random() * 350 + 1)::int), floor(random() * 700 + 100)::int),\n",
    "    (26, random_string(6),NULL,NULL,1,'Pangan','Perry',current_date + (floor(random() * 350 + 1)::int), floor(random() * 700 + 100)::int),\n",
    "    (27, random_string(6),NULL,NULL,1,'Dorrow','Lowell',current_date + (floor(random() * 350 + 1)::int), floor(random() * 700 + 100)::int),\n",
    "    (28, random_string(6),NULL,NULL,1,'Ferguson','Sergio',current_date + (floor(random() * 350 + 1)::int), floor(random() * 700 + 100)::int),\n",
    "    (29, random_string(6),NULL,NULL,1,'Brown','Karla',current_date + (floor(random() * 350 + 1)::int), floor(random() * 700 + 100)::int),\n",
    "    (30, random_string(6),NULL,NULL,1,'Johnson','Ross',current_date + (floor(random() * 350 + 1)::int), floor(random() * 700 + 100)::int),\n",
    "    (31, random_string(6),NULL,NULL,1,'Klump','Cindy',current_date + (floor(random() * 350 + 1)::int), floor(random() * 700 + 100)::int),\n",
    "    (32, random_string(6),NULL,NULL,1,'Dylan','Emily',current_date + (floor(random() * 350 + 1)::int), floor(random() * 700 + 100)::int),\n",
    "    (33, random_string(6),NULL,NULL,1,'Aaron','Elisa',current_date + (floor(random() * 350 + 1)::int), floor(random() * 700 + 100)::int),\n",
    "    (34, random_string(6),NULL,NULL,1,'Marisa','Martha',current_date + (floor(random() * 350 + 1)::int), floor(random() * 700 + 100)::int),\n",
    "    (35, random_string(6),NULL,NULL,1,'Emily','Muriel',current_date + (floor(random() * 350 + 1)::int), floor(random() * 700 + 100)::int),\n",
    "    (36, random_string(6),NULL,NULL,1,'Alex','Drew',current_date + (floor(random() * 350 + 1)::int), floor(random() * 700 + 100)::int),\n",
    "    (37, random_string(6),NULL,NULL,2,'Johnson','Veronica',current_date + (floor(random() * 350 + 1)::int), floor(random() * 700 + 100)::int),\n",
    "    (38, random_string(6),NULL,NULL,3,'Ali','Henry',current_date + (floor(random() * 350 + 1)::int), floor(random() * 700 + 100)::int),\n",
    "    (39, random_string(6),NULL,NULL,1,'Smith','Bryan',current_date + (floor(random() * 350 + 1)::int), floor(random() * 700 + 100)::int),\n",
    "    (40, random_string(6),NULL,NULL,1,'Steinsfield','Clark',current_date + (floor(random() * 350 + 1)::int), floor(random() * 700 + 100)::int),\n",
    "    (41, random_string(6),NULL,NULL,1,'Gasperino','Jessica',current_date + (floor(random() * 350 + 1)::int), floor(random() * 700 + 100)::int),\n",
    "    (42, random_string(6),NULL,NULL,1,'Gandy','Brent',current_date + (floor(random() * 350 + 1)::int), floor(random() * 700 + 100)::int),\n",
    "    (43, random_string(6),NULL,NULL,1,'Hollander','Crystal',current_date + (floor(random() * 350 + 1)::int), floor(random() * 700 + 100)::int),\n",
    "    (44, random_string(6),NULL,NULL,1,'Jacobson','Rudolph',current_date + (floor(random() * 350 + 1)::int), floor(random() * 700 + 100)::int),\n",
    "    (45, random_string(6),NULL,NULL,1,'McNally','Pam',current_date + (floor(random() * 350 + 1)::int), floor(random() * 700 + 100)::int),\n",
    "    (46, random_string(6),NULL,NULL,1,'Hunter','Jessica',current_date + (floor(random() * 350 + 1)::int), floor(random() * 700 + 100)::int),\n",
    "    (47, random_string(6),NULL,NULL,1,'Harbison','Phillip',current_date + (floor(random() * 350 + 1)::int), floor(random() * 700 + 100)::int),\n",
    "    (48, random_string(6),NULL,NULL,1,'Mathew','Geoffrey',current_date + (floor(random() * 350 + 1)::int), floor(random() * 700 + 100)::int),\n",
    "    (49, random_string(6),NULL,NULL,1,'Horatio','Dan',current_date + (floor(random() * 350 + 1)::int), floor(random() * 700 + 100)::int),\n",
    "    (50, random_string(6),NULL,NULL,1,'Mallory','Alyssa',current_date + (floor(random() * 350 + 1)::int), floor(random() * 700 + 100)::int),\n",
    "    (51, random_string(6),NULL,NULL,1,'Clarence','McNally',current_date + (floor(random() * 350 + 1)::int), floor(random() * 700 + 100)::int),\n",
    "    (52, random_string(6),NULL,NULL,1,'Jessica','Johnson',current_date + (floor(random() * 350 + 1)::int), floor(random() * 700 + 100)::int),\n",
    "    (53, random_string(6),NULL,NULL,3,'Veronica','Steinsfield',current_date + (floor(random() * 350 + 1)::int), floor(random() * 700 + 100)::int),\n",
    "    (54, random_string(6),NULL,NULL,1,'Veronica','Pam',current_date + (floor(random() * 350 + 1)::int), floor(random() * 700 + 100)::int),\n",
    "    (55, random_string(6),NULL,NULL,1,'Henry','Smith',current_date + (floor(random() * 350 + 1)::int), floor(random() * 700 + 100)::int),\n",
    "    (56, random_string(6),NULL,NULL,1,'Johnson','Roy',current_date + (floor(random() * 350 + 1)::int), floor(random() * 700 + 100)::int),\n",
    "    (57, random_string(6),NULL,NULL,1,'Hollander','Bryan',current_date + (floor(random() * 350 + 1)::int), floor(random() * 700 + 100)::int),\n",
    "    (58, random_string(6),NULL,NULL,1,'Gasperino','Muriel',current_date + (floor(random() * 350 + 1)::int), floor(random() * 700 + 100)::int),\n",
    "    (59, random_string(6),NULL,NULL,1,'Brent','Gandy',current_date + (floor(random() * 350 + 1)::int), floor(random() * 700 + 100)::int),\n",
    "    (60, random_string(6),NULL,NULL,1,'Jacobson','Perry',current_date + (floor(random() * 350 + 1)::int), floor(random() * 700 + 100)::int),\n",
    "    (61, random_string(6),NULL,NULL,1,'Klump','Lowell',current_date + (floor(random() * 350 + 1)::int), floor(random() * 700 + 100)::int),\n",
    "    (62, random_string(6),NULL,NULL,1,'Clarence','Cunningham',current_date + (floor(random() * 350 + 1)::int), floor(random() * 700 + 100)::int),\n",
    "    (63, random_string(6),NULL,NULL,3,'Gross','Charlotte',current_date + (floor(random() * 350 + 1)::int), floor(random() * 700 + 100)::int),\n",
    "    (64, random_string(6),NULL,NULL,1,'Francisco','Hoffman',current_date + (floor(random() * 350 + 1)::int), floor(random() * 700 + 100)::int),\n",
    "    (65, random_string(6),NULL,NULL,1,'Douglas','Antoinette',current_date + (floor(random() * 350 + 1)::int), floor(random() * 700 + 100)::int),\n",
    "    (66, random_string(6),NULL,NULL,1,'Graves','Melinda',current_date + (floor(random() * 350 + 1)::int), floor(random() * 700 + 100)::int),\n",
    "    (67, random_string(6),NULL,NULL,1,'Armstrong','Cecelia',current_date + (floor(random() * 350 + 1)::int), floor(random() * 700 + 100)::int),\n",
    "    (68, random_string(6),NULL,NULL,1,'Mcbride','Troy',current_date + (floor(random() * 350 + 1)::int), floor(random() * 700 + 100)::int),\n",
    "    (69, random_string(6),NULL,NULL,2,'Mcgee','Bobbie',current_date + (floor(random() * 350 + 1)::int), floor(random() * 700 + 100)::int),\n",
    "    (70, random_string(6),NULL,NULL,1,'Marshall','Debbie',current_date + (floor(random() * 350 + 1)::int), floor(random() * 700 + 100)::int),\n",
    "    (71, random_string(6),NULL,NULL,1,'Cooper','Natalie',current_date + (floor(random() * 350 + 1)::int), floor(random() * 700 + 100)::int),\n",
    "    (72, random_string(6),NULL,NULL,4,'Harmon','Corey',current_date + (floor(random() * 350 + 1)::int), floor(random() * 700 + 100)::int),\n",
    "    (73, random_string(6),NULL,NULL,1,'Black','Guillermo',current_date + (floor(random() * 350 + 1)::int), floor(random() * 700 + 100)::int),\n",
    "    (74, random_string(6),NULL,NULL,1,'Brewer','Larry',current_date + (floor(random() * 350 + 1)::int), floor(random() * 700 + 100)::int),\n",
    "    (75, random_string(6),NULL,NULL,1,'Hudson','Anne',current_date + (floor(random() * 350 + 1)::int), floor(random() * 700 + 100)::int),\n",
    "    (76, random_string(6),NULL,NULL,2,'Conner','Joe',current_date + (floor(random() * 350 + 1)::int), floor(random() * 700 + 100)::int),\n",
    "    (77, random_string(6),NULL,NULL,1,'Miles','May',current_date + (floor(random() * 350 + 1)::int), floor(random() * 700 + 100)::int),\n",
    "    (78, random_string(6),NULL,NULL,1,'Hayes','Katie',current_date + (floor(random() * 350 + 1)::int), floor(random() * 700 + 100)::int),\n",
    "    (79, random_string(6),NULL,NULL,1,'Boyd','Kyle',current_date + (floor(random() * 350 + 1)::int), floor(random() * 700 + 100)::int),\n",
    "    (80, random_string(6),NULL,NULL,1,'Rodriguez','Nick',current_date + (floor(random() * 350 + 1)::int), floor(random() * 700 + 100)::int),\n",
    "    (81, random_string(6),NULL,NULL,1,'Adams','Kim',current_date + (floor(random() * 350 + 1)::int), floor(random() * 700 + 100)::int),\n",
    "    (82, random_string(6),NULL,NULL,1,'Thompson','Nakia',current_date + (floor(random() * 350 + 1)::int), floor(random() * 700 + 100)::int),\n",
    "    (83, random_string(6),NULL,NULL,1,'Hale','Courtney',current_date + (floor(random() * 350 + 1)::int), floor(random() * 700 + 100)::int),\n",
    "    (84, random_string(6),NULL,NULL,1,'Harper','Jacob',current_date + (floor(random() * 350 + 1)::int), floor(random() * 700 + 100)::int),\n",
    "    (85, random_string(6),NULL,NULL,2,'Mckenzie','Syndey',current_date + (floor(random() * 350 + 1)::int), floor(random() * 700 + 100)::int),\n",
    "    (86, random_string(6),NULL,NULL,1,'Payne','Tyler',current_date + (floor(random() * 350 + 1)::int), floor(random() * 700 + 100)::int),\n",
    "    (87, random_string(6),NULL,NULL,1,'Carlson','Elijah',current_date + (floor(random() * 350 + 1)::int), floor(random() * 700 + 100)::int),\n",
    "    (88, random_string(6),NULL,NULL,1,'Mccarthy','Leroy',current_date + (floor(random() * 350 + 1)::int), floor(random() * 700 + 100)::int),\n",
    "    (89, random_string(6),NULL,NULL,1,'Mccormick','Ronald',current_date + (floor(random() * 350 + 1)::int), floor(random() * 700 + 100)::int),\n",
    "    (90, random_string(6),NULL,NULL,4,'Hill','McKenzie',current_date + (floor(random() * 350 + 1)::int), floor(random() * 700 + 100)::int),\n",
    "    (91, random_string(6),NULL,NULL,1,'Becker','Bea',current_date + (floor(random() * 350 + 1)::int), floor(random() * 700 + 100)::int),\n",
    "    (92, random_string(6),NULL,NULL,1,'West','Jess',current_date + (floor(random() * 350 + 1)::int), floor(random() * 700 + 100)::int),\n",
    "    (93, random_string(6),NULL,NULL,1,'Garth','Mitt',current_date + (floor(random() * 350 + 1)::int), floor(random() * 700 + 100)::int),\n",
    "    (94, random_string(6),NULL,NULL,2,'Brooks','Micheal',current_date + (floor(random() * 350 + 1)::int), floor(random() * 700 + 100)::int),\n",
    "    (95, random_string(6),NULL,NULL,1,'Brown','Mitch',current_date + (floor(random() * 350 + 1)::int), floor(random() * 700 + 100)::int),\n",
    "    (96, random_string(6),NULL,NULL,1,'Marxkors','Joe',current_date + (floor(random() * 350 + 1)::int), floor(random() * 700 + 100)::int),\n",
    "    (97, random_string(6),NULL,NULL,1,'Billy','Julie',current_date + (floor(random() * 350 + 1)::int), floor(random() * 700 + 100)::int),\n",
    "    (98, random_string(6),NULL,NULL,1,'Van Hugh','Kate',current_date + (floor(random() * 350 + 1)::int), floor(random() * 700 + 100)::int),\n",
    "    (99, random_string(6),NULL,NULL,4,'Roberts','Annie',current_date + (floor(random() * 350 + 1)::int), floor(random() * 700 + 100)::int),\n",
    "    (100, random_string(6),NULL,NULL,4,'Ca','Tom',current_date + (floor(random() * 350 + 1)::int), floor(random() * 700 + 100)::int)\n",
    ";"
   ]
  },
  {
   "cell_type": "code",
   "execution_count": null,
   "metadata": {
    "collapsed": true
   },
   "outputs": [],
   "source": [
    "# %%sql\n",
    "# SELECT * FROM member LIMIT 20;"
   ]
  },
  {
   "cell_type": "markdown",
   "metadata": {},
   "source": [
    "## member_address table"
   ]
  },
  {
   "cell_type": "code",
   "execution_count": 11,
   "metadata": {},
   "outputs": [
    {
     "name": "stdout",
     "output_type": "stream",
     "text": [
      "Done.\n"
     ]
    },
    {
     "data": {
      "text/plain": [
       "[]"
      ]
     },
     "execution_count": 11,
     "metadata": {},
     "output_type": "execute_result"
    }
   ],
   "source": [
    "%%sql\n",
    "CREATE TABLE member_address (\n",
    "    student_id INTEGER REFERENCES member (student_id) ON DELETE CASCADE,\n",
    "    street_address VARCHAR(255),\n",
    "    city VARCHAR(100),\n",
    "    state VARCHAR(100),\n",
    "    zip_code VARCHAR(100)\n",
    ");"
   ]
  },
  {
   "cell_type": "code",
   "execution_count": 12,
   "metadata": {},
   "outputs": [
    {
     "name": "stdout",
     "output_type": "stream",
     "text": [
      "Done.\n"
     ]
    },
    {
     "data": {
      "text/plain": [
       "[]"
      ]
     },
     "execution_count": 12,
     "metadata": {},
     "output_type": "execute_result"
    }
   ],
   "source": [
    "%%sql\n",
    "TRUNCATE member_address CASCADE;"
   ]
  },
  {
   "cell_type": "code",
   "execution_count": 13,
   "metadata": {},
   "outputs": [
    {
     "name": "stdout",
     "output_type": "stream",
     "text": [
      "50 rows affected.\n"
     ]
    },
    {
     "data": {
      "text/plain": [
       "[]"
      ]
     },
     "execution_count": 13,
     "metadata": {},
     "output_type": "execute_result"
    }
   ],
   "source": [
    "%%sql\n",
    "INSERT INTO member_address VALUES\n",
    "    (1, (floor(random() * 2500 + 1000)::int) || ' ' || random_string(5), 'Columbia', 'MO', '65211'),\n",
    "    (2, (floor(random() * 2500 + 1000)::int) || ' ' || random_string(5), 'Columbia', 'MO', '65211'),\n",
    "    (3, (floor(random() * 2500 + 1000)::int) || ' ' || random_string(5), 'Columbia', 'MO', '65211'),\n",
    "    (4, (floor(random() * 2500 + 1000)::int) || ' ' || random_string(5), 'Columbia', 'MO', '65211'),\n",
    "    (5, (floor(random() * 2500 + 1000)::int) || ' ' || random_string(5), 'Columbia', 'MO', '65211'),\n",
    "    (6, (floor(random() * 2500 + 1000)::int) || ' ' || random_string(5), 'Columbia', 'MO', '65211'),\n",
    "    (7, (floor(random() * 2500 + 1000)::int) || ' ' || random_string(5), 'Columbia', 'MO', '65211'),\n",
    "    (8, (floor(random() * 2500 + 1000)::int) || ' ' || random_string(5), 'Columbia', 'MO', '65211'),\n",
    "    (9, (floor(random() * 2500 + 1000)::int) || ' ' || random_string(5), 'Columbia', 'MO', '65211'),\n",
    "    (10, (floor(random() * 2500 + 1000)::int) || ' ' || random_string(5), 'Columbia', 'MO', '65211'),\n",
    "    (11, (floor(random() * 2500 + 1000)::int) || ' ' || random_string(5), 'Columbia', 'MO', '65211'),\n",
    "    (12, (floor(random() * 2500 + 1000)::int) || ' ' || random_string(5), 'Columbia', 'MO', '65211'),\n",
    "    (13, (floor(random() * 2500 + 1000)::int) || ' ' || random_string(5), 'Columbia', 'MO', '65211'),\n",
    "    (14, (floor(random() * 2500 + 1000)::int) || ' ' || random_string(5), 'Columbia', 'MO', '65211'),\n",
    "    (15, (floor(random() * 2500 + 1000)::int) || ' ' || random_string(5), 'Columbia', 'MO', '65211'),\n",
    "    (16, (floor(random() * 2500 + 1000)::int) || ' ' || random_string(5), 'Columbia', 'MO', '65211'),\n",
    "    (17, (floor(random() * 2500 + 1000)::int) || ' ' || random_string(5), 'Columbia', 'MO', '65211'),\n",
    "    (18, (floor(random() * 2500 + 1000)::int) || ' ' || random_string(5), 'Columbia', 'MO', '65211'),\n",
    "    (19, (floor(random() * 2500 + 1000)::int) || ' ' || random_string(5), 'Columbia', 'MO', '65211'),\n",
    "    (20, (floor(random() * 2500 + 1000)::int) || ' ' || random_string(5), 'Columbia', 'MO', '65211'),\n",
    "    (21, (floor(random() * 2500 + 1000)::int) || ' ' || random_string(5), 'Columbia', 'MO', '65211'),\n",
    "    (22, (floor(random() * 2500 + 1000)::int) || ' ' || random_string(5), 'Columbia', 'MO', '65211'),\n",
    "    (23, (floor(random() * 2500 + 1000)::int) || ' ' || random_string(5), 'Columbia', 'MO', '65211'),\n",
    "    (24, (floor(random() * 2500 + 1000)::int) || ' ' || random_string(5), 'Columbia', 'MO', '65211'),\n",
    "    (25, (floor(random() * 2500 + 1000)::int) || ' ' || random_string(5), 'Columbia', 'MO', '65211'),\n",
    "    (26, (floor(random() * 2500 + 1000)::int) || ' ' || random_string(5), 'Columbia', 'MO', '65211'),\n",
    "    (27, (floor(random() * 2500 + 1000)::int) || ' ' || random_string(5), 'Columbia', 'MO', '65211'),\n",
    "    (28, (floor(random() * 2500 + 1000)::int) || ' ' || random_string(5), 'Columbia', 'MO', '65211'),\n",
    "    (29, (floor(random() * 2500 + 1000)::int) || ' ' || random_string(5), 'Columbia', 'MO', '65211'),\n",
    "    (30, (floor(random() * 2500 + 1000)::int) || ' ' || random_string(5), 'Columbia', 'MO', '65211'),\n",
    "    (31, (floor(random() * 2500 + 1000)::int) || ' ' || random_string(5), 'Columbia', 'MO', '65211'),\n",
    "    (32, (floor(random() * 2500 + 1000)::int) || ' ' || random_string(5), 'Columbia', 'MO', '65211'),\n",
    "    (33, (floor(random() * 2500 + 1000)::int) || ' ' || random_string(5), 'Columbia', 'MO', '65211'),\n",
    "    (34, (floor(random() * 2500 + 1000)::int) || ' ' || random_string(5), 'Columbia', 'MO', '65211'),\n",
    "    (35, (floor(random() * 2500 + 1000)::int) || ' ' || random_string(5), 'Columbia', 'MO', '65211'),\n",
    "    (36, (floor(random() * 2500 + 1000)::int) || ' ' || random_string(5), 'Columbia', 'MO', '65211'),\n",
    "    (37, (floor(random() * 2500 + 1000)::int) || ' ' || random_string(5), 'Columbia', 'MO', '65211'),\n",
    "    (38, (floor(random() * 2500 + 1000)::int) || ' ' || random_string(5), 'Columbia', 'MO', '65211'),\n",
    "    (39, (floor(random() * 2500 + 1000)::int) || ' ' || random_string(5), 'Columbia', 'MO', '65211'),\n",
    "    (40, (floor(random() * 2500 + 1000)::int) || ' ' || random_string(5), 'Columbia', 'MO', '65211'),\n",
    "    (41, (floor(random() * 2500 + 1000)::int) || ' ' || random_string(5), 'Columbia', 'MO', '65211'),\n",
    "    (42, (floor(random() * 2500 + 1000)::int) || ' ' || random_string(5), 'Columbia', 'MO', '65211'),\n",
    "    (43, (floor(random() * 2500 + 1000)::int) || ' ' || random_string(5), 'Columbia', 'MO', '65211'),\n",
    "    (44, (floor(random() * 2500 + 1000)::int) || ' ' || random_string(5), 'Columbia', 'MO', '65211'),\n",
    "    (45, (floor(random() * 2500 + 1000)::int) || ' ' || random_string(5), 'Columbia', 'MO', '65211'),\n",
    "    (46, (floor(random() * 2500 + 1000)::int) || ' ' || random_string(5), 'Columbia', 'MO', '65211'),\n",
    "    (47, (floor(random() * 2500 + 1000)::int) || ' ' || random_string(5), 'Columbia', 'MO', '65211'),\n",
    "    (48, (floor(random() * 2500 + 1000)::int) || ' ' || random_string(5), 'Columbia', 'MO', '65211'),\n",
    "    (49, (floor(random() * 2500 + 1000)::int) || ' ' || random_string(5), 'Columbia', 'MO', '65211'),\n",
    "    (50, (floor(random() * 2500 + 1000)::int) || ' ' || random_string(5), 'Columbia', 'MO', '65211')\n",
    ";"
   ]
  },
  {
   "cell_type": "markdown",
   "metadata": {},
   "source": [
    "## member_contact table"
   ]
  },
  {
   "cell_type": "code",
   "execution_count": 14,
   "metadata": {},
   "outputs": [
    {
     "name": "stdout",
     "output_type": "stream",
     "text": [
      "Done.\n"
     ]
    },
    {
     "data": {
      "text/plain": [
       "[]"
      ]
     },
     "execution_count": 14,
     "metadata": {},
     "output_type": "execute_result"
    }
   ],
   "source": [
    "%%sql\n",
    "CREATE TABLE member_contact (\n",
    "    student_id INTEGER REFERENCES member (student_id) ON DELETE CASCADE,\n",
    "    email_address VARCHAR(255),\n",
    "    phone_number VARCHAR(25)\n",
    ");"
   ]
  },
  {
   "cell_type": "code",
   "execution_count": 15,
   "metadata": {},
   "outputs": [
    {
     "name": "stdout",
     "output_type": "stream",
     "text": [
      "Done.\n"
     ]
    },
    {
     "data": {
      "text/plain": [
       "[]"
      ]
     },
     "execution_count": 15,
     "metadata": {},
     "output_type": "execute_result"
    }
   ],
   "source": [
    "%%sql\n",
    "TRUNCATE member_contact CASCADE;"
   ]
  },
  {
   "cell_type": "code",
   "execution_count": 16,
   "metadata": {},
   "outputs": [
    {
     "name": "stdout",
     "output_type": "stream",
     "text": [
      "50 rows affected.\n"
     ]
    },
    {
     "data": {
      "text/plain": [
       "[]"
      ]
     },
     "execution_count": 16,
     "metadata": {},
     "output_type": "execute_result"
    }
   ],
   "source": [
    "%%sql\n",
    "INSERT INTO member_contact VALUES\n",
    "    (1, random_string(6) || '@mail.missouri.edu'),\n",
    "    (2, random_string(6) || '@mail.missouri.edu'),\n",
    "    (3, random_string(6) || '@mail.missouri.edu'),\n",
    "    (4, random_string(6) || '@mail.missouri.edu'),\n",
    "    (5, random_string(6) || '@mail.missouri.edu'),\n",
    "    (6, random_string(6) || '@mail.missouri.edu'),\n",
    "    (7, random_string(6) || '@mail.missouri.edu'),\n",
    "    (8, random_string(6) || '@mail.missouri.edu'),\n",
    "    (9, random_string(6) || '@mail.missouri.edu'),\n",
    "    (10, random_string(6) || '@mail.missouri.edu'),\n",
    "    (11, random_string(6) || '@mail.missouri.edu'),\n",
    "    (12, random_string(6) || '@mail.missouri.edu'),\n",
    "    (13, random_string(6) || '@mail.missouri.edu'),\n",
    "    (14, random_string(6) || '@mail.missouri.edu'),\n",
    "    (15, random_string(6) || '@mail.missouri.edu'),\n",
    "    (16, random_string(6) || '@mail.missouri.edu'),\n",
    "    (17, random_string(6) || '@mail.missouri.edu'),\n",
    "    (18, random_string(6) || '@mail.missouri.edu'),\n",
    "    (19, random_string(6) || '@mail.missouri.edu'),\n",
    "    (20, random_string(6) || '@mail.missouri.edu'),\n",
    "    (21, random_string(6) || '@mail.missouri.edu'),\n",
    "    (22, random_string(6) || '@mail.missouri.edu'),\n",
    "    (23, random_string(6) || '@mail.missouri.edu'),\n",
    "    (24, random_string(6) || '@mail.missouri.edu'),\n",
    "    (25, random_string(6) || '@mail.missouri.edu'),\n",
    "    (26, random_string(6) || '@mail.missouri.edu'),\n",
    "    (27, random_string(6) || '@mail.missouri.edu'),\n",
    "    (28, random_string(6) || '@mail.missouri.edu'),\n",
    "    (29, random_string(6) || '@mail.missouri.edu'),\n",
    "    (30, random_string(6) || '@mail.missouri.edu'),\n",
    "    (31, random_string(6) || '@mail.missouri.edu'),\n",
    "    (32, random_string(6) || '@mail.missouri.edu'),\n",
    "    (33, random_string(6) || '@mail.missouri.edu'),\n",
    "    (34, random_string(6) || '@mail.missouri.edu'),\n",
    "    (35, random_string(6) || '@mail.missouri.edu'),\n",
    "    (36, random_string(6) || '@mail.missouri.edu'),\n",
    "    (37, random_string(6) || '@mail.missouri.edu'),\n",
    "    (38, random_string(6) || '@mail.missouri.edu'),\n",
    "    (39, random_string(6) || '@mail.missouri.edu'),\n",
    "    (40, random_string(6) || '@mail.missouri.edu'),\n",
    "    (41, random_string(6) || '@mail.missouri.edu'),\n",
    "    (42, random_string(6) || '@mail.missouri.edu'),\n",
    "    (43, random_string(6) || '@mail.missouri.edu'),\n",
    "    (44, random_string(6) || '@mail.missouri.edu'),\n",
    "    (45, random_string(6) || '@mail.missouri.edu'),\n",
    "    (46, random_string(6) || '@mail.missouri.edu'),\n",
    "    (47, random_string(6) || '@mail.missouri.edu'),\n",
    "    (48, random_string(6) || '@mail.missouri.edu'),\n",
    "    (49, random_string(6) || '@mail.missouri.edu'),\n",
    "    (50, random_string(6) || '@mail.missouri.edu')\n",
    ";"
   ]
  },
  {
   "cell_type": "markdown",
   "metadata": {},
   "source": [
    "## emergencyContact table"
   ]
  },
  {
   "cell_type": "code",
   "execution_count": 17,
   "metadata": {},
   "outputs": [
    {
     "name": "stdout",
     "output_type": "stream",
     "text": [
      "Done.\n"
     ]
    },
    {
     "data": {
      "text/plain": [
       "[]"
      ]
     },
     "execution_count": 17,
     "metadata": {},
     "output_type": "execute_result"
    }
   ],
   "source": [
    "%%sql \n",
    "CREATE TABLE emergencyContact (\n",
    "    student_id INTEGER REFERENCES member (student_id) ON DELETE CASCADE,\n",
    "    last_name VARCHAR(50),\n",
    "    first_name VARCHAR(50),\n",
    "    email_address VARCHAR(255),\n",
    "    phone_number VARCHAR(25),\n",
    "    backup_phone_number VARCHAR(25),\n",
    "    street_address VARCHAR(255),\n",
    "    city VARCHAR(100),\n",
    "    state VARCHAR(100),\n",
    "    zip_code VARCHAR(100),\n",
    "    primary_healthcare_provider VARCHAR(255),\n",
    "    blood_type VARCHAR(25),\n",
    "    medical_conditions VARCHAR(255),\n",
    "    medications VARCHAR(255),\n",
    "    allergies VARCHAR(255),\n",
    "    PRIMARY KEY (student_id)\n",
    ");"
   ]
  },
  {
   "cell_type": "code",
   "execution_count": 18,
   "metadata": {},
   "outputs": [
    {
     "name": "stdout",
     "output_type": "stream",
     "text": [
      "Done.\n"
     ]
    },
    {
     "data": {
      "text/plain": [
       "[]"
      ]
     },
     "execution_count": 18,
     "metadata": {},
     "output_type": "execute_result"
    }
   ],
   "source": [
    "%%sql\n",
    "TRUNCATE emergencyContact CASCADE;"
   ]
  },
  {
   "cell_type": "code",
   "execution_count": 19,
   "metadata": {},
   "outputs": [
    {
     "name": "stdout",
     "output_type": "stream",
     "text": [
      "50 rows affected.\n"
     ]
    },
    {
     "data": {
      "text/plain": [
       "[]"
      ]
     },
     "execution_count": 19,
     "metadata": {},
     "output_type": "execute_result"
    }
   ],
   "source": [
    "%%sql\n",
    "INSERT INTO emergencyContact VALUES\n",
    "    (100,random_string(8),random_string(5),random_string(6) || '@mail.missouri.edu',NULL,NULL,(floor(random() * 2500 + 1000)::int) || ' ' || random_string(5),'Columbia','MO','65211'),\n",
    "    (99,random_string(8),random_string(5),random_string(6) || '@mail.missouri.edu',NULL,NULL,(floor(random() * 2500 + 1000)::int) || ' ' || random_string(5),'Columbia','MO','65211'),\n",
    "    (98,random_string(8),random_string(5),random_string(6) || '@mail.missouri.edu',NULL,NULL,(floor(random() * 2500 + 1000)::int) || ' ' || random_string(5),'Columbia','MO','65211'),\n",
    "    (97,random_string(8),random_string(5),random_string(6) || '@mail.missouri.edu',NULL,NULL,(floor(random() * 2500 + 1000)::int) || ' ' || random_string(5),'Columbia','MO','65211'),\n",
    "    (96,random_string(8),random_string(5),random_string(6) || '@mail.missouri.edu',NULL,NULL,(floor(random() * 2500 + 1000)::int) || ' ' || random_string(5),'Columbia','MO','65211'),\n",
    "    (95,random_string(8),random_string(5),random_string(6) || '@mail.missouri.edu',NULL,NULL,(floor(random() * 2500 + 1000)::int) || ' ' || random_string(5),'Columbia','MO','65211'),\n",
    "    (94,random_string(8),random_string(5),random_string(6) || '@mail.missouri.edu',NULL,NULL,(floor(random() * 2500 + 1000)::int) || ' ' || random_string(5),'Columbia','MO','65211'),\n",
    "    (93,random_string(8),random_string(5),random_string(6) || '@mail.missouri.edu',NULL,NULL,(floor(random() * 2500 + 1000)::int) || ' ' || random_string(5),'Columbia','MO','65211'),\n",
    "    (92,random_string(8),random_string(5),random_string(6) || '@mail.missouri.edu',NULL,NULL,(floor(random() * 2500 + 1000)::int) || ' ' || random_string(5),'Columbia','MO','65211'),\n",
    "    (91,random_string(8),random_string(5),random_string(6) || '@mail.missouri.edu',NULL,NULL,(floor(random() * 2500 + 1000)::int) || ' ' || random_string(5),'Columbia','MO','65211'),\n",
    "    (90,random_string(8),random_string(5),random_string(6) || '@mail.missouri.edu',NULL,NULL,(floor(random() * 2500 + 1000)::int) || ' ' || random_string(5),'Columbia','MO','65211'),\n",
    "    (89,random_string(8),random_string(5),random_string(6) || '@mail.missouri.edu',NULL,NULL,(floor(random() * 2500 + 1000)::int) || ' ' || random_string(5),'Columbia','MO','65211'),\n",
    "    (88,random_string(8),random_string(5),random_string(6) || '@mail.missouri.edu',NULL,NULL,(floor(random() * 2500 + 1000)::int) || ' ' || random_string(5),'Columbia','MO','65211'),\n",
    "    (87,random_string(8),random_string(5),random_string(6) || '@mail.missouri.edu',NULL,NULL,(floor(random() * 2500 + 1000)::int) || ' ' || random_string(5),'Columbia','MO','65211'),\n",
    "    (86,random_string(8),random_string(5),random_string(6) || '@mail.missouri.edu',NULL,NULL,(floor(random() * 2500 + 1000)::int) || ' ' || random_string(5),'Columbia','MO','65211'),\n",
    "    (85,random_string(8),random_string(5),random_string(6) || '@mail.missouri.edu',NULL,NULL,(floor(random() * 2500 + 1000)::int) || ' ' || random_string(5),'Columbia','MO','65211'),\n",
    "    (84,random_string(8),random_string(5),random_string(6) || '@mail.missouri.edu',NULL,NULL,(floor(random() * 2500 + 1000)::int) || ' ' || random_string(5),'Columbia','MO','65211'),\n",
    "    (83,random_string(8),random_string(5),random_string(6) || '@mail.missouri.edu',NULL,NULL,(floor(random() * 2500 + 1000)::int) || ' ' || random_string(5),'Columbia','MO','65211'),\n",
    "    (82,random_string(8),random_string(5),random_string(6) || '@mail.missouri.edu',NULL,NULL,(floor(random() * 2500 + 1000)::int) || ' ' || random_string(5),'Columbia','MO','65211'),\n",
    "    (81,random_string(8),random_string(5),random_string(6) || '@mail.missouri.edu',NULL,NULL,(floor(random() * 2500 + 1000)::int) || ' ' || random_string(5),'Columbia','MO','65211'),\n",
    "    (80,random_string(8),random_string(5),random_string(6) || '@mail.missouri.edu',NULL,NULL,(floor(random() * 2500 + 1000)::int) || ' ' || random_string(5),'Columbia','MO','65211'),\n",
    "    (79,random_string(8),random_string(5),random_string(6) || '@mail.missouri.edu',NULL,NULL,(floor(random() * 2500 + 1000)::int) || ' ' || random_string(5),'Columbia','MO','65211'),\n",
    "    (78,random_string(8),random_string(5),random_string(6) || '@mail.missouri.edu',NULL,NULL,(floor(random() * 2500 + 1000)::int) || ' ' || random_string(5),'Columbia','MO','65211'),\n",
    "    (77,random_string(8),random_string(5),random_string(6) || '@mail.missouri.edu',NULL,NULL,(floor(random() * 2500 + 1000)::int) || ' ' || random_string(5),'Columbia','MO','65211'),\n",
    "    (76,random_string(8),random_string(5),random_string(6) || '@mail.missouri.edu',NULL,NULL,(floor(random() * 2500 + 1000)::int) || ' ' || random_string(5),'Columbia','MO','65211'),\n",
    "    (75,random_string(8),random_string(5),random_string(6) || '@mail.missouri.edu',NULL,NULL,(floor(random() * 2500 + 1000)::int) || ' ' || random_string(5),'Columbia','MO','65211'),\n",
    "    (74,random_string(8),random_string(5),random_string(6) || '@mail.missouri.edu',NULL,NULL,(floor(random() * 2500 + 1000)::int) || ' ' || random_string(5),'Columbia','MO','65211'),\n",
    "    (73,random_string(8),random_string(5),random_string(6) || '@mail.missouri.edu',NULL,NULL,(floor(random() * 2500 + 1000)::int) || ' ' || random_string(5),'Columbia','MO','65211'),\n",
    "    (72,random_string(8),random_string(5),random_string(6) || '@mail.missouri.edu',NULL,NULL,(floor(random() * 2500 + 1000)::int) || ' ' || random_string(5),'Columbia','MO','65211'),\n",
    "    (71,random_string(8),random_string(5),random_string(6) || '@mail.missouri.edu',NULL,NULL,(floor(random() * 2500 + 1000)::int) || ' ' || random_string(5),'Columbia','MO','65211'),\n",
    "    (70,random_string(8),random_string(5),random_string(6) || '@mail.missouri.edu',NULL,NULL,(floor(random() * 2500 + 1000)::int) || ' ' || random_string(5),'Columbia','MO','65211'),\n",
    "    (69,random_string(8),random_string(5),random_string(6) || '@mail.missouri.edu',NULL,NULL,(floor(random() * 2500 + 1000)::int) || ' ' || random_string(5),'Columbia','MO','65211'),\n",
    "    (68,random_string(8),random_string(5),random_string(6) || '@mail.missouri.edu',NULL,NULL,(floor(random() * 2500 + 1000)::int) || ' ' || random_string(5),'Columbia','MO','65211'),\n",
    "    (67,random_string(8),random_string(5),random_string(6) || '@mail.missouri.edu',NULL,NULL,(floor(random() * 2500 + 1000)::int) || ' ' || random_string(5),'Columbia','MO','65211'),\n",
    "    (66,random_string(8),random_string(5),random_string(6) || '@mail.missouri.edu',NULL,NULL,(floor(random() * 2500 + 1000)::int) || ' ' || random_string(5),'Columbia','MO','65211'),\n",
    "    (65,random_string(8),random_string(5),random_string(6) || '@mail.missouri.edu',NULL,NULL,(floor(random() * 2500 + 1000)::int) || ' ' || random_string(5),'Columbia','MO','65211'),\n",
    "    (64,random_string(8),random_string(5),random_string(6) || '@mail.missouri.edu',NULL,NULL,(floor(random() * 2500 + 1000)::int) || ' ' || random_string(5),'Columbia','MO','65211'),\n",
    "    (63,random_string(8),random_string(5),random_string(6) || '@mail.missouri.edu',NULL,NULL,(floor(random() * 2500 + 1000)::int) || ' ' || random_string(5),'Columbia','MO','65211'),\n",
    "    (62,random_string(8),random_string(5),random_string(6) || '@mail.missouri.edu',NULL,NULL,(floor(random() * 2500 + 1000)::int) || ' ' || random_string(5),'Columbia','MO','65211'),\n",
    "    (61,random_string(8),random_string(5),random_string(6) || '@mail.missouri.edu',NULL,NULL,(floor(random() * 2500 + 1000)::int) || ' ' || random_string(5),'Columbia','MO','65211'),\n",
    "    (60,random_string(8),random_string(5),random_string(6) || '@mail.missouri.edu',NULL,NULL,(floor(random() * 2500 + 1000)::int) || ' ' || random_string(5),'Columbia','MO','65211'),\n",
    "    (59,random_string(8),random_string(5),random_string(6) || '@mail.missouri.edu',NULL,NULL,(floor(random() * 2500 + 1000)::int) || ' ' || random_string(5),'Columbia','MO','65211'),\n",
    "    (58,random_string(8),random_string(5),random_string(6) || '@mail.missouri.edu',NULL,NULL,(floor(random() * 2500 + 1000)::int) || ' ' || random_string(5),'Columbia','MO','65211'),\n",
    "    (57,random_string(8),random_string(5),random_string(6) || '@mail.missouri.edu',NULL,NULL,(floor(random() * 2500 + 1000)::int) || ' ' || random_string(5),'Columbia','MO','65211'),\n",
    "    (56,random_string(8),random_string(5),random_string(6) || '@mail.missouri.edu',NULL,NULL,(floor(random() * 2500 + 1000)::int) || ' ' || random_string(5),'Columbia','MO','65211'),\n",
    "    (55,random_string(8),random_string(5),random_string(6) || '@mail.missouri.edu',NULL,NULL,(floor(random() * 2500 + 1000)::int) || ' ' || random_string(5),'Columbia','MO','65211'),\n",
    "    (54,random_string(8),random_string(5),random_string(6) || '@mail.missouri.edu',NULL,NULL,(floor(random() * 2500 + 1000)::int) || ' ' || random_string(5),'Columbia','MO','65211'),\n",
    "    (53,random_string(8),random_string(5),random_string(6) || '@mail.missouri.edu',NULL,NULL,(floor(random() * 2500 + 1000)::int) || ' ' || random_string(5),'Columbia','MO','65211'),\n",
    "    (52,random_string(8),random_string(5),random_string(6) || '@mail.missouri.edu',NULL,NULL,(floor(random() * 2500 + 1000)::int) || ' ' || random_string(5),'Columbia','MO','65211'),\n",
    "    (51,random_string(8),random_string(5),random_string(6) || '@mail.missouri.edu',NULL,NULL,(floor(random() * 2500 + 1000)::int) || ' ' || random_string(5),'Columbia','MO','65211')\n",
    ";"
   ]
  },
  {
   "cell_type": "markdown",
   "metadata": {},
   "source": [
    "## memberDues table"
   ]
  },
  {
   "cell_type": "code",
   "execution_count": 20,
   "metadata": {},
   "outputs": [
    {
     "name": "stdout",
     "output_type": "stream",
     "text": [
      "Done.\n"
     ]
    },
    {
     "data": {
      "text/plain": [
       "[]"
      ]
     },
     "execution_count": 20,
     "metadata": {},
     "output_type": "execute_result"
    }
   ],
   "source": [
    "%%sql \n",
    "CREATE TABLE memberDues (\n",
    "    student_id INTEGER UNIQUE REFERENCES member (student_id) ON DELETE CASCADE,\n",
    "    dues_id INTEGER UNIQUE,\n",
    "    amount_owed REAL,\n",
    "    amount_paid REAL,\n",
    "    payment_method VARCHAR(25),\n",
    "    notes VARCHAR(255),\n",
    "    PRIMARY KEY (student_id, dues_id)\n",
    ");"
   ]
  },
  {
   "cell_type": "code",
   "execution_count": 21,
   "metadata": {},
   "outputs": [
    {
     "name": "stdout",
     "output_type": "stream",
     "text": [
      "Done.\n"
     ]
    },
    {
     "data": {
      "text/plain": [
       "[]"
      ]
     },
     "execution_count": 21,
     "metadata": {},
     "output_type": "execute_result"
    }
   ],
   "source": [
    "%%sql\n",
    "TRUNCATE memberDues CASCADE;"
   ]
  },
  {
   "cell_type": "code",
   "execution_count": 22,
   "metadata": {},
   "outputs": [
    {
     "name": "stdout",
     "output_type": "stream",
     "text": [
      "54 rows affected.\n"
     ]
    },
    {
     "data": {
      "text/plain": [
       "[]"
      ]
     },
     "execution_count": 22,
     "metadata": {},
     "output_type": "execute_result"
    }
   ],
   "source": [
    "%%sql\n",
    "INSERT INTO memberDues VALUES\n",
    "    /*(floor(random() * 100 + 1)::int, 1 ,125.00,round((random()*(125-1)+1)::numeric, 2)),*/\n",
    "    (100, 1 ,125.00,round((random()*(125-1)+1)::numeric, 2)),\n",
    "    (99, 2 ,125.00,round((random()*(125-1)+1)::numeric, 2)),\n",
    "    (98, 3 ,125.00,round((random()*(125-1)+1)::numeric, 2)),\n",
    "    (97, 4 ,125.00,round((random()*(125-1)+1)::numeric, 2)),\n",
    "    (96, 5 ,125.00,round((random()*(125-1)+1)::numeric, 2)),\n",
    "    (95, 6 ,125.00,round((random()*(125-1)+1)::numeric, 2)),\n",
    "    (94, 7 ,125.00,round((random()*(125-1)+1)::numeric, 2)),\n",
    "    (93, 8 ,125.00,round((random()*(125-1)+1)::numeric, 2)),\n",
    "    (92, 9 ,125.00,round((random()*(125-1)+1)::numeric, 2)),\n",
    "    (91, 10 ,125.00,round((random()*(125-1)+1)::numeric, 2)),\n",
    "    (90, 11 ,125.00,round((random()*(125-1)+1)::numeric, 2)),\n",
    "    (89, 12 ,125.00,round((random()*(125-1)+1)::numeric, 2)),\n",
    "    (88, 13 ,125.00,round((random()*(125-1)+1)::numeric, 2)),\n",
    "    (87, 14 ,125.00,round((random()*(125-1)+1)::numeric, 2)),\n",
    "    (86, 15 ,125.00,round((random()*(125-1)+1)::numeric, 2)),\n",
    "    (85, 16 ,125.00,round((random()*(125-1)+1)::numeric, 2)),\n",
    "    (84, 17 ,125.00,round((random()*(125-1)+1)::numeric, 2)),\n",
    "    (83, 18 ,125.00,round((random()*(125-1)+1)::numeric, 2)),\n",
    "    (82, 19 ,125.00,round((random()*(125-1)+1)::numeric, 2)),\n",
    "    (81, 20 ,125.00,round((random()*(125-1)+1)::numeric, 2)),\n",
    "    (80, 21 ,125.00,round((random()*(125-1)+1)::numeric, 2)),\n",
    "    (79, 22 ,125.00,round((random()*(125-1)+1)::numeric, 2)),\n",
    "    (78, 23 ,125.00,round((random()*(125-1)+1)::numeric, 2)),\n",
    "    (77, 24 ,125.00,round((random()*(125-1)+1)::numeric, 2)),\n",
    "    (76, 25 ,125.00,round((random()*(125-1)+1)::numeric, 2)),\n",
    "    (75, 26 ,125.00,round((random()*(125-1)+1)::numeric, 2)),\n",
    "    (74, 27 ,125.00,round((random()*(125-1)+1)::numeric, 2)),\n",
    "    (73, 28 ,125.00,round((random()*(125-1)+1)::numeric, 2)),\n",
    "    (72, 29 ,125.00,round((random()*(125-1)+1)::numeric, 2)),\n",
    "    (71, 30 ,125.00,round((random()*(125-1)+1)::numeric, 2)),\n",
    "    (70, 31 ,125.00,round((random()*(125-1)+1)::numeric, 2)),\n",
    "    (69, 32 ,125.00,round((random()*(125-1)+1)::numeric, 2)),\n",
    "    (68, 33 ,125.00,round((random()*(125-1)+1)::numeric, 2)),\n",
    "    (67, 34 ,125.00,round((random()*(125-1)+1)::numeric, 2)),\n",
    "    (66, 35 ,125.00,round((random()*(125-1)+1)::numeric, 2)),\n",
    "    (65, 36 ,125.00,round((random()*(125-1)+1)::numeric, 2)),\n",
    "    (64, 37 ,125.00,round((random()*(125-1)+1)::numeric, 2)),\n",
    "    (63, 38 ,125.00,round((random()*(125-1)+1)::numeric, 2)),\n",
    "    (62, 39 ,125.00,round((random()*(125-1)+1)::numeric, 2)),\n",
    "    (61, 40 ,125.00,round((random()*(125-1)+1)::numeric, 2)),\n",
    "    (60, 41 ,125.00,round((random()*(125-1)+1)::numeric, 2)),\n",
    "    (59, 42 ,125.00,round((random()*(125-1)+1)::numeric, 2)),\n",
    "    (58, 43 ,125.00,round((random()*(125-1)+1)::numeric, 2)),\n",
    "    (57, 44 ,125.00,round((random()*(125-1)+1)::numeric, 2)),\n",
    "    (56, 45 ,125.00,round((random()*(125-1)+1)::numeric, 2)),\n",
    "    (55, 46 ,125.00,round((random()*(125-1)+1)::numeric, 2)),\n",
    "    (54, 47 ,125.00,round((random()*(125-1)+1)::numeric, 2)),\n",
    "    (53, 48 ,125.00,round((random()*(125-1)+1)::numeric, 2)),\n",
    "    (52, 49 ,125.00,round((random()*(125-1)+1)::numeric, 2)),\n",
    "    (51, 50 ,125.00,round((random()*(125-1)+1)::numeric, 2)),\n",
    "    (50, 51 ,125.00,round((random()*(125-1)+1)::numeric, 2)),\n",
    "    (49, 52 ,125.00,round((random()*(125-1)+1)::numeric, 2)),\n",
    "    (48, 53 ,125.00,round((random()*(125-1)+1)::numeric, 2)),\n",
    "    (1, 100 ,125.00,round((random()*(125-1)+1)::numeric, 2))\n",
    ";"
   ]
  },
  {
   "cell_type": "code",
   "execution_count": null,
   "metadata": {},
   "outputs": [],
   "source": [
    "%%sql \n",
    "SELECT * FROM memberDues LIMIT(10);"
   ]
  },
  {
   "cell_type": "markdown",
   "metadata": {},
   "source": [
    "## dues_paymentPlan table\n",
    "* Trigger: When last_amount_paid updated -> update amount_paid in memberDues\n",
    "    * amount_paid = (OLD)amount_paid + (NEW)last_amount_paid"
   ]
  },
  {
   "cell_type": "code",
   "execution_count": 23,
   "metadata": {},
   "outputs": [
    {
     "name": "stdout",
     "output_type": "stream",
     "text": [
      "Done.\n"
     ]
    },
    {
     "data": {
      "text/plain": [
       "[]"
      ]
     },
     "execution_count": 23,
     "metadata": {},
     "output_type": "execute_result"
    }
   ],
   "source": [
    "%%sql \n",
    "CREATE TABLE dues_paymentPlan (\n",
    "    dues_id INTEGER REFERENCES memberDues (dues_id) ON DELETE CASCADE,\n",
    "    start_date DATE,\n",
    "    end_date DATE,\n",
    "    last_amount_paid REAL,\n",
    "    last_payment_date DATE,\n",
    "    next_amount_due REAL,\n",
    "    next_payment_date DATE,\n",
    "    PRIMARY KEY (dues_id)\n",
    ");"
   ]
  },
  {
   "cell_type": "code",
   "execution_count": 24,
   "metadata": {},
   "outputs": [
    {
     "name": "stdout",
     "output_type": "stream",
     "text": [
      "Done.\n"
     ]
    },
    {
     "data": {
      "text/plain": [
       "[]"
      ]
     },
     "execution_count": 24,
     "metadata": {},
     "output_type": "execute_result"
    }
   ],
   "source": [
    "%%sql\n",
    "TRUNCATE dues_paymentPlan CASCADE;"
   ]
  },
  {
   "cell_type": "code",
   "execution_count": 25,
   "metadata": {},
   "outputs": [
    {
     "name": "stdout",
     "output_type": "stream",
     "text": [
      "20 rows affected.\n"
     ]
    },
    {
     "data": {
      "text/plain": [
       "[]"
      ]
     },
     "execution_count": 25,
     "metadata": {},
     "output_type": "execute_result"
    }
   ],
   "source": [
    "%%sql\n",
    "INSERT INTO dues_paymentPlan VALUES\n",
    "    (\n",
    "        1,\n",
    "        current_date + (floor(random()*20+1)::int),\n",
    "        current_date + (floor(random()*60+1)::int),\n",
    "        NULL,\n",
    "        NULL,\n",
    "        round((random()*(20-1)+1)::numeric, 2),\n",
    "        current_date + (floor(random()*10+1)::int)\n",
    "    ),\n",
    "    (2,current_date + (floor(random()*20+1)::int),current_date + (floor(random()*60+1)::int),NULL,NULL,round((random()*(20-1)+1)::numeric, 2),current_date + (floor(random()*10+1)::int)),\n",
    "    (3,current_date + (floor(random()*20+1)::int),current_date + (floor(random()*60+1)::int),NULL,NULL,round((random()*(20-1)+1)::numeric, 2),current_date + (floor(random()*10+1)::int)),\n",
    "    (4,current_date + (floor(random()*20+1)::int),current_date + (floor(random()*60+1)::int),NULL,NULL,round((random()*(20-1)+1)::numeric, 2),current_date + (floor(random()*10+1)::int)),\n",
    "    (5,current_date + (floor(random()*20+1)::int),current_date + (floor(random()*60+1)::int),NULL,NULL,round((random()*(20-1)+1)::numeric, 2),current_date + (floor(random()*10+1)::int)),\n",
    "    (6,current_date + (floor(random()*20+1)::int),current_date + (floor(random()*60+1)::int),NULL,NULL,round((random()*(20-1)+1)::numeric, 2),current_date + (floor(random()*10+1)::int)),\n",
    "    (7,current_date + (floor(random()*20+1)::int),current_date + (floor(random()*60+1)::int),NULL,NULL,round((random()*(20-1)+1)::numeric, 2),current_date + (floor(random()*10+1)::int)),\n",
    "    (8,current_date + (floor(random()*20+1)::int),current_date + (floor(random()*60+1)::int),NULL,NULL,round((random()*(20-1)+1)::numeric, 2),current_date + (floor(random()*10+1)::int)),\n",
    "    (9,current_date + (floor(random()*20+1)::int),current_date + (floor(random()*60+1)::int),NULL,NULL,round((random()*(20-1)+1)::numeric, 2),current_date + (floor(random()*10+1)::int)),\n",
    "    (10,current_date + (floor(random()*20+1)::int),current_date + (floor(random()*60+1)::int),NULL,NULL,round((random()*(20-1)+1)::numeric, 2),current_date + (floor(random()*10+1)::int)),\n",
    "    (11,current_date + (floor(random()*20+1)::int),current_date + (floor(random()*60+1)::int),NULL,NULL,round((random()*(20-1)+1)::numeric, 2),current_date + (floor(random()*10+1)::int)),\n",
    "    (12,current_date + (floor(random()*20+1)::int),current_date + (floor(random()*60+1)::int),NULL,NULL,round((random()*(20-1)+1)::numeric, 2),current_date + (floor(random()*10+1)::int)),\n",
    "    (13,current_date + (floor(random()*20+1)::int),current_date + (floor(random()*60+1)::int),NULL,NULL,round((random()*(20-1)+1)::numeric, 2),current_date + (floor(random()*10+1)::int)),\n",
    "    (14,current_date + (floor(random()*20+1)::int),current_date + (floor(random()*60+1)::int),NULL,NULL,round((random()*(20-1)+1)::numeric, 2),current_date + (floor(random()*10+1)::int)),\n",
    "    (15,current_date + (floor(random()*20+1)::int),current_date + (floor(random()*60+1)::int),NULL,NULL,round((random()*(20-1)+1)::numeric, 2),current_date + (floor(random()*10+1)::int)),\n",
    "    (16,current_date + (floor(random()*20+1)::int),current_date + (floor(random()*60+1)::int),NULL,NULL,round((random()*(20-1)+1)::numeric, 2),current_date + (floor(random()*10+1)::int)),\n",
    "    (17,current_date + (floor(random()*20+1)::int),current_date + (floor(random()*60+1)::int),NULL,NULL,round((random()*(20-1)+1)::numeric, 2),current_date + (floor(random()*10+1)::int)),\n",
    "    (18,current_date + (floor(random()*20+1)::int),current_date + (floor(random()*60+1)::int),NULL,NULL,round((random()*(20-1)+1)::numeric, 2),current_date + (floor(random()*10+1)::int)),\n",
    "    (19,current_date + (floor(random()*20+1)::int),current_date + (floor(random()*60+1)::int),NULL,NULL,round((random()*(20-1)+1)::numeric, 2),current_date + (floor(random()*10+1)::int)),\n",
    "    (20,current_date + (floor(random()*20+1)::int),current_date + (floor(random()*60+1)::int),NULL,NULL,round((random()*(20-1)+1)::numeric, 2),current_date + (floor(random()*10+1)::int))\n",
    ";"
   ]
  },
  {
   "cell_type": "code",
   "execution_count": null,
   "metadata": {},
   "outputs": [],
   "source": [
    "%%sql\n",
    "SELECT * FROM dues_paymentPlan;"
   ]
  },
  {
   "cell_type": "markdown",
   "metadata": {},
   "source": [
    "## family table"
   ]
  },
  {
   "cell_type": "code",
   "execution_count": 26,
   "metadata": {},
   "outputs": [
    {
     "name": "stdout",
     "output_type": "stream",
     "text": [
      "Done.\n"
     ]
    },
    {
     "data": {
      "text/plain": [
       "[]"
      ]
     },
     "execution_count": 26,
     "metadata": {},
     "output_type": "execute_result"
    }
   ],
   "source": [
    "%%sql\n",
    "CREATE TABLE family (\n",
    "    family_id INTEGER PRIMARY KEY,\n",
    "    family_name VARCHAR(255),\n",
    "    founding_date DATE\n",
    ");"
   ]
  },
  {
   "cell_type": "code",
   "execution_count": 27,
   "metadata": {},
   "outputs": [
    {
     "name": "stdout",
     "output_type": "stream",
     "text": [
      "Done.\n"
     ]
    },
    {
     "data": {
      "text/plain": [
       "[]"
      ]
     },
     "execution_count": 27,
     "metadata": {},
     "output_type": "execute_result"
    }
   ],
   "source": [
    "%%sql\n",
    "TRUNCATE family CASCADE;"
   ]
  },
  {
   "cell_type": "code",
   "execution_count": 28,
   "metadata": {},
   "outputs": [
    {
     "name": "stdout",
     "output_type": "stream",
     "text": [
      "10 rows affected.\n"
     ]
    },
    {
     "data": {
      "text/plain": [
       "[]"
      ]
     },
     "execution_count": 28,
     "metadata": {},
     "output_type": "execute_result"
    }
   ],
   "source": [
    "%%sql\n",
    "INSERT INTO family VALUES\n",
    "    (1, 'Wright', '1916-02-14'),\n",
    "    (2, 'Bell', '1916-02-14'),\n",
    "    (3, 'Baker', '1916-02-14'),\n",
    "    (4, 'Royals', '1916-02-14'),\n",
    "    (5, 'Harrison Ford', '1916-02-14'),\n",
    "    (6, 'Summer Young', '1916-02-14'),\n",
    "    (7, 'Doyle', '1916-02-14'),\n",
    "    (8, 'Fem', '1916-02-14'),\n",
    "    (9, 'Gong', '1916-02-14'),\n",
    "    (10, 'Cook', '1916-02-14')\n",
    ";"
   ]
  },
  {
   "cell_type": "markdown",
   "metadata": {},
   "source": [
    "## familyTree_roster table"
   ]
  },
  {
   "cell_type": "code",
   "execution_count": 29,
   "metadata": {},
   "outputs": [
    {
     "name": "stdout",
     "output_type": "stream",
     "text": [
      "Done.\n"
     ]
    },
    {
     "data": {
      "text/plain": [
       "[]"
      ]
     },
     "execution_count": 29,
     "metadata": {},
     "output_type": "execute_result"
    }
   ],
   "source": [
    "%%sql \n",
    "CREATE TABLE familyTree_roster (\n",
    "    student_id INTEGER UNIQUE REFERENCES member (student_id) ON DELETE CASCADE,\n",
    "    family_id INTEGER NOT NULL REFERENCES family (family_id) ON DELETE CASCADE\n",
    ");"
   ]
  },
  {
   "cell_type": "code",
   "execution_count": 30,
   "metadata": {},
   "outputs": [
    {
     "name": "stdout",
     "output_type": "stream",
     "text": [
      "Done.\n"
     ]
    },
    {
     "data": {
      "text/plain": [
       "[]"
      ]
     },
     "execution_count": 30,
     "metadata": {},
     "output_type": "execute_result"
    }
   ],
   "source": [
    "%%sql\n",
    "TRUNCATE familyTree_roster CASCADE;"
   ]
  },
  {
   "cell_type": "code",
   "execution_count": 31,
   "metadata": {},
   "outputs": [
    {
     "name": "stdout",
     "output_type": "stream",
     "text": [
      "100 rows affected.\n"
     ]
    },
    {
     "data": {
      "text/plain": [
       "[]"
      ]
     },
     "execution_count": 31,
     "metadata": {},
     "output_type": "execute_result"
    }
   ],
   "source": [
    "%%sql\n",
    "INSERT INTO familyTree_roster VALUES\n",
    "    (1, 10),\n",
    "    (2, 10),\n",
    "    (3, 10),\n",
    "    (4, 10),\n",
    "    (5, 10),\n",
    "    (6, 9),\n",
    "    (7, 9),\n",
    "    (8, 9),\n",
    "    (9, 9),\n",
    "    (10, 9),\n",
    "    (11, 8),\n",
    "    (12, 8),\n",
    "    (13, 8),\n",
    "    (14, 8),\n",
    "    (15, 8),\n",
    "    (16, 8),\n",
    "    (17, 8),\n",
    "    (18, 8),\n",
    "    (19, 8),\n",
    "    (20, 8),\n",
    "    (21, 7),\n",
    "    (22, 7),\n",
    "    (23, 7),\n",
    "    (24, 7),\n",
    "    (25, 7),\n",
    "    (26, 7),\n",
    "    (27, 7),\n",
    "    (28, 7),\n",
    "    (29, 7),\n",
    "    (30, 7),\n",
    "    (31, 7),\n",
    "    (32, 7),\n",
    "    (33, 6),\n",
    "    (34, 6),\n",
    "    (35, 6),\n",
    "    (36, 6),\n",
    "    (37, 6),\n",
    "    (38, 6),\n",
    "    (39, 6),\n",
    "    (40, 6),\n",
    "    (41, 6),\n",
    "    (42, 6),\n",
    "    (43, 6),\n",
    "    (44, 6),\n",
    "    (45, 6),\n",
    "    (46, 6),\n",
    "    (47, 6),\n",
    "    (48, 6),\n",
    "    (49, 6),\n",
    "    (50, 6),\n",
    "    (51, 6),\n",
    "    (52, 6),\n",
    "    (53, 5),\n",
    "    (54, 5),\n",
    "    (55, 5),\n",
    "    (56, 4),\n",
    "    (57, 4),\n",
    "    (58, 4),\n",
    "    (59, 4),\n",
    "    (60, 4),\n",
    "    (61, 4),\n",
    "    (62, 3),\n",
    "    (63, 3),\n",
    "    (64, 3),\n",
    "    (65, 3),\n",
    "    (66, 3),\n",
    "    (67, 3),\n",
    "    (68, 3),\n",
    "    (69, 3),\n",
    "    (70, 3),\n",
    "    (71, 2),\n",
    "    (72, 2),\n",
    "    (73, 2),\n",
    "    (74, 2),\n",
    "    (75, 2),\n",
    "    (76, 2),\n",
    "    (77, 2),\n",
    "    (78, 2),\n",
    "    (79, 2),\n",
    "    (80, 2),\n",
    "    (81, 2),\n",
    "    (82, 2),\n",
    "    (83, 2),\n",
    "    (84, 2),\n",
    "    (85, 2),\n",
    "    (86, 2),\n",
    "    (87, 2),\n",
    "    (88, 2),\n",
    "    (89, 2),\n",
    "    (90, 2),\n",
    "    (91, 1),\n",
    "    (92, 1),\n",
    "    (93, 1),\n",
    "    (94, 1),\n",
    "    (95, 1),\n",
    "    (96, 1),\n",
    "    (97, 1),\n",
    "    (98, 1),\n",
    "    (99, 1),\n",
    "    (100, 1)\n",
    ";"
   ]
  },
  {
   "cell_type": "markdown",
   "metadata": {},
   "source": [
    "## recSports table"
   ]
  },
  {
   "cell_type": "code",
   "execution_count": 32,
   "metadata": {},
   "outputs": [
    {
     "name": "stdout",
     "output_type": "stream",
     "text": [
      "Done.\n"
     ]
    },
    {
     "data": {
      "text/plain": [
       "[]"
      ]
     },
     "execution_count": 32,
     "metadata": {},
     "output_type": "execute_result"
    }
   ],
   "source": [
    "%%sql\n",
    "CREATE TABLE recSports (\n",
    "    sport_id INTEGER PRIMARY KEY,\n",
    "    sport_name VARCHAR(255) NOT NULL,\n",
    "    semester VARCHAR(50),\n",
    "    start_date DATE,\n",
    "    end_date DATE\n",
    ");"
   ]
  },
  {
   "cell_type": "code",
   "execution_count": 33,
   "metadata": {},
   "outputs": [
    {
     "name": "stdout",
     "output_type": "stream",
     "text": [
      "Done.\n"
     ]
    },
    {
     "data": {
      "text/plain": [
       "[]"
      ]
     },
     "execution_count": 33,
     "metadata": {},
     "output_type": "execute_result"
    }
   ],
   "source": [
    "%%sql\n",
    "TRUNCATE recSports CASCADE;"
   ]
  },
  {
   "cell_type": "code",
   "execution_count": 34,
   "metadata": {},
   "outputs": [
    {
     "name": "stdout",
     "output_type": "stream",
     "text": [
      "32 rows affected.\n"
     ]
    },
    {
     "data": {
      "text/plain": [
       "[]"
      ]
     },
     "execution_count": 34,
     "metadata": {},
     "output_type": "execute_result"
    }
   ],
   "source": [
    "%%sql\n",
    "INSERT INTO recSports VALUES\n",
    "    (1, 'CO-REC Basketball', 'Fall', '2015-10-25', '2015-12-25'),\n",
    "    (2, 'Battleship', 'Fall', '2015-11-25', '2015-11-25'),\n",
    "    (3, 'CO-REC Flag Football', 'Fall', '2015-10-25', '2015-12-25'),\n",
    "    (4, 'CO-REC Indoor Volleyball', 'Fall', '2015-10-25', '2015-11-25'),\n",
    "    (5, 'Log Rolling', 'Fall', '2015-11-26', '2015-11-26'),\n",
    "    (6, 'CO-REC Basketball', 'Spring', '2015-2-15', '2015-3-25'),\n",
    "    (7, 'Battleship', 'Spring', '2015-2-15', '2015-2-15'),\n",
    "    (8, 'CO-REC Soccer', 'Spring', '2015-2-15', '2015-4-15'),\n",
    "    (9, 'CO-REC Sand Volleyball', 'Spring', '2015-4-01', '2015-4-25'),\n",
    "    (10, 'Log Rolling', 'Spring', '2015-2-16', '2015-2-16'),\n",
    "    (11, 'CO-REC Basketball', 'Fall', '2016-10-25', '2016-12-25'),\n",
    "    (12, 'Battleship', 'Fall', '2016-11-25', '2016-11-25'),\n",
    "    (13, 'CO-REC Flag Football', 'Fall', '2016-10-25', '2016-12-25'),\n",
    "    (14, 'CO-REC Indoor Volleyball', 'Fall', '2016-10-25', '2016-11-25'),\n",
    "    (15, 'Log Rolling', 'Fall', '2016-11-26', '2016-11-26'),\n",
    "    (16, 'CO-REC Basketball', 'Spring', '2016-2-15', '2016-3-25'),\n",
    "    (17, 'Battleship', 'Spring', '2016-2-15', '2016-2-15'),\n",
    "    (18, 'CO-REC Soccer', 'Spring', '2016-2-15', '2016-4-15'),\n",
    "    (19, 'CO-REC Sand Volleyball', 'Spring', '2016-4-01', '2016-4-25'),\n",
    "    (20, 'Log Rolling', 'Spring', '2016-2-16', '2016-2-16'),\n",
    "    (21, 'CO-REC Basketball', 'Fall', '2017-10-25', '2017-12-25'),\n",
    "    (22, 'Battleship', 'Fall', '2017-11-25', '2017-11-25'),\n",
    "    (23, 'CO-REC Flag Football', 'Fall', '2017-10-25', '2017-12-25'),\n",
    "    (24, 'CO-REC Indoor Volleyball', 'Fall', '2017-10-25', '2017-11-25'),\n",
    "    (25, 'Log Rolling', 'Fall', '2017-11-26', '2017-11-26'),\n",
    "    (26, 'CO-REC Basketball', 'Spring', '2017-2-15', '2017-3-25'),\n",
    "    (27, 'Battleship', 'Spring', '2017-2-15', '2017-2-15'),\n",
    "    (28, 'CO-REC Soccer', 'Spring', '2017-2-15', '2017-4-15'),\n",
    "    (29, 'CO-REC Sand Volleyball', 'Spring', '2017-4-01', '2017-4-25'),\n",
    "    (30, 'Log Rolling', 'Spring', '2017-2-16', '2017-2-16'),\n",
    "    (31, 'CO-REC Basketball', 'Spring', '2018-2-15', '2018-3-25'),\n",
    "    (32, 'CO-REC Soccer', 'Spring', '2018-2-15', '2018-4-15')\n",
    ";"
   ]
  },
  {
   "cell_type": "markdown",
   "metadata": {},
   "source": [
    "## recSports_teams table"
   ]
  },
  {
   "cell_type": "code",
   "execution_count": 37,
   "metadata": {},
   "outputs": [
    {
     "name": "stdout",
     "output_type": "stream",
     "text": [
      "Done.\n"
     ]
    },
    {
     "data": {
      "text/plain": [
       "[]"
      ]
     },
     "execution_count": 37,
     "metadata": {},
     "output_type": "execute_result"
    }
   ],
   "source": [
    "%%sql\n",
    "CREATE TABLE recSports_teams (\n",
    "    team_id INTEGER PRIMARY KEY,\n",
    "    sport_id INTEGER REFERENCES recSports (sport_id),\n",
    "    team_name VARCHAR(255),\n",
    "    day_of_week VARCHAR(50) /*Day the team plays*/\n",
    "    /*time_of_day TIME*/ /*time games are played*/\n",
    ");"
   ]
  },
  {
   "cell_type": "code",
   "execution_count": 38,
   "metadata": {},
   "outputs": [
    {
     "name": "stdout",
     "output_type": "stream",
     "text": [
      "Done.\n"
     ]
    },
    {
     "data": {
      "text/plain": [
       "[]"
      ]
     },
     "execution_count": 38,
     "metadata": {},
     "output_type": "execute_result"
    }
   ],
   "source": [
    "%%sql\n",
    "TRUNCATE recSports_teams CASCADE;"
   ]
  },
  {
   "cell_type": "code",
   "execution_count": 39,
   "metadata": {},
   "outputs": [
    {
     "name": "stdout",
     "output_type": "stream",
     "text": [
      "12 rows affected.\n"
     ]
    },
    {
     "data": {
      "text/plain": [
       "[]"
      ]
     },
     "execution_count": 39,
     "metadata": {},
     "output_type": "execute_result"
    }
   ],
   "source": [
    "%%sql\n",
    "INSERT INTO recSports_teams VALUES\n",
    "    (1, 32, 'PSP Soccer', 'Wednesday'),\n",
    "    (2, 31, 'PSP Basketball', 'Sunday'),\n",
    "    (3, 29, 'PSP 1', 'Sunday'),\n",
    "    (4, 29, 'PSP 2', 'Sunday'),\n",
    "    (5, 29, 'PSP 3', 'Monday'),\n",
    "    (6, 29, 'PSP 4', 'Monday'),\n",
    "    (7, 27, 'PSP Purple', 'Thursday'),\n",
    "    (8, 27, 'PSP Gold', 'Thursday'),\n",
    "    (9, 27, 'PSP White', 'Thursday'),\n",
    "    (10, 27, 'PSP 1', 'Thursday'),\n",
    "    (11, 27, 'PSP 2', 'Thursday'),\n",
    "    (12, 27, 'PSP 3', 'Thursday')\n",
    ";"
   ]
  },
  {
   "cell_type": "markdown",
   "metadata": {},
   "source": [
    "## team_roster table"
   ]
  },
  {
   "cell_type": "code",
   "execution_count": 40,
   "metadata": {},
   "outputs": [
    {
     "name": "stdout",
     "output_type": "stream",
     "text": [
      "Done.\n"
     ]
    },
    {
     "data": {
      "text/plain": [
       "[]"
      ]
     },
     "execution_count": 40,
     "metadata": {},
     "output_type": "execute_result"
    }
   ],
   "source": [
    "%%sql\n",
    "CREATE TABLE team_roster (\n",
    "    team_id INTEGER REFERENCES recSports_teams (team_id),\n",
    "    student_id INTEGER REFERENCES member (student_id),\n",
    "    PRIMARY KEY (team_id, student_id)\n",
    ");"
   ]
  },
  {
   "cell_type": "code",
   "execution_count": 41,
   "metadata": {},
   "outputs": [
    {
     "name": "stdout",
     "output_type": "stream",
     "text": [
      "Done.\n"
     ]
    },
    {
     "data": {
      "text/plain": [
       "[]"
      ]
     },
     "execution_count": 41,
     "metadata": {},
     "output_type": "execute_result"
    }
   ],
   "source": [
    "%%sql\n",
    "TRUNCATE team_roster CASCADE;"
   ]
  },
  {
   "cell_type": "code",
   "execution_count": 42,
   "metadata": {},
   "outputs": [
    {
     "name": "stdout",
     "output_type": "stream",
     "text": [
      "66 rows affected.\n"
     ]
    },
    {
     "data": {
      "text/plain": [
       "[]"
      ]
     },
     "execution_count": 42,
     "metadata": {},
     "output_type": "execute_result"
    }
   ],
   "source": [
    "%%sql\n",
    "INSERT INTO team_roster VALUES\n",
    "    (1,1),\n",
    "    (1,11),\n",
    "    (1,31),\n",
    "    (1,21),\n",
    "    (1,41),\n",
    "    (1,51),\n",
    "    (1,61),\n",
    "    (1,71),\n",
    "    (1,81),\n",
    "    (1,91),\n",
    "    (1,5),\n",
    "    (1,6),\n",
    "    (1,9),\n",
    "    (2,1),\n",
    "    (2,11),\n",
    "    (2,31),\n",
    "    (2,21),\n",
    "    (2,41),\n",
    "    (2,51),\n",
    "    (2,61),\n",
    "    (2,71),\n",
    "    (2,81),\n",
    "    (2,91),\n",
    "    (2,5),\n",
    "    (2,6),\n",
    "    (2,9),\n",
    "    (7, 1),\n",
    "    (7, 2),\n",
    "    (7, 3),\n",
    "    (7, 4),\n",
    "    (3, 1),\n",
    "    (3, 2),\n",
    "    (3, 3),\n",
    "    (3, 4),\n",
    "    (4, 55),\n",
    "    (4, 42),\n",
    "    (4, 43),\n",
    "    (4, 68),\n",
    "    (5, 32),\n",
    "    (5, 79),\n",
    "    (5, 80),\n",
    "    (5, 100),\n",
    "    (6, 37),\n",
    "    (6, 47),\n",
    "    (6, 67),\n",
    "    (6, 87),\n",
    "    (8, 78),\n",
    "    (8, 77),\n",
    "    (8, 76),\n",
    "    (8, 75),\n",
    "    (9, 54),\n",
    "    (9, 52),\n",
    "    (9, 65),\n",
    "    (9, 66),\n",
    "    (10, 32),\n",
    "    (10, 21),\n",
    "    (10, 20),\n",
    "    (10, 57),\n",
    "    (11, 89),\n",
    "    (11, 90),\n",
    "    (11, 91),\n",
    "    (11, 92),\n",
    "    (12, 13),\n",
    "    (12, 100),\n",
    "    (12, 81),\n",
    "    (12, 9)\n",
    ";"
   ]
  },
  {
   "cell_type": "markdown",
   "metadata": {},
   "source": [
    "## merch table"
   ]
  },
  {
   "cell_type": "code",
   "execution_count": 43,
   "metadata": {},
   "outputs": [
    {
     "name": "stdout",
     "output_type": "stream",
     "text": [
      "Done.\n"
     ]
    },
    {
     "data": {
      "text/plain": [
       "[]"
      ]
     },
     "execution_count": 43,
     "metadata": {},
     "output_type": "execute_result"
    }
   ],
   "source": [
    "%%sql\n",
    "CREATE TABLE merch (\n",
    "    merch_id INTEGER PRIMARY KEY,\n",
    "    item_name VARCHAR(100),\n",
    "    price REAL,\n",
    "    semester VARCHAR(50),\n",
    "    year INTEGER\n",
    ");"
   ]
  },
  {
   "cell_type": "code",
   "execution_count": 49,
   "metadata": {},
   "outputs": [
    {
     "name": "stdout",
     "output_type": "stream",
     "text": [
      "Done.\n"
     ]
    },
    {
     "data": {
      "text/plain": [
       "[]"
      ]
     },
     "execution_count": 49,
     "metadata": {},
     "output_type": "execute_result"
    }
   ],
   "source": [
    "%%sql\n",
    "TRUNCATE merch CASCADE;"
   ]
  },
  {
   "cell_type": "code",
   "execution_count": 50,
   "metadata": {},
   "outputs": [
    {
     "name": "stdout",
     "output_type": "stream",
     "text": [
      "15 rows affected.\n"
     ]
    },
    {
     "data": {
      "text/plain": [
       "[]"
      ]
     },
     "execution_count": 50,
     "metadata": {},
     "output_type": "execute_result"
    }
   ],
   "source": [
    "%%sql\n",
    "INSERT INTO merch VALUES\n",
    "    (1, 'Rush T-Shirt', 5.50, 'Spring', 2016),\n",
    "    (2, 'Comfort Hat', 11.75, 'Spring', 2016),\n",
    "    (3, 'Owl T-Shirt', 12.50, 'Spring', 2016),\n",
    "    (4, 'Crest T-Shirt', 17.50, 'Fall', 2016),\n",
    "    (5, 'PSP Mug', 10.75, 'Fall', 2016),\n",
    "    (6, 'Greek Hoodie', 12.50, 'Fall', 2016),\n",
    "    (7, 'Greek Quarter-Zip', 17.50, 'Spring', 2017),\n",
    "    (8, 'PSP Sticker', 2.75, 'Spring', 2017),\n",
    "    (9, 'Ugly Sweater', 20.50, 'Spring', 2017),\n",
    "    (10, 'Star Wars T-Shirt', 17.50, 'Fall', 2017),\n",
    "    (11, 'PSP Sweatpants', 11.75, 'Fall', 2017),\n",
    "    (12, 'Retro T-Shirt', 17.50, 'Spring', 2018),\n",
    "    (13, 'PSP Hat', 11.75, 'Spring', 2018),\n",
    "    (14, 'Greek T-Shirt', 12.50, 'Spring', 2018),\n",
    "    (15, 'Quarter-Zip', 25.00, 'Spring', 2018)\n",
    ";"
   ]
  },
  {
   "cell_type": "markdown",
   "metadata": {},
   "source": [
    "## merch_order table"
   ]
  },
  {
   "cell_type": "code",
   "execution_count": 46,
   "metadata": {},
   "outputs": [
    {
     "name": "stdout",
     "output_type": "stream",
     "text": [
      "Done.\n"
     ]
    },
    {
     "data": {
      "text/plain": [
       "[]"
      ]
     },
     "execution_count": 46,
     "metadata": {},
     "output_type": "execute_result"
    }
   ],
   "source": [
    "%%sql\n",
    "CREATE TABLE merch_order (\n",
    "    merch_id INTEGER REFERENCES merch (merch_id) ON DELETE CASCADE,\n",
    "    student_id INTEGER REFERENCES member (student_id) ON DELETE CASCADE,\n",
    "    quantity INTEGER NOT NULL,\n",
    "    payment_due_date DATE,\n",
    "    delivery_date DATE,\n",
    "    completed BOOLEAN, /* Boolean value for checking if an order has been fully completed */\n",
    "    PRIMARY KEY (merch_id, student_id)\n",
    ");"
   ]
  },
  {
   "cell_type": "code",
   "execution_count": 51,
   "metadata": {},
   "outputs": [
    {
     "name": "stdout",
     "output_type": "stream",
     "text": [
      "Done.\n"
     ]
    },
    {
     "data": {
      "text/plain": [
       "[]"
      ]
     },
     "execution_count": 51,
     "metadata": {},
     "output_type": "execute_result"
    }
   ],
   "source": [
    "%%sql\n",
    "TRUNCATE merch_order CASCADE;"
   ]
  },
  {
   "cell_type": "code",
   "execution_count": null,
   "metadata": {
    "collapsed": true
   },
   "outputs": [],
   "source": [
    "### <= 11 completed = TRUE"
   ]
  },
  {
   "cell_type": "code",
   "execution_count": 52,
   "metadata": {},
   "outputs": [
    {
     "name": "stdout",
     "output_type": "stream",
     "text": [
      "36 rows affected.\n"
     ]
    },
    {
     "data": {
      "text/plain": [
       "[]"
      ]
     },
     "execution_count": 52,
     "metadata": {},
     "output_type": "execute_result"
    }
   ],
   "source": [
    "%%sql\n",
    "INSERT INTO merch_order VALUES\n",
    "    (15, 1, 1, current_date - 400, current_date - 390, FALSE),\n",
    "    (14, 1, 1, current_date - 400, current_date - 390, FALSE),\n",
    "    (1, 2, 1, current_date - 400, current_date - 390, TRUE),\n",
    "    (2, 3, 1, current_date - 400, current_date - 390, TRUE),\n",
    "    (2, 4, 1, current_date - 400, current_date - 390, TRUE),\n",
    "    (3, 5, 1, current_date - 400, current_date - 390, TRUE),\n",
    "    (4, 6, 1, current_date - 400, current_date - 390, TRUE),\n",
    "    (4, 7, 1, current_date - 400, current_date - 390, TRUE),\n",
    "    (4, 8, 1, current_date - 400, current_date - 390, TRUE),\n",
    "    (4, 9, 1, current_date - 400, current_date - 390, TRUE),\n",
    "    (4, 10, 1, current_date - 400, current_date - 390, TRUE),\n",
    "    (5, 11, 1, current_date - 400, current_date - 390, TRUE),\n",
    "    (5, 12, 1, current_date - 400, current_date - 390, TRUE),\n",
    "    (6, 13, 1, current_date - 400, current_date - 390, TRUE),\n",
    "    (5, 14, 1, current_date - 400, current_date - 390, TRUE),\n",
    "    (6, 15, 1, current_date - 400, current_date - 390, TRUE),\n",
    "    (6, 16, 1, current_date - 400, current_date - 390, TRUE),\n",
    "    (6, 17, 1, current_date - 400, current_date - 390, TRUE),\n",
    "    (7, 18, 1, current_date - 400, current_date - 390, TRUE),\n",
    "    (8, 19, 1, current_date - 400, current_date - 390, TRUE),\n",
    "    (8, 20, 1, current_date - 400, current_date - 390, TRUE),\n",
    "    (8, 21, 1, current_date - 400, current_date - 390, TRUE),\n",
    "    (9, 22, 1, current_date - 400, current_date - 390, TRUE),\n",
    "    (9, 23, 1, current_date - 400, current_date - 390, TRUE),\n",
    "    (9, 24, 1, current_date - 400, current_date - 390, TRUE),\n",
    "    (10, 24, 1, current_date - 400, current_date - 390, TRUE),\n",
    "    (11, 25, 1, current_date - 400, current_date - 390, TRUE),\n",
    "    (11, 26, 1, current_date - 400, current_date - 390, TRUE),\n",
    "    (10, 56, 1, current_date - 400, current_date - 390, TRUE),\n",
    "    (12, 90, 1, current_date - 400, current_date - 390, FALSE),\n",
    "    (13, 91, 1, current_date - 400, current_date - 390, FALSE),\n",
    "    (15, 92, 1, current_date - 400, current_date - 390, FALSE),\n",
    "    (1, 91, 1, current_date - 400, current_date - 390, FALSE),\n",
    "    (15, 93, 1, current_date - 400, current_date - 390, FALSE),\n",
    "    (14, 94, 1, current_date - 400, current_date - 390, FALSE),\n",
    "    (12, 95, 1, current_date - 400, current_date - 390, FALSE)\n",
    ";"
   ]
  },
  {
   "cell_type": "markdown",
   "metadata": {},
   "source": [
    "## budget table"
   ]
  },
  {
   "cell_type": "code",
   "execution_count": 53,
   "metadata": {},
   "outputs": [
    {
     "name": "stdout",
     "output_type": "stream",
     "text": [
      "Done.\n"
     ]
    },
    {
     "data": {
      "text/plain": [
       "[]"
      ]
     },
     "execution_count": 53,
     "metadata": {},
     "output_type": "execute_result"
    }
   ],
   "source": [
    "%%sql\n",
    "CREATE TABLE budget (\n",
    "    budget_item_id INTEGER PRIMARY KEY,\n",
    "    item_name VARCHAR(255) NOT NULL,\n",
    "    item_type INTEGER NOT NULL, /* 0 for expense, 1 for revenue */\n",
    "    budget_amount REAL NOT NULL,\n",
    "    semester VARCHAR(255),\n",
    "    year INTEGER /* Maybe change to date (only year though) */\n",
    ");"
   ]
  },
  {
   "cell_type": "code",
   "execution_count": 54,
   "metadata": {},
   "outputs": [
    {
     "name": "stdout",
     "output_type": "stream",
     "text": [
      "Done.\n"
     ]
    },
    {
     "data": {
      "text/plain": [
       "[]"
      ]
     },
     "execution_count": 54,
     "metadata": {},
     "output_type": "execute_result"
    }
   ],
   "source": [
    "%%sql\n",
    "TRUNCATE budget CASCADE;"
   ]
  },
  {
   "cell_type": "code",
   "execution_count": 55,
   "metadata": {},
   "outputs": [
    {
     "name": "stdout",
     "output_type": "stream",
     "text": [
      "54 rows affected.\n"
     ]
    },
    {
     "data": {
      "text/plain": [
       "[]"
      ]
     },
     "execution_count": 55,
     "metadata": {},
     "output_type": "execute_result"
    }
   ],
   "source": [
    "%%sql\n",
    "INSERT INTO budget VALUES\n",
    "    (1, 'Nationals Check (Active Bros)', 0, 6246.00, 'Spring', 2017),\n",
    "    (2, 'Nationals Check (Inactive Bros)', 0, 1152.00, 'Spring', 2017),\n",
    "    (3, 'Nationals Check (Initiates)', 0, 2580.00, 'Spring', 2017),\n",
    "    (4, 'EBOARD MISC', 0, 100.00, 'Spring', 2017),\n",
    "    (5, 'Recruitment', 0, 1000.00, 'Spring', 2017),\n",
    "    (6, 'Initiation', 0, 1000.00, 'Spring', 2017),\n",
    "    (7, 'DAS', 0, 750.00, 'Spring', 2017),\n",
    "    (8, 'Fellowship', 0, 750.00, 'Spring', 2017),\n",
    "    (9, 'Rec Sports', 0, 1000.00, 'Spring', 2017),\n",
    "    (10, 'Alumni', 0, 100.00, 'Spring', 2017),\n",
    "    (11, 'Alumni Banquet', 0, 0.00, 'Spring', 2017),\n",
    "    (12, 'Merch Credit / Rush Shirts', 0, 1000.00, 'Spring', 2017),\n",
    "    (13, 'Active Bros @ $125/member', 1, 10875.00, 'Spring', 2017),\n",
    "    (14, 'Inactive Bros @ $72/member', 1, 1152.00, 'Spring', 2017),\n",
    "    (15, 'Initiates @ $225/member', 1, 3375.00, 'Spring', 2017),\n",
    "    (16, 'Fundraising Goal', 1, 500.00, 'Spring', 2017),\n",
    "    (17, 'Fines/Past Dues', 1, 175.00, 'Spring', 2017),\n",
    "    (18, 'Leftover from previous semester', 1, 92.01, 'Spring', 2017),\n",
    "    (19, 'Nationals Check (Active Bros)', 0, 6480.00, 'Fall', 2017),\n",
    "    (20, 'Nationals Check (Inactive Bros)', 0, 720.00, 'Fall', 2017),\n",
    "    (21, 'Nationals Check (Initiates)', 0, 3440.00, 'Fall', 2017),\n",
    "    (22, 'EBOARD MISC', 0, 300.00, 'Fall', 2017),\n",
    "    (23, 'Recruitment', 0, 450.00, 'Fall', 201),\n",
    "    (24, 'Initiation', 0, 1000.00, 'Fall', 2017),\n",
    "    (25, 'DAS', 0, 750.00, 'Fall', 2017),\n",
    "    (26, 'Fellowship', 0, 750.00, 'Fall', 2017),\n",
    "    (27, 'Rec Sports', 0, 1000.00, 'Fall', 2017),\n",
    "    (28, 'Alumni', 0, 500.00, 'Fall', 2017),\n",
    "    (29, 'Formal', 0, 1750.00, 'Fall', 2017),\n",
    "    (30, 'Merch Credit / Rush Shirts', 0, 0.00, 'Fall', 2017),\n",
    "    (31, 'Active Bros @ $125/member', 1, 11250.00, 'Fall', 2017),\n",
    "    (32, 'Inactive Bros @ $72/member', 1, 720.00, 'Fall', 2017),\n",
    "    (33, 'Initiates @ $225/member', 1, 4500.00, 'Fall', 2017),\n",
    "    (34, 'Fundraising Goal', 1, 300.00, 'Fall', 2017),\n",
    "    (35, 'Fines/Past Dues', 1, 0.00, 'Fall', 2017),\n",
    "    (36, 'Leftover from previous semester', 1, 500.43, 'Fall', 2017),\n",
    "    \n",
    "    (37, 'Nationals Check (Active Bros)', 0, 6246.00, 'Spring', 2018),\n",
    "    (38, 'Nationals Check (Inactive Bros)', 0, 1152.00, 'Spring', 2018),\n",
    "    (39, 'Nationals Check (Initiates)', 0, 2580.00, 'Spring', 2018),\n",
    "    (40, 'EBOARD MISC', 0, 100.00, 'Spring', 2018),\n",
    "    (41, 'Recruitment', 0, 700.00, 'Spring', 2018),\n",
    "    (42, 'Initiation', 0, 1000.00, 'Spring', 2018),\n",
    "    (43, 'DAS', 0, 750.00, 'Spring', 2018),\n",
    "    (44, 'Fellowship', 0, 750.00, 'Spring', 2018),\n",
    "    (45, 'Rec Sports', 0, 800.00, 'Spring', 2018),\n",
    "    (46, 'Alumni', 0, 1300.00, 'Spring', 2018),\n",
    "    (47, 'Alumni Banquet', 0, 0.00, 'Spring', 2018),\n",
    "    (48, 'Merch Credit / Rush Shirts', 0, 0.00, 'Spring', 2018),\n",
    "    (49, 'Active Bros @ $125/member', 1, 10875.00, 'Spring', 2018),\n",
    "    (50, 'Inactive Bros @ $72/member', 1, 1152.00, 'Spring', 2018),\n",
    "    (51, 'Initiates @ $225/member', 1, 3375.00, 'Spring', 2018),\n",
    "    (52, 'Fundraising Goal', 1, 200.00, 'Spring', 2018),\n",
    "    (53, 'Fines/Past Dues', 1, 250.00, 'Spring', 2018),\n",
    "    (54, 'Leftover from previous semester', 1, 975.97, 'Spring', 2018)\n",
    ";"
   ]
  },
  {
   "cell_type": "markdown",
   "metadata": {},
   "source": [
    "## chairPosition table"
   ]
  },
  {
   "cell_type": "code",
   "execution_count": 56,
   "metadata": {},
   "outputs": [
    {
     "name": "stdout",
     "output_type": "stream",
     "text": [
      "Done.\n"
     ]
    },
    {
     "data": {
      "text/plain": [
       "[]"
      ]
     },
     "execution_count": 56,
     "metadata": {},
     "output_type": "execute_result"
    }
   ],
   "source": [
    "%%sql\n",
    "CREATE TABLE chairPosition (\n",
    "    position_id INTEGER PRIMARY KEY,\n",
    "    student_id INTEGER REFERENCES member (student_id) ON DELETE CASCADE,\n",
    "    /* ADD CHAIR POSITION FIELD LIKE \"position INTEGER\" 0 for active&no position / 4 for president / and so on */\n",
    "    position_name VARCHAR(255) NOT NULL,\n",
    "    position_type VARCHAR(255), /* EBOARD or EBEC */\n",
    "    description VARCHAR(255)\n",
    ");"
   ]
  },
  {
   "cell_type": "code",
   "execution_count": 57,
   "metadata": {},
   "outputs": [
    {
     "name": "stdout",
     "output_type": "stream",
     "text": [
      "Done.\n"
     ]
    },
    {
     "data": {
      "text/plain": [
       "[]"
      ]
     },
     "execution_count": 57,
     "metadata": {},
     "output_type": "execute_result"
    }
   ],
   "source": [
    "%%sql\n",
    "TRUNCATE chairPosition CASCADE;"
   ]
  },
  {
   "cell_type": "code",
   "execution_count": 58,
   "metadata": {},
   "outputs": [
    {
     "name": "stdout",
     "output_type": "stream",
     "text": [
      "22 rows affected.\n"
     ]
    },
    {
     "data": {
      "text/plain": [
       "[]"
      ]
     },
     "execution_count": 58,
     "metadata": {},
     "output_type": "execute_result"
    }
   ],
   "source": [
    "%%sql\n",
    "INSERT INTO chairPosition VALUES\n",
    "    (1, NULL, 'President', 'EBOARD'),\n",
    "    (2, NULL, 'Vice President', 'EBOARD'),\n",
    "    (3, NULL, 'Recording Secretary', 'EBOARD'),\n",
    "    (4, NULL, 'Corresponding Secretary', 'EBOARD'),\n",
    "    (5, NULL, 'Treasurer', 'EBOARD'),\n",
    "    (6, NULL, 'Recruitment Chair', 'EBOARD'),\n",
    "    (7, NULL, 'Initiate Advisor', 'EBOARD'),\n",
    "    (8, NULL, 'Historian', 'EBOARD'),\n",
    "    (9, NULL, 'Parlimentarian', 'EBOARD'),\n",
    "    (10, NULL, 'Bro At Large', 'EBOARD'),\n",
    "    (11, NULL, 'Fundraising Chair', 'EBEC'),\n",
    "    (12, NULL, 'Alumni Chair', 'EBEC'),\n",
    "    (13, NULL, 'Philanthropy Chair', 'EBEC'),\n",
    "    (14, NULL, 'Service Chair', 'EBEC'),\n",
    "    (15, NULL, 'DAS Chair', 'EBEC'),\n",
    "    (16, NULL, 'Fellowship Chair', 'EBEC'),\n",
    "    (17, NULL, 'Risk Management Chair', 'EBEC'),\n",
    "    (18, NULL, 'Rec Sports Chair (1)', 'EBEC'),\n",
    "    (19, NULL, 'Rec Sports Chair (2)', 'EBEC'),\n",
    "    (20, NULL, 'PR Chair (1)', 'EBEC'),\n",
    "    (21, NULL, 'PR Chair (2)', 'EBEC'),\n",
    "    (22, NULL, 'Campus Liason', 'EBEC')\n",
    ";"
   ]
  },
  {
   "cell_type": "markdown",
   "metadata": {},
   "source": [
    "## budget_register table\n",
    "* Add NOTES field to ERD"
   ]
  },
  {
   "cell_type": "code",
   "execution_count": 59,
   "metadata": {},
   "outputs": [
    {
     "name": "stdout",
     "output_type": "stream",
     "text": [
      "Done.\n"
     ]
    },
    {
     "data": {
      "text/plain": [
       "[]"
      ]
     },
     "execution_count": 59,
     "metadata": {},
     "output_type": "execute_result"
    }
   ],
   "source": [
    "%%sql\n",
    "CREATE TABLE budget_register (\n",
    "    register_id INTEGER PRIMARY KEY,\n",
    "    budget_item_id INTEGER REFERENCES budget (budget_item_id) NOT NULL,\n",
    "    chairposition INTEGER REFERENCES chairPosition (position_id),\n",
    "    transaction_type INTEGER NOT NULL, /* 0 for expense, 1 for revenue */\n",
    "    transaction_amount REAL NOT NULL,\n",
    "    transaction_date DATE NOT NULL,\n",
    "    method VARCHAR(255), /* Method of transaction such as Cash, Card, Check */\n",
    "    notes VARCHAR(255) /* Could use this for description of transaction */\n",
    ");"
   ]
  },
  {
   "cell_type": "code",
   "execution_count": 60,
   "metadata": {},
   "outputs": [
    {
     "name": "stdout",
     "output_type": "stream",
     "text": [
      "Done.\n"
     ]
    },
    {
     "data": {
      "text/plain": [
       "[]"
      ]
     },
     "execution_count": 60,
     "metadata": {},
     "output_type": "execute_result"
    }
   ],
   "source": [
    "%%sql\n",
    "TRUNCATE budget_register CASCADE;"
   ]
  },
  {
   "cell_type": "code",
   "execution_count": 61,
   "metadata": {},
   "outputs": [
    {
     "name": "stdout",
     "output_type": "stream",
     "text": [
      "23 rows affected.\n"
     ]
    },
    {
     "data": {
      "text/plain": [
       "[]"
      ]
     },
     "execution_count": 61,
     "metadata": {},
     "output_type": "execute_result"
    }
   ],
   "source": [
    "%%sql\n",
    "INSERT INTO budget_register VALUES\n",
    "    (1, 45, 18, 0, 35.00, '2018-1-31', 'Cash','log rolling'),\n",
    "    (2, 41, 6, 0, 21.76, '2018-2-09', 'Venmo','dessert social'),\n",
    "    (3, 45, 18, 0, 149.00, '2018-2-13', 'Card','basketball'),\n",
    "    (4, 41, 6, 0, 80.09, '2018-2-13', 'Venmo','dessert social'),\n",
    "    (5, 41, 6, 0, 20.51, '2018-2-13', 'Card','dessert social'),\n",
    "    (6, 41, 6, 0, 14.77, '2018-2-13', 'Venmo','dessert social'),\n",
    "    (7, 45, 18, 0, 149.00, '2018-2-15', 'Card','soccer'),\n",
    "    (8, 43, 15, 0, 84.00, '2018-2-17', 'Cash','vag mono tickets'),\n",
    "    (9, 41, 6, 0, 15.77, '2018-2-19', 'Cash','tripod games'),\n",
    "    (10, 41, 6, 0, 35.00, '2018-2-16', 'Check','dinner with bros'),\n",
    "    (11, 42, 7, 0, 71.74, '2018-2-19', 'Check','pins'),\n",
    "    (12, 41, 6, 0, 35.00, '2018-2-20', 'Cash','dinner with bros'),\n",
    "    (13, 41, 6, 0, 22.98, '2018-2-26', 'Cash','printing bid papers'),\n",
    "    (14, 45, 18, 0, 88.00, '2018-2-26', 'Cash','soccer equipment'),\n",
    "    (15, 41, 6, 0, 40.96, '2018-2-27', 'Venmo','dinner with bros'),\n",
    "    (16, 42, 7, 0, 351.75, '2018-3-11', 'Card','tshirts'),\n",
    "    (17, 42, 7, 0, 13.64, '2018-3-11', 'Cash','initiate snacks'),\n",
    "    (18, 45, 18, 0, 99.00, '2018-3-15', 'Card','sand volleyball'),\n",
    "    (19, 44, 16, 0, 52.50, '2018-3-18', 'Cash','skating'),\n",
    "    (20, 42, 7, 0, 31.94, '2018-3-18', 'Cash','initiate snacks'),\n",
    "    (21, 44, 16, 0, 42.53, '2018-3-19', 'Cash','midterm mind break'),\n",
    "    (22, 43, 15, 0, 41.59, '2018-4-02', 'Cash','cultural cooking'),\n",
    "    (23, 43, 15, 0, 167.18, '2018-4-08', 'Cash','ted talks')\n",
    ";"
   ]
  },
  {
   "cell_type": "markdown",
   "metadata": {},
   "source": [
    "## point_type table"
   ]
  },
  {
   "cell_type": "code",
   "execution_count": 62,
   "metadata": {},
   "outputs": [
    {
     "name": "stdout",
     "output_type": "stream",
     "text": [
      "Done.\n"
     ]
    },
    {
     "data": {
      "text/plain": [
       "[]"
      ]
     },
     "execution_count": 62,
     "metadata": {},
     "output_type": "execute_result"
    }
   ],
   "source": [
    "%%sql \n",
    "CREATE TABLE point_type (\n",
    "    type_id INTEGER PRIMARY KEY,\n",
    "    name VARCHAR(255)\n",
    ");"
   ]
  },
  {
   "cell_type": "code",
   "execution_count": 63,
   "metadata": {},
   "outputs": [
    {
     "name": "stdout",
     "output_type": "stream",
     "text": [
      "Done.\n"
     ]
    },
    {
     "data": {
      "text/plain": [
       "[]"
      ]
     },
     "execution_count": 63,
     "metadata": {},
     "output_type": "execute_result"
    }
   ],
   "source": [
    "%%sql\n",
    "TRUNCATE point_type CASCADE;"
   ]
  },
  {
   "cell_type": "code",
   "execution_count": 64,
   "metadata": {},
   "outputs": [
    {
     "name": "stdout",
     "output_type": "stream",
     "text": [
      "5 rows affected.\n"
     ]
    },
    {
     "data": {
      "text/plain": [
       "[]"
      ]
     },
     "execution_count": 64,
     "metadata": {},
     "output_type": "execute_result"
    }
   ],
   "source": [
    "%%sql\n",
    "INSERT INTO point_type VALUES\n",
    "    (1, 'DAS'),\n",
    "    (2, 'Fellowship'),\n",
    "    (3, 'Service'),\n",
    "    (4, 'Fundraising'),\n",
    "    (5, 'Campus Liason')\n",
    "    /* ADD types for voting and other requirements */\n",
    ";"
   ]
  },
  {
   "cell_type": "markdown",
   "metadata": {},
   "source": [
    "## events table\n",
    "* Trigger: When point_type is updated event_attendance should be updated\n",
    "    * events.point_type = event_attendance.point_type\n",
    "    * or memberPoint_associative"
   ]
  },
  {
   "cell_type": "code",
   "execution_count": 65,
   "metadata": {},
   "outputs": [
    {
     "name": "stdout",
     "output_type": "stream",
     "text": [
      "Done.\n"
     ]
    },
    {
     "data": {
      "text/plain": [
       "[]"
      ]
     },
     "execution_count": 65,
     "metadata": {},
     "output_type": "execute_result"
    }
   ],
   "source": [
    "%%sql\n",
    "CREATE TABLE events (\n",
    "    event_id INTEGER PRIMARY KEY,\n",
    "    position_id INTEGER REFERENCES chairPosition (position_id),\n",
    "    point_type INTEGER NOT NULL REFERENCES point_type (type_id),\n",
    "    num_of_points INTEGER NOT NULL, /* Default should be 1 but can sometimes be 2 or more */\n",
    "    title VARCHAR(255), /* Name of the event */\n",
    "    event_date DATE,\n",
    "    semester VARCHAR(255)\n",
    ");"
   ]
  },
  {
   "cell_type": "code",
   "execution_count": 66,
   "metadata": {},
   "outputs": [
    {
     "name": "stdout",
     "output_type": "stream",
     "text": [
      "Done.\n"
     ]
    },
    {
     "data": {
      "text/plain": [
       "[]"
      ]
     },
     "execution_count": 66,
     "metadata": {},
     "output_type": "execute_result"
    }
   ],
   "source": [
    "%%sql\n",
    "TRUNCATE events CASCADE;"
   ]
  },
  {
   "cell_type": "code",
   "execution_count": 67,
   "metadata": {},
   "outputs": [
    {
     "name": "stdout",
     "output_type": "stream",
     "text": [
      "20 rows affected.\n"
     ]
    },
    {
     "data": {
      "text/plain": [
       "[]"
      ]
     },
     "execution_count": 67,
     "metadata": {},
     "output_type": "execute_result"
    }
   ],
   "source": [
    "%%sql\n",
    "INSERT INTO events VALUES\n",
    "    /* DAS Events */\n",
    "    \n",
    "    (1,15,1,1,'Ted Talks',current_date - 30,'Spring'),\n",
    "    (2,15,1,1,'Cultural Potluck',current_date - 29,'Spring'),\n",
    "    (3,15,1,1,'Vagina Monologues',current_date - 28,'Spring'),\n",
    "    (4,15,1,1,'Documentary Night',current_date - 27,'Spring'),\n",
    "    (5,15,1,1,'Cultural Center Tour',current_date - 26,'Spring'),\n",
    "    \n",
    "    /* Fellowship Events */\n",
    "    \n",
    "    (6,16,2,1,'Video Game Night',current_date - 27,'Spring'),\n",
    "    (7,16,2,1,'Board Game Night',current_date - 26,'Spring'),\n",
    "    (8,16,2,1,'Games on the Quad',current_date - 25,'Spring'),\n",
    "    (9,16,2,1,'Capture the Flag',current_date - 24,'Spring'),\n",
    "    (10,16,2,1,'Movie Night',current_date - 23,'Spring'),\n",
    "    (11,16,2,1,'Morning Cartoons',current_date - 22,'Spring'),\n",
    "    \n",
    "    /* Service Events */\n",
    "    \n",
    "    (12,14,3,1,'Trash Cleanup',current_date - 21,'Spring'),\n",
    "    (13,14,3,1,'Food Bank',current_date - 20,'Spring'),\n",
    "    (14,14,3,1,'Clean up COMO',current_date - 10,'Spring'),\n",
    "    \n",
    "    /* Fundraising Events */\n",
    "    \n",
    "    (15,11,4,1,'Football Cleanup',current_date - 9,'Spring'),\n",
    "    (16,11,4,1,'Shakespeares Profit Share',current_date - 8,'Spring'),\n",
    "    (17,11,4,1,'Smoothie King Profit Share',current_date - 7,'Spring'),\n",
    "    \n",
    "    /* Campus Liason Events */\n",
    "    \n",
    "    (18,22,5,1,'Its On Us',current_date - 6,'Spring'),\n",
    "    (19,22,5,1,'Special Speaker',current_date - 5,'Spring'),\n",
    "    (20,22,5,1,'True/False',current_date - 4,'Spring')\n",
    "    \n",
    ";"
   ]
  },
  {
   "cell_type": "markdown",
   "metadata": {},
   "source": [
    "## event_attendance table"
   ]
  },
  {
   "cell_type": "code",
   "execution_count": 68,
   "metadata": {},
   "outputs": [
    {
     "name": "stdout",
     "output_type": "stream",
     "text": [
      "Done.\n"
     ]
    },
    {
     "data": {
      "text/plain": [
       "[]"
      ]
     },
     "execution_count": 68,
     "metadata": {},
     "output_type": "execute_result"
    }
   ],
   "source": [
    "%%sql\n",
    "CREATE TABLE event_attendance (\n",
    "    event_id INTEGER REFERENCES events (event_id),\n",
    "    student_id INTEGER REFERENCES member (student_id),\n",
    "    point_type INTEGER REFERENCES point_type (type_id),\n",
    "    PRIMARY KEY (event_id, student_id)\n",
    ");"
   ]
  },
  {
   "cell_type": "code",
   "execution_count": 69,
   "metadata": {},
   "outputs": [
    {
     "name": "stdout",
     "output_type": "stream",
     "text": [
      "Done.\n"
     ]
    },
    {
     "data": {
      "text/plain": [
       "[]"
      ]
     },
     "execution_count": 69,
     "metadata": {},
     "output_type": "execute_result"
    }
   ],
   "source": [
    "%%sql\n",
    "TRUNCATE event_attendance CASCADE;"
   ]
  },
  {
   "cell_type": "code",
   "execution_count": 70,
   "metadata": {},
   "outputs": [
    {
     "name": "stdout",
     "output_type": "stream",
     "text": [
      "75 rows affected.\n"
     ]
    },
    {
     "data": {
      "text/plain": [
       "[]"
      ]
     },
     "execution_count": 70,
     "metadata": {},
     "output_type": "execute_result"
    }
   ],
   "source": [
    "%%sql\n",
    "INSERT INTO event_attendance VALUES\n",
    "/* DAS Events */\n",
    "    (1,1,1),\n",
    "    (2,2,1),\n",
    "    (3,3,1),\n",
    "    (4,4,1),\n",
    "    (5,5,1),\n",
    "    (1,6,1),\n",
    "    (2,1,1),\n",
    "    (3,7,1),\n",
    "    (4,90,1),\n",
    "    (5,91,1),\n",
    "    (1,54,1),\n",
    "    (2,56,1),\n",
    "    (3,57,1),\n",
    "    (4,23,1),\n",
    "    (5,24,1),\n",
    "/* Fellowship Events */\n",
    "    (6,1,2),\n",
    "    (7,45,2),\n",
    "    (8,46,2),\n",
    "    (9,47,2),\n",
    "    (10,82,2),\n",
    "    (11,81,2),\n",
    "    (6,80,2),\n",
    "    (7,90,2),\n",
    "    (8,99,2),\n",
    "    (9,100,2),\n",
    "    (10,12,2),\n",
    "    (11,1,2),\n",
    "    (6,22,2),\n",
    "    (7,23,2),\n",
    "    (8,24,2),\n",
    "/* Service Events */\n",
    "    (12,1,3),\n",
    "    (13,37,3),\n",
    "    (14,38,3),\n",
    "    (12,39,3),\n",
    "    (13,40,3),\n",
    "    (14,41,3),\n",
    "    (12,42,3),\n",
    "    (13,43,3),\n",
    "    (14,44,3),\n",
    "    (12,45,3),\n",
    "    (13,46,3),\n",
    "    (14,1,3),\n",
    "    (12,47,3),\n",
    "    (13,48,3),\n",
    "    (14,60,3),\n",
    "/* Fundraising Events */\n",
    "    (15,1,4),\n",
    "    (16,53,4),\n",
    "    (17,54,4),\n",
    "    (15,56,4),\n",
    "    (16,77,4),\n",
    "    (17,76,4),\n",
    "    (15,75,4),\n",
    "    (16,74,4),\n",
    "    (17,55,4),\n",
    "    (15,73,4),\n",
    "    (16,72,4),\n",
    "    (17,71,4),\n",
    "    (15,88,4),\n",
    "    (16,87,4),\n",
    "    (17,86,4),\n",
    "/* Campus Liason Events */\n",
    "    (18,1,5),\n",
    "    (19,98,5),\n",
    "    (20,1,5),\n",
    "    (18,97,5),\n",
    "    (19,96,5),\n",
    "    (20,95,5),\n",
    "    (18,94,5),\n",
    "    (19,93,5),\n",
    "    (20,92,5),\n",
    "    (18,91,5),\n",
    "    (19,12,5),\n",
    "    (20,13,5),\n",
    "    (18,14,5),\n",
    "    (19,15,5),\n",
    "    (20,16,5)\n",
    ";"
   ]
  },
  {
   "cell_type": "markdown",
   "metadata": {},
   "source": [
    "## memberPoints_assoc table **** (Delete Possibly)"
   ]
  },
  {
   "cell_type": "code",
   "execution_count": 71,
   "metadata": {},
   "outputs": [
    {
     "name": "stdout",
     "output_type": "stream",
     "text": [
      "Done.\n"
     ]
    },
    {
     "data": {
      "text/plain": [
       "[]"
      ]
     },
     "execution_count": 71,
     "metadata": {},
     "output_type": "execute_result"
    }
   ],
   "source": [
    "%%sql\n",
    "CREATE TABLE memberPoints_assoc (\n",
    "    student_id INTEGER REFERENCES member (student_id),\n",
    "    point_type INTEGER REFERENCES point_type (type_id),\n",
    "    PRIMARY KEY (student_id, point_type)\n",
    ");"
   ]
  },
  {
   "cell_type": "code",
   "execution_count": 72,
   "metadata": {},
   "outputs": [
    {
     "name": "stdout",
     "output_type": "stream",
     "text": [
      "Done.\n"
     ]
    },
    {
     "data": {
      "text/plain": [
       "[]"
      ]
     },
     "execution_count": 72,
     "metadata": {},
     "output_type": "execute_result"
    }
   ],
   "source": [
    "%%sql\n",
    "TRUNCATE memberPoints_assoc CASCADE;"
   ]
  },
  {
   "cell_type": "code",
   "execution_count": 73,
   "metadata": {
    "collapsed": true
   },
   "outputs": [
    {
     "ename": "IntegrityError",
     "evalue": "(psycopg2.IntegrityError) duplicate key value violates unique constraint \"member_status_pkey\"\nDETAIL:  Key (status_id)=(1) already exists.\n [SQL: \"INSERT INTO member_status VALUES\\n    (1, 'Active'),\\n    (2, 'Locally Inactive'),\\n    (3, 'Nationally Inactive'),\\n    (4, 'Alumni')\\n;\"]",
     "output_type": "error",
     "traceback": [
      "\u001b[0;31m---------------------------------------------------------------------------\u001b[0m",
      "\u001b[0;31mIntegrityError\u001b[0m                            Traceback (most recent call last)",
      "\u001b[0;32m/usr/lib64/python3.4/site-packages/sqlalchemy/engine/base.py\u001b[0m in \u001b[0;36m_execute_context\u001b[0;34m(self, dialect, constructor, statement, parameters, *args)\u001b[0m\n\u001b[1;32m   1181\u001b[0m                         \u001b[0mparameters\u001b[0m\u001b[0;34m,\u001b[0m\u001b[0;34m\u001b[0m\u001b[0m\n\u001b[0;32m-> 1182\u001b[0;31m                         context)\n\u001b[0m\u001b[1;32m   1183\u001b[0m         \u001b[0;32mexcept\u001b[0m \u001b[0mBaseException\u001b[0m \u001b[0;32mas\u001b[0m \u001b[0me\u001b[0m\u001b[0;34m:\u001b[0m\u001b[0;34m\u001b[0m\u001b[0m\n",
      "\u001b[0;32m/usr/lib64/python3.4/site-packages/sqlalchemy/engine/default.py\u001b[0m in \u001b[0;36mdo_execute\u001b[0;34m(self, cursor, statement, parameters, context)\u001b[0m\n\u001b[1;32m    469\u001b[0m     \u001b[0;32mdef\u001b[0m \u001b[0mdo_execute\u001b[0m\u001b[0;34m(\u001b[0m\u001b[0mself\u001b[0m\u001b[0;34m,\u001b[0m \u001b[0mcursor\u001b[0m\u001b[0;34m,\u001b[0m \u001b[0mstatement\u001b[0m\u001b[0;34m,\u001b[0m \u001b[0mparameters\u001b[0m\u001b[0;34m,\u001b[0m \u001b[0mcontext\u001b[0m\u001b[0;34m=\u001b[0m\u001b[0;32mNone\u001b[0m\u001b[0;34m)\u001b[0m\u001b[0;34m:\u001b[0m\u001b[0;34m\u001b[0m\u001b[0m\n\u001b[0;32m--> 470\u001b[0;31m         \u001b[0mcursor\u001b[0m\u001b[0;34m.\u001b[0m\u001b[0mexecute\u001b[0m\u001b[0;34m(\u001b[0m\u001b[0mstatement\u001b[0m\u001b[0;34m,\u001b[0m \u001b[0mparameters\u001b[0m\u001b[0;34m)\u001b[0m\u001b[0;34m\u001b[0m\u001b[0m\n\u001b[0m\u001b[1;32m    471\u001b[0m \u001b[0;34m\u001b[0m\u001b[0m\n",
      "\u001b[0;31mIntegrityError\u001b[0m: duplicate key value violates unique constraint \"member_status_pkey\"\nDETAIL:  Key (status_id)=(1) already exists.\n",
      "\nThe above exception was the direct cause of the following exception:\n",
      "\u001b[0;31mIntegrityError\u001b[0m                            Traceback (most recent call last)",
      "\u001b[0;32m<ipython-input-73-1f16b6801cb4>\u001b[0m in \u001b[0;36m<module>\u001b[0;34m()\u001b[0m\n\u001b[0;32m----> 1\u001b[0;31m \u001b[0mget_ipython\u001b[0m\u001b[0;34m(\u001b[0m\u001b[0;34m)\u001b[0m\u001b[0;34m.\u001b[0m\u001b[0mrun_cell_magic\u001b[0m\u001b[0;34m(\u001b[0m\u001b[0;34m'sql'\u001b[0m\u001b[0;34m,\u001b[0m \u001b[0;34m''\u001b[0m\u001b[0;34m,\u001b[0m \u001b[0;34m\"INSERT INTO member_status VALUES\\n    (1, 'Active'),\\n    (2, 'Locally Inactive'),\\n    (3, 'Nationally Inactive'),\\n    (4, 'Alumni')\\n;\"\u001b[0m\u001b[0;34m)\u001b[0m\u001b[0;34m\u001b[0m\u001b[0m\n\u001b[0m",
      "\u001b[0;32m/usr/lib/python3.4/site-packages/IPython/core/interactiveshell.py\u001b[0m in \u001b[0;36mrun_cell_magic\u001b[0;34m(self, magic_name, line, cell)\u001b[0m\n\u001b[1;32m   2129\u001b[0m             \u001b[0mmagic_arg_s\u001b[0m \u001b[0;34m=\u001b[0m \u001b[0mself\u001b[0m\u001b[0;34m.\u001b[0m\u001b[0mvar_expand\u001b[0m\u001b[0;34m(\u001b[0m\u001b[0mline\u001b[0m\u001b[0;34m,\u001b[0m \u001b[0mstack_depth\u001b[0m\u001b[0;34m)\u001b[0m\u001b[0;34m\u001b[0m\u001b[0m\n\u001b[1;32m   2130\u001b[0m             \u001b[0;32mwith\u001b[0m \u001b[0mself\u001b[0m\u001b[0;34m.\u001b[0m\u001b[0mbuiltin_trap\u001b[0m\u001b[0;34m:\u001b[0m\u001b[0;34m\u001b[0m\u001b[0m\n\u001b[0;32m-> 2131\u001b[0;31m                 \u001b[0mresult\u001b[0m \u001b[0;34m=\u001b[0m \u001b[0mfn\u001b[0m\u001b[0;34m(\u001b[0m\u001b[0mmagic_arg_s\u001b[0m\u001b[0;34m,\u001b[0m \u001b[0mcell\u001b[0m\u001b[0;34m)\u001b[0m\u001b[0;34m\u001b[0m\u001b[0m\n\u001b[0m\u001b[1;32m   2132\u001b[0m             \u001b[0;32mreturn\u001b[0m \u001b[0mresult\u001b[0m\u001b[0;34m\u001b[0m\u001b[0m\n\u001b[1;32m   2133\u001b[0m \u001b[0;34m\u001b[0m\u001b[0m\n",
      "\u001b[0;32m<decorator-gen-126>\u001b[0m in \u001b[0;36mexecute\u001b[0;34m(self, line, cell, local_ns)\u001b[0m\n",
      "\u001b[0;32m/usr/lib/python3.4/site-packages/IPython/core/magic.py\u001b[0m in \u001b[0;36m<lambda>\u001b[0;34m(f, *a, **k)\u001b[0m\n\u001b[1;32m    185\u001b[0m     \u001b[0;31m# but it's overkill for just that one bit of state.\u001b[0m\u001b[0;34m\u001b[0m\u001b[0;34m\u001b[0m\u001b[0m\n\u001b[1;32m    186\u001b[0m     \u001b[0;32mdef\u001b[0m \u001b[0mmagic_deco\u001b[0m\u001b[0;34m(\u001b[0m\u001b[0marg\u001b[0m\u001b[0;34m)\u001b[0m\u001b[0;34m:\u001b[0m\u001b[0;34m\u001b[0m\u001b[0m\n\u001b[0;32m--> 187\u001b[0;31m         \u001b[0mcall\u001b[0m \u001b[0;34m=\u001b[0m \u001b[0;32mlambda\u001b[0m \u001b[0mf\u001b[0m\u001b[0;34m,\u001b[0m \u001b[0;34m*\u001b[0m\u001b[0ma\u001b[0m\u001b[0;34m,\u001b[0m \u001b[0;34m**\u001b[0m\u001b[0mk\u001b[0m\u001b[0;34m:\u001b[0m \u001b[0mf\u001b[0m\u001b[0;34m(\u001b[0m\u001b[0;34m*\u001b[0m\u001b[0ma\u001b[0m\u001b[0;34m,\u001b[0m \u001b[0;34m**\u001b[0m\u001b[0mk\u001b[0m\u001b[0;34m)\u001b[0m\u001b[0;34m\u001b[0m\u001b[0m\n\u001b[0m\u001b[1;32m    188\u001b[0m \u001b[0;34m\u001b[0m\u001b[0m\n\u001b[1;32m    189\u001b[0m         \u001b[0;32mif\u001b[0m \u001b[0mcallable\u001b[0m\u001b[0;34m(\u001b[0m\u001b[0marg\u001b[0m\u001b[0;34m)\u001b[0m\u001b[0;34m:\u001b[0m\u001b[0;34m\u001b[0m\u001b[0m\n",
      "\u001b[0;32m<decorator-gen-125>\u001b[0m in \u001b[0;36mexecute\u001b[0;34m(self, line, cell, local_ns)\u001b[0m\n",
      "\u001b[0;32m/usr/lib/python3.4/site-packages/IPython/core/magic.py\u001b[0m in \u001b[0;36m<lambda>\u001b[0;34m(f, *a, **k)\u001b[0m\n\u001b[1;32m    185\u001b[0m     \u001b[0;31m# but it's overkill for just that one bit of state.\u001b[0m\u001b[0;34m\u001b[0m\u001b[0;34m\u001b[0m\u001b[0m\n\u001b[1;32m    186\u001b[0m     \u001b[0;32mdef\u001b[0m \u001b[0mmagic_deco\u001b[0m\u001b[0;34m(\u001b[0m\u001b[0marg\u001b[0m\u001b[0;34m)\u001b[0m\u001b[0;34m:\u001b[0m\u001b[0;34m\u001b[0m\u001b[0m\n\u001b[0;32m--> 187\u001b[0;31m         \u001b[0mcall\u001b[0m \u001b[0;34m=\u001b[0m \u001b[0;32mlambda\u001b[0m \u001b[0mf\u001b[0m\u001b[0;34m,\u001b[0m \u001b[0;34m*\u001b[0m\u001b[0ma\u001b[0m\u001b[0;34m,\u001b[0m \u001b[0;34m**\u001b[0m\u001b[0mk\u001b[0m\u001b[0;34m:\u001b[0m \u001b[0mf\u001b[0m\u001b[0;34m(\u001b[0m\u001b[0;34m*\u001b[0m\u001b[0ma\u001b[0m\u001b[0;34m,\u001b[0m \u001b[0;34m**\u001b[0m\u001b[0mk\u001b[0m\u001b[0;34m)\u001b[0m\u001b[0;34m\u001b[0m\u001b[0m\n\u001b[0m\u001b[1;32m    188\u001b[0m \u001b[0;34m\u001b[0m\u001b[0m\n\u001b[1;32m    189\u001b[0m         \u001b[0;32mif\u001b[0m \u001b[0mcallable\u001b[0m\u001b[0;34m(\u001b[0m\u001b[0marg\u001b[0m\u001b[0;34m)\u001b[0m\u001b[0;34m:\u001b[0m\u001b[0;34m\u001b[0m\u001b[0m\n",
      "\u001b[0;32m/usr/lib/python3.4/site-packages/sql/magic.py\u001b[0m in \u001b[0;36mexecute\u001b[0;34m(self, line, cell, local_ns)\u001b[0m\n\u001b[1;32m     85\u001b[0m \u001b[0;34m\u001b[0m\u001b[0m\n\u001b[1;32m     86\u001b[0m         \u001b[0;32mtry\u001b[0m\u001b[0;34m:\u001b[0m\u001b[0;34m\u001b[0m\u001b[0m\n\u001b[0;32m---> 87\u001b[0;31m             \u001b[0mresult\u001b[0m \u001b[0;34m=\u001b[0m \u001b[0msql\u001b[0m\u001b[0;34m.\u001b[0m\u001b[0mrun\u001b[0m\u001b[0;34m.\u001b[0m\u001b[0mrun\u001b[0m\u001b[0;34m(\u001b[0m\u001b[0mconn\u001b[0m\u001b[0;34m,\u001b[0m \u001b[0mparsed\u001b[0m\u001b[0;34m[\u001b[0m\u001b[0;34m'sql'\u001b[0m\u001b[0;34m]\u001b[0m\u001b[0;34m,\u001b[0m \u001b[0mself\u001b[0m\u001b[0;34m,\u001b[0m \u001b[0muser_ns\u001b[0m\u001b[0;34m)\u001b[0m\u001b[0;34m\u001b[0m\u001b[0m\n\u001b[0m\u001b[1;32m     88\u001b[0m \u001b[0;34m\u001b[0m\u001b[0m\n\u001b[1;32m     89\u001b[0m             \u001b[0;32mif\u001b[0m \u001b[0mresult\u001b[0m \u001b[0;32mand\u001b[0m \u001b[0;34m~\u001b[0m\u001b[0misinstance\u001b[0m\u001b[0;34m(\u001b[0m\u001b[0mresult\u001b[0m\u001b[0;34m,\u001b[0m \u001b[0mstr\u001b[0m\u001b[0;34m)\u001b[0m \u001b[0;32mand\u001b[0m \u001b[0mself\u001b[0m\u001b[0;34m.\u001b[0m\u001b[0mcolumn_local_vars\u001b[0m\u001b[0;34m:\u001b[0m\u001b[0;34m\u001b[0m\u001b[0m\n",
      "\u001b[0;32m/usr/lib/python3.4/site-packages/sql/run.py\u001b[0m in \u001b[0;36mrun\u001b[0;34m(conn, sql, config, user_namespace)\u001b[0m\n\u001b[1;32m    274\u001b[0m                 \u001b[0;32mraise\u001b[0m \u001b[0mException\u001b[0m\u001b[0;34m(\u001b[0m\u001b[0;34m\"ipython_sql does not support transactions\"\u001b[0m\u001b[0;34m)\u001b[0m\u001b[0;34m\u001b[0m\u001b[0m\n\u001b[1;32m    275\u001b[0m             \u001b[0mtxt\u001b[0m \u001b[0;34m=\u001b[0m \u001b[0msqlalchemy\u001b[0m\u001b[0;34m.\u001b[0m\u001b[0msql\u001b[0m\u001b[0;34m.\u001b[0m\u001b[0mtext\u001b[0m\u001b[0;34m(\u001b[0m\u001b[0mstatement\u001b[0m\u001b[0;34m)\u001b[0m\u001b[0;34m\u001b[0m\u001b[0m\n\u001b[0;32m--> 276\u001b[0;31m             \u001b[0mresult\u001b[0m \u001b[0;34m=\u001b[0m \u001b[0mconn\u001b[0m\u001b[0;34m.\u001b[0m\u001b[0msession\u001b[0m\u001b[0;34m.\u001b[0m\u001b[0mexecute\u001b[0m\u001b[0;34m(\u001b[0m\u001b[0mtxt\u001b[0m\u001b[0;34m,\u001b[0m \u001b[0muser_namespace\u001b[0m\u001b[0;34m)\u001b[0m\u001b[0;34m\u001b[0m\u001b[0m\n\u001b[0m\u001b[1;32m    277\u001b[0m             \u001b[0;32mtry\u001b[0m\u001b[0;34m:\u001b[0m\u001b[0;34m\u001b[0m\u001b[0m\n\u001b[1;32m    278\u001b[0m                 \u001b[0;31m# mssql has autocommit\u001b[0m\u001b[0;34m\u001b[0m\u001b[0;34m\u001b[0m\u001b[0m\n",
      "\u001b[0;32m/usr/lib64/python3.4/site-packages/sqlalchemy/engine/base.py\u001b[0m in \u001b[0;36mexecute\u001b[0;34m(self, object, *multiparams, **params)\u001b[0m\n\u001b[1;32m    943\u001b[0m             \u001b[0;32mraise\u001b[0m \u001b[0mexc\u001b[0m\u001b[0;34m.\u001b[0m\u001b[0mObjectNotExecutableError\u001b[0m\u001b[0;34m(\u001b[0m\u001b[0mobject\u001b[0m\u001b[0;34m)\u001b[0m\u001b[0;34m\u001b[0m\u001b[0m\n\u001b[1;32m    944\u001b[0m         \u001b[0;32melse\u001b[0m\u001b[0;34m:\u001b[0m\u001b[0;34m\u001b[0m\u001b[0m\n\u001b[0;32m--> 945\u001b[0;31m             \u001b[0;32mreturn\u001b[0m \u001b[0mmeth\u001b[0m\u001b[0;34m(\u001b[0m\u001b[0mself\u001b[0m\u001b[0;34m,\u001b[0m \u001b[0mmultiparams\u001b[0m\u001b[0;34m,\u001b[0m \u001b[0mparams\u001b[0m\u001b[0;34m)\u001b[0m\u001b[0;34m\u001b[0m\u001b[0m\n\u001b[0m\u001b[1;32m    946\u001b[0m \u001b[0;34m\u001b[0m\u001b[0m\n\u001b[1;32m    947\u001b[0m     \u001b[0;32mdef\u001b[0m \u001b[0m_execute_function\u001b[0m\u001b[0;34m(\u001b[0m\u001b[0mself\u001b[0m\u001b[0;34m,\u001b[0m \u001b[0mfunc\u001b[0m\u001b[0;34m,\u001b[0m \u001b[0mmultiparams\u001b[0m\u001b[0;34m,\u001b[0m \u001b[0mparams\u001b[0m\u001b[0;34m)\u001b[0m\u001b[0;34m:\u001b[0m\u001b[0;34m\u001b[0m\u001b[0m\n",
      "\u001b[0;32m/usr/lib64/python3.4/site-packages/sqlalchemy/sql/elements.py\u001b[0m in \u001b[0;36m_execute_on_connection\u001b[0;34m(self, connection, multiparams, params)\u001b[0m\n\u001b[1;32m    261\u001b[0m     \u001b[0;32mdef\u001b[0m \u001b[0m_execute_on_connection\u001b[0m\u001b[0;34m(\u001b[0m\u001b[0mself\u001b[0m\u001b[0;34m,\u001b[0m \u001b[0mconnection\u001b[0m\u001b[0;34m,\u001b[0m \u001b[0mmultiparams\u001b[0m\u001b[0;34m,\u001b[0m \u001b[0mparams\u001b[0m\u001b[0;34m)\u001b[0m\u001b[0;34m:\u001b[0m\u001b[0;34m\u001b[0m\u001b[0m\n\u001b[1;32m    262\u001b[0m         \u001b[0;32mif\u001b[0m \u001b[0mself\u001b[0m\u001b[0;34m.\u001b[0m\u001b[0msupports_execution\u001b[0m\u001b[0;34m:\u001b[0m\u001b[0;34m\u001b[0m\u001b[0m\n\u001b[0;32m--> 263\u001b[0;31m             \u001b[0;32mreturn\u001b[0m \u001b[0mconnection\u001b[0m\u001b[0;34m.\u001b[0m\u001b[0m_execute_clauseelement\u001b[0m\u001b[0;34m(\u001b[0m\u001b[0mself\u001b[0m\u001b[0;34m,\u001b[0m \u001b[0mmultiparams\u001b[0m\u001b[0;34m,\u001b[0m \u001b[0mparams\u001b[0m\u001b[0;34m)\u001b[0m\u001b[0;34m\u001b[0m\u001b[0m\n\u001b[0m\u001b[1;32m    264\u001b[0m         \u001b[0;32melse\u001b[0m\u001b[0;34m:\u001b[0m\u001b[0;34m\u001b[0m\u001b[0m\n\u001b[1;32m    265\u001b[0m             \u001b[0;32mraise\u001b[0m \u001b[0mexc\u001b[0m\u001b[0;34m.\u001b[0m\u001b[0mObjectNotExecutableError\u001b[0m\u001b[0;34m(\u001b[0m\u001b[0mself\u001b[0m\u001b[0;34m)\u001b[0m\u001b[0;34m\u001b[0m\u001b[0m\n",
      "\u001b[0;32m/usr/lib64/python3.4/site-packages/sqlalchemy/engine/base.py\u001b[0m in \u001b[0;36m_execute_clauseelement\u001b[0;34m(self, elem, multiparams, params)\u001b[0m\n\u001b[1;32m   1051\u001b[0m             \u001b[0mcompiled_sql\u001b[0m\u001b[0;34m,\u001b[0m\u001b[0;34m\u001b[0m\u001b[0m\n\u001b[1;32m   1052\u001b[0m             \u001b[0mdistilled_params\u001b[0m\u001b[0;34m,\u001b[0m\u001b[0;34m\u001b[0m\u001b[0m\n\u001b[0;32m-> 1053\u001b[0;31m             \u001b[0mcompiled_sql\u001b[0m\u001b[0;34m,\u001b[0m \u001b[0mdistilled_params\u001b[0m\u001b[0;34m\u001b[0m\u001b[0m\n\u001b[0m\u001b[1;32m   1054\u001b[0m         )\n\u001b[1;32m   1055\u001b[0m         \u001b[0;32mif\u001b[0m \u001b[0mself\u001b[0m\u001b[0;34m.\u001b[0m\u001b[0m_has_events\u001b[0m \u001b[0;32mor\u001b[0m \u001b[0mself\u001b[0m\u001b[0;34m.\u001b[0m\u001b[0mengine\u001b[0m\u001b[0;34m.\u001b[0m\u001b[0m_has_events\u001b[0m\u001b[0;34m:\u001b[0m\u001b[0;34m\u001b[0m\u001b[0m\n",
      "\u001b[0;32m/usr/lib64/python3.4/site-packages/sqlalchemy/engine/base.py\u001b[0m in \u001b[0;36m_execute_context\u001b[0;34m(self, dialect, constructor, statement, parameters, *args)\u001b[0m\n\u001b[1;32m   1187\u001b[0m                 \u001b[0mparameters\u001b[0m\u001b[0;34m,\u001b[0m\u001b[0;34m\u001b[0m\u001b[0m\n\u001b[1;32m   1188\u001b[0m                 \u001b[0mcursor\u001b[0m\u001b[0;34m,\u001b[0m\u001b[0;34m\u001b[0m\u001b[0m\n\u001b[0;32m-> 1189\u001b[0;31m                 context)\n\u001b[0m\u001b[1;32m   1190\u001b[0m \u001b[0;34m\u001b[0m\u001b[0m\n\u001b[1;32m   1191\u001b[0m         \u001b[0;32mif\u001b[0m \u001b[0mself\u001b[0m\u001b[0;34m.\u001b[0m\u001b[0m_has_events\u001b[0m \u001b[0;32mor\u001b[0m \u001b[0mself\u001b[0m\u001b[0;34m.\u001b[0m\u001b[0mengine\u001b[0m\u001b[0;34m.\u001b[0m\u001b[0m_has_events\u001b[0m\u001b[0;34m:\u001b[0m\u001b[0;34m\u001b[0m\u001b[0m\n",
      "\u001b[0;32m/usr/lib64/python3.4/site-packages/sqlalchemy/engine/base.py\u001b[0m in \u001b[0;36m_handle_dbapi_exception\u001b[0;34m(self, e, statement, parameters, cursor, context)\u001b[0m\n\u001b[1;32m   1400\u001b[0m                 util.raise_from_cause(\n\u001b[1;32m   1401\u001b[0m                     \u001b[0msqlalchemy_exception\u001b[0m\u001b[0;34m,\u001b[0m\u001b[0;34m\u001b[0m\u001b[0m\n\u001b[0;32m-> 1402\u001b[0;31m                     \u001b[0mexc_info\u001b[0m\u001b[0;34m\u001b[0m\u001b[0m\n\u001b[0m\u001b[1;32m   1403\u001b[0m                 )\n\u001b[1;32m   1404\u001b[0m             \u001b[0;32melse\u001b[0m\u001b[0;34m:\u001b[0m\u001b[0;34m\u001b[0m\u001b[0m\n",
      "\u001b[0;32m/usr/lib64/python3.4/site-packages/sqlalchemy/util/compat.py\u001b[0m in \u001b[0;36mraise_from_cause\u001b[0;34m(exception, exc_info)\u001b[0m\n\u001b[1;32m    201\u001b[0m     \u001b[0mexc_type\u001b[0m\u001b[0;34m,\u001b[0m \u001b[0mexc_value\u001b[0m\u001b[0;34m,\u001b[0m \u001b[0mexc_tb\u001b[0m \u001b[0;34m=\u001b[0m \u001b[0mexc_info\u001b[0m\u001b[0;34m\u001b[0m\u001b[0m\n\u001b[1;32m    202\u001b[0m     \u001b[0mcause\u001b[0m \u001b[0;34m=\u001b[0m \u001b[0mexc_value\u001b[0m \u001b[0;32mif\u001b[0m \u001b[0mexc_value\u001b[0m \u001b[0;32mis\u001b[0m \u001b[0;32mnot\u001b[0m \u001b[0mexception\u001b[0m \u001b[0;32melse\u001b[0m \u001b[0;32mNone\u001b[0m\u001b[0;34m\u001b[0m\u001b[0m\n\u001b[0;32m--> 203\u001b[0;31m     \u001b[0mreraise\u001b[0m\u001b[0;34m(\u001b[0m\u001b[0mtype\u001b[0m\u001b[0;34m(\u001b[0m\u001b[0mexception\u001b[0m\u001b[0;34m)\u001b[0m\u001b[0;34m,\u001b[0m \u001b[0mexception\u001b[0m\u001b[0;34m,\u001b[0m \u001b[0mtb\u001b[0m\u001b[0;34m=\u001b[0m\u001b[0mexc_tb\u001b[0m\u001b[0;34m,\u001b[0m \u001b[0mcause\u001b[0m\u001b[0;34m=\u001b[0m\u001b[0mcause\u001b[0m\u001b[0;34m)\u001b[0m\u001b[0;34m\u001b[0m\u001b[0m\n\u001b[0m\u001b[1;32m    204\u001b[0m \u001b[0;34m\u001b[0m\u001b[0m\n\u001b[1;32m    205\u001b[0m \u001b[0;32mif\u001b[0m \u001b[0mpy3k\u001b[0m\u001b[0;34m:\u001b[0m\u001b[0;34m\u001b[0m\u001b[0m\n",
      "\u001b[0;32m/usr/lib64/python3.4/site-packages/sqlalchemy/util/compat.py\u001b[0m in \u001b[0;36mreraise\u001b[0;34m(tp, value, tb, cause)\u001b[0m\n\u001b[1;32m    184\u001b[0m             \u001b[0mvalue\u001b[0m\u001b[0;34m.\u001b[0m\u001b[0m__cause__\u001b[0m \u001b[0;34m=\u001b[0m \u001b[0mcause\u001b[0m\u001b[0;34m\u001b[0m\u001b[0m\n\u001b[1;32m    185\u001b[0m         \u001b[0;32mif\u001b[0m \u001b[0mvalue\u001b[0m\u001b[0;34m.\u001b[0m\u001b[0m__traceback__\u001b[0m \u001b[0;32mis\u001b[0m \u001b[0;32mnot\u001b[0m \u001b[0mtb\u001b[0m\u001b[0;34m:\u001b[0m\u001b[0;34m\u001b[0m\u001b[0m\n\u001b[0;32m--> 186\u001b[0;31m             \u001b[0;32mraise\u001b[0m \u001b[0mvalue\u001b[0m\u001b[0;34m.\u001b[0m\u001b[0mwith_traceback\u001b[0m\u001b[0;34m(\u001b[0m\u001b[0mtb\u001b[0m\u001b[0;34m)\u001b[0m\u001b[0;34m\u001b[0m\u001b[0m\n\u001b[0m\u001b[1;32m    187\u001b[0m         \u001b[0;32mraise\u001b[0m \u001b[0mvalue\u001b[0m\u001b[0;34m\u001b[0m\u001b[0m\n\u001b[1;32m    188\u001b[0m \u001b[0;34m\u001b[0m\u001b[0m\n",
      "\u001b[0;32m/usr/lib64/python3.4/site-packages/sqlalchemy/engine/base.py\u001b[0m in \u001b[0;36m_execute_context\u001b[0;34m(self, dialect, constructor, statement, parameters, *args)\u001b[0m\n\u001b[1;32m   1180\u001b[0m                         \u001b[0mstatement\u001b[0m\u001b[0;34m,\u001b[0m\u001b[0;34m\u001b[0m\u001b[0m\n\u001b[1;32m   1181\u001b[0m                         \u001b[0mparameters\u001b[0m\u001b[0;34m,\u001b[0m\u001b[0;34m\u001b[0m\u001b[0m\n\u001b[0;32m-> 1182\u001b[0;31m                         context)\n\u001b[0m\u001b[1;32m   1183\u001b[0m         \u001b[0;32mexcept\u001b[0m \u001b[0mBaseException\u001b[0m \u001b[0;32mas\u001b[0m \u001b[0me\u001b[0m\u001b[0;34m:\u001b[0m\u001b[0;34m\u001b[0m\u001b[0m\n\u001b[1;32m   1184\u001b[0m             self._handle_dbapi_exception(\n",
      "\u001b[0;32m/usr/lib64/python3.4/site-packages/sqlalchemy/engine/default.py\u001b[0m in \u001b[0;36mdo_execute\u001b[0;34m(self, cursor, statement, parameters, context)\u001b[0m\n\u001b[1;32m    468\u001b[0m \u001b[0;34m\u001b[0m\u001b[0m\n\u001b[1;32m    469\u001b[0m     \u001b[0;32mdef\u001b[0m \u001b[0mdo_execute\u001b[0m\u001b[0;34m(\u001b[0m\u001b[0mself\u001b[0m\u001b[0;34m,\u001b[0m \u001b[0mcursor\u001b[0m\u001b[0;34m,\u001b[0m \u001b[0mstatement\u001b[0m\u001b[0;34m,\u001b[0m \u001b[0mparameters\u001b[0m\u001b[0;34m,\u001b[0m \u001b[0mcontext\u001b[0m\u001b[0;34m=\u001b[0m\u001b[0;32mNone\u001b[0m\u001b[0;34m)\u001b[0m\u001b[0;34m:\u001b[0m\u001b[0;34m\u001b[0m\u001b[0m\n\u001b[0;32m--> 470\u001b[0;31m         \u001b[0mcursor\u001b[0m\u001b[0;34m.\u001b[0m\u001b[0mexecute\u001b[0m\u001b[0;34m(\u001b[0m\u001b[0mstatement\u001b[0m\u001b[0;34m,\u001b[0m \u001b[0mparameters\u001b[0m\u001b[0;34m)\u001b[0m\u001b[0;34m\u001b[0m\u001b[0m\n\u001b[0m\u001b[1;32m    471\u001b[0m \u001b[0;34m\u001b[0m\u001b[0m\n\u001b[1;32m    472\u001b[0m     \u001b[0;32mdef\u001b[0m \u001b[0mdo_execute_no_params\u001b[0m\u001b[0;34m(\u001b[0m\u001b[0mself\u001b[0m\u001b[0;34m,\u001b[0m \u001b[0mcursor\u001b[0m\u001b[0;34m,\u001b[0m \u001b[0mstatement\u001b[0m\u001b[0;34m,\u001b[0m \u001b[0mcontext\u001b[0m\u001b[0;34m=\u001b[0m\u001b[0;32mNone\u001b[0m\u001b[0;34m)\u001b[0m\u001b[0;34m:\u001b[0m\u001b[0;34m\u001b[0m\u001b[0m\n",
      "\u001b[0;31mIntegrityError\u001b[0m: (psycopg2.IntegrityError) duplicate key value violates unique constraint \"member_status_pkey\"\nDETAIL:  Key (status_id)=(1) already exists.\n [SQL: \"INSERT INTO member_status VALUES\\n    (1, 'Active'),\\n    (2, 'Locally Inactive'),\\n    (3, 'Nationally Inactive'),\\n    (4, 'Alumni')\\n;\"]"
     ]
    }
   ],
   "source": [
    "%%sql\n",
    "INSERT INTO member_status VALUES\n",
    "    (1, 'Active'),\n",
    "    (2, 'Locally Inactive'),\n",
    "    (3, 'Nationally Inactive'),\n",
    "    (4, 'Alumni')\n",
    ";"
   ]
  },
  {
   "cell_type": "markdown",
   "metadata": {},
   "source": [
    "## potential_roster table"
   ]
  },
  {
   "cell_type": "code",
   "execution_count": 74,
   "metadata": {},
   "outputs": [
    {
     "name": "stdout",
     "output_type": "stream",
     "text": [
      "Done.\n"
     ]
    },
    {
     "data": {
      "text/plain": [
       "[]"
      ]
     },
     "execution_count": 74,
     "metadata": {},
     "output_type": "execute_result"
    }
   ],
   "source": [
    "%%sql\n",
    "CREATE TABLE potential_roster (   \n",
    "    student_id INTEGER PRIMARY KEY,\n",
    "    pawprint VARCHAR(25),\n",
    "    last_name VARCHAR(50),\n",
    "    first_name VARCHAR(50),\n",
    "    email_address VARCHAR(255),\n",
    "    phone_number VARCHAR(25)\n",
    ");"
   ]
  },
  {
   "cell_type": "code",
   "execution_count": 75,
   "metadata": {},
   "outputs": [
    {
     "name": "stdout",
     "output_type": "stream",
     "text": [
      "Done.\n"
     ]
    },
    {
     "data": {
      "text/plain": [
       "[]"
      ]
     },
     "execution_count": 75,
     "metadata": {},
     "output_type": "execute_result"
    }
   ],
   "source": [
    "%%sql\n",
    "TRUNCATE potential_roster CASCADE;"
   ]
  },
  {
   "cell_type": "code",
   "execution_count": 76,
   "metadata": {},
   "outputs": [
    {
     "name": "stdout",
     "output_type": "stream",
     "text": [
      "51 rows affected.\n"
     ]
    },
    {
     "data": {
      "text/plain": [
       "[]"
      ]
     },
     "execution_count": 76,
     "metadata": {},
     "output_type": "execute_result"
    }
   ],
   "source": [
    "%%sql\n",
    "INSERT INTO potential_roster VALUES\n",
    "    (1, random_string(6),'Carroll','Roy',random_string(8) || '@yahoo.com'),\n",
    "    (2, random_string(6),'Mallory','Alyssa',random_string(8) || '@yahoo.com'),\n",
    "    (3, random_string(6),'Clarence','McNally',random_string(8) || '@yahoo.com'),\n",
    "    (4, random_string(6),'Jessica','Johnson',random_string(8) || '@yahoo.com'),\n",
    "    (5, random_string(6),'Veronica','Steinsfield',random_string(8) || '@yahoo.com'),\n",
    "    (6, random_string(6),'Veronica','Pam',random_string(8) || '@yahoo.com'),\n",
    "    (7, random_string(6),'Henry','Smith',random_string(8) || '@yahoo.com'),\n",
    "    (8, random_string(6),'Johnson','Roy',random_string(8) || '@yahoo.com'),\n",
    "    (9, random_string(6),'Hollander','Bryan',random_string(8) || '@yahoo.com'),\n",
    "    (10, random_string(6),'Gasperino','Muriel',random_string(8) || '@yahoo.com'),\n",
    "    (11, random_string(6),'Brent','Gandy',random_string(8) || '@yahoo.com'),\n",
    "    (12, random_string(6),'Jacobson','Perry',random_string(8) || '@yahoo.com'),\n",
    "    (13, random_string(6),'Klump','Lowell',random_string(8) || '@yahoo.com'),\n",
    "    (14, random_string(6),'Clarence','Cunningham',random_string(8) || '@yahoo.com'),\n",
    "    (15, random_string(6),'Gross','Charlotte',random_string(8) || '@yahoo.com'),\n",
    "    (16, random_string(6),'Francisco','Hoffman',random_string(8) || '@yahoo.com'),\n",
    "    (17, random_string(6),'Douglas','Antoinette',random_string(8) || '@yahoo.com'),\n",
    "    (18, random_string(6),'Graves','Melinda',random_string(8) || '@yahoo.com'),\n",
    "    (19, random_string(6),'Armstrong','Cecelia',random_string(8) || '@yahoo.com'),\n",
    "    (20, random_string(6),'Mcbride','Troy',random_string(8) || '@yahoo.com'),\n",
    "    (21, random_string(6),'Mcgee','Bobbie',random_string(8) || '@yahoo.com'),\n",
    "    (22, random_string(6),'Marshall','Debbie',random_string(8) || '@yahoo.com'),\n",
    "    (23, random_string(6),'Cooper','Natalie',random_string(8) || '@yahoo.com'),\n",
    "    (24, random_string(6),'Harmon','Corey',random_string(8) || '@yahoo.com'),\n",
    "    (25, random_string(6),'Black','Guillermo',random_string(8) || '@yahoo.com'),\n",
    "    (26, random_string(6),'Brewer','Larry',random_string(8) || '@yahoo.com'),\n",
    "    (27, random_string(6),'Hudson','Anne',random_string(8) || '@yahoo.com'),\n",
    "    (28, random_string(6),'Conner','Joe',random_string(8) || '@yahoo.com'),\n",
    "    (29, random_string(6),'Miles','May',random_string(8) || '@yahoo.com'),\n",
    "    (30, random_string(6),'Hayes','Katie',random_string(8) || '@yahoo.com'),\n",
    "    (31, random_string(6),'Boyd','Kyle',random_string(8) || '@yahoo.com'),\n",
    "    (32, random_string(6),'Rodriguez','Nick',random_string(8) || '@yahoo.com'),\n",
    "    (33, random_string(6),'Adams','Kim',random_string(8) || '@yahoo.com'),\n",
    "    (34, random_string(6),'Thompson','Nakia',random_string(8) || '@yahoo.com'),\n",
    "    (35, random_string(6),'Hale','Courtney',random_string(8) || '@yahoo.com'),\n",
    "    (36, random_string(6),'Harper','Jacob',random_string(8) || '@yahoo.com'),\n",
    "    (37, random_string(6),'Mckenzie','Syndey',random_string(8) || '@yahoo.com'),\n",
    "    (38, random_string(6),'Payne','Tyler',random_string(8) || '@yahoo.com'),\n",
    "    (39, random_string(6),'Carlson','Elijah',random_string(8) || '@yahoo.com'),\n",
    "    (40, random_string(6),'Mccarthy','Leroy',random_string(8) || '@yahoo.com'),\n",
    "    (41, random_string(6),'Mccormick','Ronald',random_string(8) || '@yahoo.com'),\n",
    "    (42, random_string(6),'Hill','McKenzie',random_string(8) || '@yahoo.com'),\n",
    "    (43, random_string(6),'Becker','Bea',random_string(8) || '@yahoo.com'),\n",
    "    (44, random_string(6),'West','Jess',random_string(8) || '@yahoo.com'),\n",
    "    (45, random_string(6),'Garth','Mitt',random_string(8) || '@yahoo.com'),\n",
    "    (46, random_string(6),'Brooks','Micheal',random_string(8) || '@yahoo.com'),\n",
    "    (47, random_string(6),'Brown','Mitch',random_string(8) || '@yahoo.com'),\n",
    "    (48, random_string(6),'Marxkors','Joe',random_string(8) || '@yahoo.com'),\n",
    "    (49, random_string(6),'Billy','Julie',random_string(8) || '@yahoo.com'),\n",
    "    (50, random_string(6),'Van Hugh','Kate',random_string(8) || '@yahoo.com'),\n",
    "    (51, random_string(6),'Roberts','Annie',random_string(8) || '@yahoo.com')\n",
    ";"
   ]
  },
  {
   "cell_type": "markdown",
   "metadata": {},
   "source": [
    "## votingResults table"
   ]
  },
  {
   "cell_type": "code",
   "execution_count": 77,
   "metadata": {},
   "outputs": [
    {
     "name": "stdout",
     "output_type": "stream",
     "text": [
      "Done.\n"
     ]
    },
    {
     "data": {
      "text/plain": [
       "[]"
      ]
     },
     "execution_count": 77,
     "metadata": {},
     "output_type": "execute_result"
    }
   ],
   "source": [
    "%%sql\n",
    "CREATE TABLE votingResults (\n",
    "    roundNum INTEGER,\n",
    "    student_id INTEGER REFERENCES potential_roster (student_id) ON DELETE CASCADE,\n",
    "    yes INTEGER,\n",
    "    no INTEGER,\n",
    "    abstain INTEGER,\n",
    "    PRIMARY KEY (student_id, roundNum)\n",
    ");"
   ]
  },
  {
   "cell_type": "code",
   "execution_count": 78,
   "metadata": {},
   "outputs": [
    {
     "name": "stdout",
     "output_type": "stream",
     "text": [
      "Done.\n"
     ]
    },
    {
     "data": {
      "text/plain": [
       "[]"
      ]
     },
     "execution_count": 78,
     "metadata": {},
     "output_type": "execute_result"
    }
   ],
   "source": [
    "%%sql\n",
    "TRUNCATE votingResults CASCADE;"
   ]
  },
  {
   "cell_type": "code",
   "execution_count": 93,
   "metadata": {},
   "outputs": [
    {
     "name": "stdout",
     "output_type": "stream",
     "text": [
      "114 rows affected.\n"
     ]
    },
    {
     "data": {
      "text/plain": [
       "[]"
      ]
     },
     "execution_count": 93,
     "metadata": {},
     "output_type": "execute_result"
    }
   ],
   "source": [
    "%%sql\n",
    "INSERT INTO votingResults VALUES\n",
    "    (1, 1,(floor(random()*50+1)::int),(floor(random()*50+1)::int),(floor(random()*50+1)::int)),\n",
    "    (1, 2,(floor(random()*50+1)::int),(floor(random()*50+1)::int),(floor(random()*50+1)::int)),\n",
    "    (1, 3,(floor(random()*50+1)::int),(floor(random()*50+1)::int),(floor(random()*50+1)::int)),\n",
    "    (1, 4,(floor(random()*50+1)::int),(floor(random()*50+1)::int),(floor(random()*50+1)::int)),\n",
    "    (1, 5,(floor(random()*50+1)::int),(floor(random()*50+1)::int),(floor(random()*50+1)::int)),\n",
    "    (1, 6,(floor(random()*50+1)::int),(floor(random()*50+1)::int),(floor(random()*50+1)::int)),\n",
    "    (1, 7,(floor(random()*50+1)::int),(floor(random()*50+1)::int),(floor(random()*50+1)::int)),\n",
    "    (1, 8,(floor(random()*50+1)::int),(floor(random()*50+1)::int),(floor(random()*50+1)::int)),\n",
    "    (1, 9,(floor(random()*50+1)::int),(floor(random()*50+1)::int),(floor(random()*50+1)::int)),\n",
    "    (1, 10,(floor(random()*50+1)::int),(floor(random()*50+1)::int),(floor(random()*50+1)::int)),\n",
    "    (1, 11,(floor(random()*50+1)::int),(floor(random()*50+1)::int),(floor(random()*50+1)::int)),\n",
    "    (1, 12,(floor(random()*50+1)::int),(floor(random()*50+1)::int),(floor(random()*50+1)::int)),\n",
    "    (1, 13,(floor(random()*50+1)::int),(floor(random()*50+1)::int),(floor(random()*50+1)::int)),\n",
    "    (1, 14,(floor(random()*50+1)::int),(floor(random()*50+1)::int),(floor(random()*50+1)::int)),\n",
    "    (1, 15,(floor(random()*50+1)::int),(floor(random()*50+1)::int),(floor(random()*50+1)::int)),\n",
    "    (1, 16,(floor(random()*50+1)::int),(floor(random()*50+1)::int),(floor(random()*50+1)::int)),\n",
    "    (1, 17,(floor(random()*50+1)::int),(floor(random()*50+1)::int),(floor(random()*50+1)::int)),\n",
    "    (1, 18,(floor(random()*50+1)::int),(floor(random()*50+1)::int),(floor(random()*50+1)::int)),\n",
    "    (1, 19,(floor(random()*50+1)::int),(floor(random()*50+1)::int),(floor(random()*50+1)::int)),\n",
    "    (1, 20,(floor(random()*50+1)::int),(floor(random()*50+1)::int),(floor(random()*50+1)::int)),\n",
    "    (1, 21,(floor(random()*50+1)::int),(floor(random()*50+1)::int),(floor(random()*50+1)::int)),\n",
    "    (1, 22,(floor(random()*50+1)::int),(floor(random()*50+1)::int),(floor(random()*50+1)::int)),\n",
    "    (1, 23,(floor(random()*50+1)::int),(floor(random()*50+1)::int),(floor(random()*50+1)::int)),\n",
    "    (1, 24,(floor(random()*50+1)::int),(floor(random()*50+1)::int),(floor(random()*50+1)::int)),\n",
    "    (1, 25,(floor(random()*50+1)::int),(floor(random()*50+1)::int),(floor(random()*50+1)::int)),\n",
    "    (1, 26,(floor(random()*50+1)::int),(floor(random()*50+1)::int),(floor(random()*50+1)::int)),\n",
    "    (1, 27,(floor(random()*50+1)::int),(floor(random()*50+1)::int),(floor(random()*50+1)::int)),\n",
    "    (1, 28,(floor(random()*50+1)::int),(floor(random()*50+1)::int),(floor(random()*50+1)::int)),\n",
    "    (1, 29,(floor(random()*50+1)::int),(floor(random()*50+1)::int),(floor(random()*50+1)::int)),\n",
    "    (1, 30,(floor(random()*50+1)::int),(floor(random()*50+1)::int),(floor(random()*50+1)::int)),\n",
    "    (1, 31,(floor(random()*50+1)::int),(floor(random()*50+1)::int),(floor(random()*50+1)::int)),\n",
    "    (1, 32,(floor(random()*50+1)::int),(floor(random()*50+1)::int),(floor(random()*50+1)::int)),\n",
    "    (1, 33,(floor(random()*50+1)::int),(floor(random()*50+1)::int),(floor(random()*50+1)::int)),\n",
    "    (1, 34,(floor(random()*50+1)::int),(floor(random()*50+1)::int),(floor(random()*50+1)::int)),\n",
    "    (1, 35,(floor(random()*50+1)::int),(floor(random()*50+1)::int),(floor(random()*50+1)::int)),\n",
    "    (1, 36,(floor(random()*50+1)::int),(floor(random()*50+1)::int),(floor(random()*50+1)::int)),\n",
    "    (1, 37,(floor(random()*50+1)::int),(floor(random()*50+1)::int),(floor(random()*50+1)::int)),\n",
    "    (1, 38,(floor(random()*50+1)::int),(floor(random()*50+1)::int),(floor(random()*50+1)::int)),\n",
    "    (1, 39,(floor(random()*50+1)::int),(floor(random()*50+1)::int),(floor(random()*50+1)::int)),\n",
    "    (1, 40,(floor(random()*50+1)::int),(floor(random()*50+1)::int),(floor(random()*50+1)::int)),\n",
    "    (1, 41,(floor(random()*50+1)::int),(floor(random()*50+1)::int),(floor(random()*50+1)::int)),\n",
    "    (1, 42,(floor(random()*50+1)::int),(floor(random()*50+1)::int),(floor(random()*50+1)::int)),\n",
    "    (1, 43,(floor(random()*50+1)::int),(floor(random()*50+1)::int),(floor(random()*50+1)::int)),\n",
    "    (1, 44,(floor(random()*50+1)::int),(floor(random()*50+1)::int),(floor(random()*50+1)::int)),\n",
    "    (1, 45,(floor(random()*50+1)::int),(floor(random()*50+1)::int),(floor(random()*50+1)::int)),\n",
    "    (1, 46,(floor(random()*50+1)::int),(floor(random()*50+1)::int),(floor(random()*50+1)::int)),\n",
    "    (1, 47,(floor(random()*50+1)::int),(floor(random()*50+1)::int),(floor(random()*50+1)::int)),\n",
    "    (1, 48,(floor(random()*50+1)::int),(floor(random()*50+1)::int),(floor(random()*50+1)::int)),\n",
    "    (1, 49,(floor(random()*50+1)::int),(floor(random()*50+1)::int),(floor(random()*50+1)::int)),\n",
    "    (1, 50,(floor(random()*50+1)::int),(floor(random()*50+1)::int),(floor(random()*50+1)::int)),\n",
    "    (1, 51,(floor(random()*50+1)::int),(floor(random()*50+1)::int),(floor(random()*50+1)::int)),\n",
    "    (2, 1,(floor(random()*50+1)::int),(floor(random()*50+1)::int),(floor(random()*50+1)::int)),\n",
    "    (2, 2,(floor(random()*50+1)::int),(floor(random()*50+1)::int),(floor(random()*50+1)::int)),\n",
    "    (2, 3,(floor(random()*50+1)::int),(floor(random()*50+1)::int),(floor(random()*50+1)::int)),\n",
    "    (2, 4,(floor(random()*50+1)::int),(floor(random()*50+1)::int),(floor(random()*50+1)::int)),\n",
    "    (2, 5,(floor(random()*50+1)::int),(floor(random()*50+1)::int),(floor(random()*50+1)::int)),\n",
    "    (2, 6,(floor(random()*50+1)::int),(floor(random()*50+1)::int),(floor(random()*50+1)::int)),\n",
    "    (2, 7,(floor(random()*50+1)::int),(floor(random()*50+1)::int),(floor(random()*50+1)::int)),\n",
    "    (2, 8,(floor(random()*50+1)::int),(floor(random()*50+1)::int),(floor(random()*50+1)::int)),\n",
    "    (2, 9,(floor(random()*50+1)::int),(floor(random()*50+1)::int),(floor(random()*50+1)::int)),\n",
    "    (2, 10,(floor(random()*50+1)::int),(floor(random()*50+1)::int),(floor(random()*50+1)::int)),\n",
    "    (2, 11,(floor(random()*50+1)::int),(floor(random()*50+1)::int),(floor(random()*50+1)::int)),\n",
    "    (2, 12,(floor(random()*50+1)::int),(floor(random()*50+1)::int),(floor(random()*50+1)::int)),\n",
    "    (2, 13,(floor(random()*50+1)::int),(floor(random()*50+1)::int),(floor(random()*50+1)::int)),\n",
    "    (2, 14,(floor(random()*50+1)::int),(floor(random()*50+1)::int),(floor(random()*50+1)::int)),\n",
    "    (2, 15,(floor(random()*50+1)::int),(floor(random()*50+1)::int),(floor(random()*50+1)::int)),\n",
    "    (2, 16,(floor(random()*50+1)::int),(floor(random()*50+1)::int),(floor(random()*50+1)::int)),\n",
    "    (2, 17,(floor(random()*50+1)::int),(floor(random()*50+1)::int),(floor(random()*50+1)::int)),\n",
    "    (2, 18,(floor(random()*50+1)::int),(floor(random()*50+1)::int),(floor(random()*50+1)::int)),\n",
    "    (2, 19,(floor(random()*50+1)::int),(floor(random()*50+1)::int),(floor(random()*50+1)::int)),\n",
    "    (2, 20,(floor(random()*50+1)::int),(floor(random()*50+1)::int),(floor(random()*50+1)::int)),\n",
    "    (2, 21,(floor(random()*50+1)::int),(floor(random()*50+1)::int),(floor(random()*50+1)::int)),\n",
    "    (2, 22,(floor(random()*50+1)::int),(floor(random()*50+1)::int),(floor(random()*50+1)::int)),\n",
    "    (2, 23,(floor(random()*50+1)::int),(floor(random()*50+1)::int),(floor(random()*50+1)::int)),\n",
    "    (2, 24,(floor(random()*50+1)::int),(floor(random()*50+1)::int),(floor(random()*50+1)::int)),\n",
    "    (2, 25,(floor(random()*50+1)::int),(floor(random()*50+1)::int),(floor(random()*50+1)::int)),\n",
    "    (2, 26,(floor(random()*50+1)::int),(floor(random()*50+1)::int),(floor(random()*50+1)::int)),\n",
    "    (2, 27,(floor(random()*50+1)::int),(floor(random()*50+1)::int),(floor(random()*50+1)::int)),\n",
    "    (2, 28,(floor(random()*50+1)::int),(floor(random()*50+1)::int),(floor(random()*50+1)::int)),\n",
    "    (2, 29,(floor(random()*50+1)::int),(floor(random()*50+1)::int),(floor(random()*50+1)::int)),\n",
    "    (2, 30,(floor(random()*50+1)::int),(floor(random()*50+1)::int),(floor(random()*50+1)::int)),\n",
    "    (2, 31,(floor(random()*50+1)::int),(floor(random()*50+1)::int),(floor(random()*50+1)::int)),\n",
    "    (2, 32,(floor(random()*50+1)::int),(floor(random()*50+1)::int),(floor(random()*50+1)::int)),\n",
    "    (2, 33,(floor(random()*50+1)::int),(floor(random()*50+1)::int),(floor(random()*50+1)::int)),\n",
    "    (2, 34,(floor(random()*50+1)::int),(floor(random()*50+1)::int),(floor(random()*50+1)::int)),\n",
    "    (2, 35,(floor(random()*50+1)::int),(floor(random()*50+1)::int),(floor(random()*50+1)::int)),\n",
    "    (2, 36,(floor(random()*50+1)::int),(floor(random()*50+1)::int),(floor(random()*50+1)::int)),\n",
    "    (2, 37,(floor(random()*50+1)::int),(floor(random()*50+1)::int),(floor(random()*50+1)::int)),\n",
    "    (2, 38,(floor(random()*50+1)::int),(floor(random()*50+1)::int),(floor(random()*50+1)::int)),\n",
    "    (3, 1,(floor(random()*50+1)::int),(floor(random()*50+1)::int),(floor(random()*50+1)::int)),\n",
    "    (3, 2,(floor(random()*50+1)::int),(floor(random()*50+1)::int),(floor(random()*50+1)::int)),\n",
    "    (3, 3,(floor(random()*50+1)::int),(floor(random()*50+1)::int),(floor(random()*50+1)::int)),\n",
    "    (3, 4,(floor(random()*50+1)::int),(floor(random()*50+1)::int),(floor(random()*50+1)::int)),\n",
    "    (3, 5,(floor(random()*50+1)::int),(floor(random()*50+1)::int),(floor(random()*50+1)::int)),\n",
    "    (3, 6,(floor(random()*50+1)::int),(floor(random()*50+1)::int),(floor(random()*50+1)::int)),\n",
    "    (3, 7,(floor(random()*50+1)::int),(floor(random()*50+1)::int),(floor(random()*50+1)::int)),\n",
    "    (3, 8,(floor(random()*50+1)::int),(floor(random()*50+1)::int),(floor(random()*50+1)::int)),\n",
    "    (3, 9,(floor(random()*50+1)::int),(floor(random()*50+1)::int),(floor(random()*50+1)::int)),\n",
    "    (3, 10,(floor(random()*50+1)::int),(floor(random()*50+1)::int),(floor(random()*50+1)::int)),\n",
    "    (3, 11,(floor(random()*50+1)::int),(floor(random()*50+1)::int),(floor(random()*50+1)::int)),\n",
    "    (3, 12,(floor(random()*50+1)::int),(floor(random()*50+1)::int),(floor(random()*50+1)::int)),\n",
    "    (3, 13,(floor(random()*50+1)::int),(floor(random()*50+1)::int),(floor(random()*50+1)::int)),\n",
    "    (3, 14,(floor(random()*50+1)::int),(floor(random()*50+1)::int),(floor(random()*50+1)::int)),\n",
    "    (3, 15,(floor(random()*50+1)::int),(floor(random()*50+1)::int),(floor(random()*50+1)::int)),\n",
    "    (3, 16,(floor(random()*50+1)::int),(floor(random()*50+1)::int),(floor(random()*50+1)::int)),\n",
    "    (3, 17,(floor(random()*50+1)::int),(floor(random()*50+1)::int),(floor(random()*50+1)::int)),\n",
    "    (3, 18,(floor(random()*50+1)::int),(floor(random()*50+1)::int),(floor(random()*50+1)::int)),\n",
    "    (3, 19,(floor(random()*50+1)::int),(floor(random()*50+1)::int),(floor(random()*50+1)::int)),\n",
    "    (3, 20,(floor(random()*50+1)::int),(floor(random()*50+1)::int),(floor(random()*50+1)::int)),\n",
    "    (3, 21,(floor(random()*50+1)::int),(floor(random()*50+1)::int),(floor(random()*50+1)::int)),\n",
    "    (3, 22,(floor(random()*50+1)::int),(floor(random()*50+1)::int),(floor(random()*50+1)::int)),\n",
    "    (3, 23,(floor(random()*50+1)::int),(floor(random()*50+1)::int),(floor(random()*50+1)::int)),\n",
    "    (3, 24,(floor(random()*50+1)::int),(floor(random()*50+1)::int),(floor(random()*50+1)::int)),\n",
    "    (3, 25,(floor(random()*50+1)::int),(floor(random()*50+1)::int),(floor(random()*50+1)::int))\n",
    ";"
   ]
  },
  {
   "cell_type": "markdown",
   "metadata": {},
   "source": [
    "## classes table"
   ]
  },
  {
   "cell_type": "code",
   "execution_count": 80,
   "metadata": {},
   "outputs": [
    {
     "name": "stdout",
     "output_type": "stream",
     "text": [
      "Done.\n"
     ]
    },
    {
     "data": {
      "text/plain": [
       "[]"
      ]
     },
     "execution_count": 80,
     "metadata": {},
     "output_type": "execute_result"
    }
   ],
   "source": [
    "%%sql\n",
    "CREATE TABLE classes (\n",
    "    class_id INTEGER PRIMARY KEY,\n",
    "    class_name VARCHAR(255),\n",
    "    semester VARCHAR(50),\n",
    "    year INTEGER\n",
    ");"
   ]
  },
  {
   "cell_type": "code",
   "execution_count": 81,
   "metadata": {},
   "outputs": [
    {
     "name": "stdout",
     "output_type": "stream",
     "text": [
      "Done.\n"
     ]
    },
    {
     "data": {
      "text/plain": [
       "[]"
      ]
     },
     "execution_count": 81,
     "metadata": {},
     "output_type": "execute_result"
    }
   ],
   "source": [
    "%%sql\n",
    "TRUNCATE classes CASCADE;"
   ]
  },
  {
   "cell_type": "code",
   "execution_count": 82,
   "metadata": {},
   "outputs": [
    {
     "name": "stdout",
     "output_type": "stream",
     "text": [
      "7 rows affected.\n"
     ]
    },
    {
     "data": {
      "text/plain": [
       "[]"
      ]
     },
     "execution_count": 82,
     "metadata": {},
     "output_type": "execute_result"
    }
   ],
   "source": [
    "%%sql\n",
    "INSERT INTO classes VALUES\n",
    "    (1, 'Alpha Epsilon', 'SPRING', 2015),\n",
    "    (2, 'Alpha Zeta', 'FALL', 2015),\n",
    "    (3, 'Alpha Eta', 'SPRING', 2016),\n",
    "    (4, 'Alpha Theta', 'FALL', 2016),\n",
    "    (5, 'Alpha Iota', 'SPRING', 2017),\n",
    "    (6, 'Alpha Kappa', 'FALL', 2017),\n",
    "    (7, 'Alpha Lambda', 'SPRING', 2018)\n",
    ";"
   ]
  },
  {
   "cell_type": "markdown",
   "metadata": {},
   "source": [
    "## class_roster table"
   ]
  },
  {
   "cell_type": "code",
   "execution_count": 83,
   "metadata": {},
   "outputs": [
    {
     "name": "stdout",
     "output_type": "stream",
     "text": [
      "Done.\n"
     ]
    },
    {
     "data": {
      "text/plain": [
       "[]"
      ]
     },
     "execution_count": 83,
     "metadata": {},
     "output_type": "execute_result"
    }
   ],
   "source": [
    "%%sql \n",
    "CREATE TABLE class_roster (\n",
    "    student_id INTEGER UNIQUE REFERENCES member (student_id) ON DELETE CASCADE,\n",
    "    class_id INTEGER NOT NULL REFERENCES classes (class_id) ON DELETE CASCADE\n",
    ");"
   ]
  },
  {
   "cell_type": "code",
   "execution_count": 84,
   "metadata": {},
   "outputs": [
    {
     "name": "stdout",
     "output_type": "stream",
     "text": [
      "Done.\n"
     ]
    },
    {
     "data": {
      "text/plain": [
       "[]"
      ]
     },
     "execution_count": 84,
     "metadata": {},
     "output_type": "execute_result"
    }
   ],
   "source": [
    "%%sql\n",
    "TRUNCATE class_roster CASCADE;"
   ]
  },
  {
   "cell_type": "code",
   "execution_count": 85,
   "metadata": {},
   "outputs": [
    {
     "name": "stdout",
     "output_type": "stream",
     "text": [
      "100 rows affected.\n"
     ]
    },
    {
     "data": {
      "text/plain": [
       "[]"
      ]
     },
     "execution_count": 85,
     "metadata": {},
     "output_type": "execute_result"
    }
   ],
   "source": [
    "%%sql\n",
    "INSERT INTO class_roster VALUES\n",
    "    (1, 1),\n",
    "    (2, 1),\n",
    "    (3, 1),\n",
    "    (4, 1),\n",
    "    (5, 1),\n",
    "    (6, 1),\n",
    "    (7, 1),\n",
    "    (8, 1),\n",
    "    (9, 1),\n",
    "    (10, 1),\n",
    "    (11, 1),\n",
    "    (12, 1),\n",
    "    (13, 1),\n",
    "    (14, 1),\n",
    "    (15, 1),\n",
    "    (16, 1),\n",
    "    (17, 1),\n",
    "    (18, 1),\n",
    "    (19, 1),\n",
    "    (20, 1),\n",
    "    (21, 2),\n",
    "    (22, 2),\n",
    "    (23, 2),\n",
    "    (24, 2),\n",
    "    (25, 2),\n",
    "    (26, 2),\n",
    "    (27, 2),\n",
    "    (28, 2),\n",
    "    (29, 2),\n",
    "    (30, 2),\n",
    "    (31, 3),\n",
    "    (32, 3),\n",
    "    (33, 3),\n",
    "    (34, 3),\n",
    "    (35, 3),\n",
    "    (36, 3),\n",
    "    (37, 3),\n",
    "    (38, 3),\n",
    "    (39, 3),\n",
    "    (40, 3),\n",
    "    (41, 4),\n",
    "    (42, 4),\n",
    "    (43, 4),\n",
    "    (44, 4),\n",
    "    (45, 4),\n",
    "    (46, 4),\n",
    "    (47, 4),\n",
    "    (48, 4),\n",
    "    (49, 4),\n",
    "    (50, 4),\n",
    "    (51, 4),\n",
    "    (52, 5),\n",
    "    (53, 5),\n",
    "    (54, 5),\n",
    "    (55, 5),\n",
    "    (56, 5),\n",
    "    (57, 5),\n",
    "    (58, 5),\n",
    "    (59, 5),\n",
    "    (60, 5),\n",
    "    (61, 5),\n",
    "    (62, 5),\n",
    "    (63, 6),\n",
    "    (64, 6),\n",
    "    (65, 6),\n",
    "    (66, 6),\n",
    "    (67, 6),\n",
    "    (68, 6),\n",
    "    (69, 6),\n",
    "    (70, 6),\n",
    "    (71, 6),\n",
    "    (72, 6),\n",
    "    (73, 6),\n",
    "    (74, 6),\n",
    "    (75, 6),\n",
    "    (76, 6),\n",
    "    (77, 6),\n",
    "    (78, 6),\n",
    "    (79, 6),\n",
    "    (80, 7),\n",
    "    (81, 7),\n",
    "    (82, 7),\n",
    "    (83, 7),\n",
    "    (84, 7),\n",
    "    (85, 7),\n",
    "    (86, 7),\n",
    "    (87, 7),\n",
    "    (88, 7),\n",
    "    (89, 7),\n",
    "    (90, 7),\n",
    "    (91, 7),\n",
    "    (92, 7),\n",
    "    (93, 7),\n",
    "    (94, 7),\n",
    "    (95, 7),\n",
    "    (96, 7),\n",
    "    (97, 7),\n",
    "    (98, 7),\n",
    "    (99, 7),\n",
    "    (100, 7)\n",
    ";"
   ]
  },
  {
   "cell_type": "markdown",
   "metadata": {},
   "source": [
    "# TRIGGERS / VIEWS"
   ]
  },
  {
   "cell_type": "markdown",
   "metadata": {},
   "source": [
    "## Triggers"
   ]
  },
  {
   "cell_type": "markdown",
   "metadata": {
    "collapsed": true
   },
   "source": [
    "## dues_paymentPlan table\n",
    "* Trigger: When last_amount_paid updated -> update amount_paid in memberDues\n",
    "    * amount_paid = (OLD)amount_paid + (NEW)last_amount_paid"
   ]
  },
  {
   "cell_type": "code",
   "execution_count": 86,
   "metadata": {},
   "outputs": [
    {
     "name": "stdout",
     "output_type": "stream",
     "text": [
      "Done.\n",
      "Done.\n"
     ]
    },
    {
     "data": {
      "text/plain": [
       "[]"
      ]
     },
     "execution_count": 86,
     "metadata": {},
     "output_type": "execute_result"
    }
   ],
   "source": [
    "%%sql\n",
    "DROP TRIGGER IF EXISTS dues_paymentPlan_payment ON dues_paymentPlan;\n",
    "DROP FUNCTION IF EXISTS payment_made();"
   ]
  },
  {
   "cell_type": "code",
   "execution_count": 87,
   "metadata": {},
   "outputs": [
    {
     "name": "stdout",
     "output_type": "stream",
     "text": [
      "Done.\n"
     ]
    },
    {
     "data": {
      "text/plain": [
       "[]"
      ]
     },
     "execution_count": 87,
     "metadata": {},
     "output_type": "execute_result"
    }
   ],
   "source": [
    "%%sql\n",
    "CREATE OR REPLACE FUNCTION payment_made()\n",
    " RETURNS trigger AS\n",
    "$$\n",
    "BEGIN\n",
    "    /* Case when a payment is made and last_payment_date is supplied */\n",
    "    IF NEW.last_amount_paid IS NOT NULL AND NEW.last_payment_date IS NOT NULL\n",
    "    THEN\n",
    "        UPDATE memberDues \n",
    "        SET amount_paid = amount_paid + NEW.last_amount_paid\n",
    "        WHERE memberDues.dues_id = (\n",
    "            SELECT dues_id \n",
    "            FROM dues_paymentPlan AS dpp\n",
    "            WHERE memberDues.dues_id = dpp.dues_id);\n",
    "    END IF;\n",
    "    \n",
    "    /* Default Behavior when a payment is made */\n",
    "    IF NEW.last_amount_paid IS NOT NULL AND OLD.last_payment_date = NEW.last_payment_date\n",
    "    THEN\n",
    "        UPDATE memberDues \n",
    "        SET amount_paid = amount_paid + NEW.last_amount_paid\n",
    "        WHERE memberDues.dues_id = (\n",
    "            SELECT dues_id \n",
    "            FROM dues_paymentPlan AS dpp\n",
    "            WHERE memberDues.dues_id = dpp.dues_id);\n",
    "\n",
    "        UPDATE dues_paymentPlan\n",
    "        SET last_payment_date = current_date\n",
    "        WHERE dues_paymentPlan.dues_id = 2;\n",
    "    \n",
    "    END IF;\n",
    "    \n",
    "    RETURN NEW;\n",
    "END;\n",
    "$$\n",
    "LANGUAGE plpgsql;"
   ]
  },
  {
   "cell_type": "code",
   "execution_count": 94,
   "metadata": {},
   "outputs": [
    {
     "name": "stdout",
     "output_type": "stream",
     "text": [
      "(psycopg2.ProgrammingError) trigger \"dues_paymentplan_payment\" for relation \"dues_paymentplan\" already exists\n",
      " [SQL: 'CREATE TRIGGER dues_paymentPlan_payment\\n  AFTER UPDATE OF last_amount_paid, last_payment_date\\n  ON dues_paymentPlan\\n  FOR EACH ROW\\n  EXECUTE PROCEDURE payment_made();']\n"
     ]
    }
   ],
   "source": [
    "%%sql\n",
    "CREATE TRIGGER dues_paymentPlan_payment\n",
    "  AFTER UPDATE OF last_amount_paid, last_payment_date\n",
    "  ON dues_paymentPlan\n",
    "  FOR EACH ROW\n",
    "  EXECUTE PROCEDURE payment_made();"
   ]
  },
  {
   "cell_type": "markdown",
   "metadata": {},
   "source": [
    "### Testing"
   ]
  },
  {
   "cell_type": "code",
   "execution_count": null,
   "metadata": {
    "collapsed": true
   },
   "outputs": [],
   "source": [
    "%%sql\n",
    "SELECT * FROM memberDues WHERE dues_id = 2;"
   ]
  },
  {
   "cell_type": "code",
   "execution_count": null,
   "metadata": {
    "collapsed": true
   },
   "outputs": [],
   "source": [
    "%%sql\n",
    "SELECT * FROM dues_paymentPlan WHERE dues_id = 2;"
   ]
  },
  {
   "cell_type": "code",
   "execution_count": null,
   "metadata": {
    "collapsed": true
   },
   "outputs": [],
   "source": [
    "%%sql\n",
    "UPDATE dues_paymentPlan\n",
    "SET last_amount_paid = 5\n",
    "WHERE dues_id = 2;"
   ]
  },
  {
   "cell_type": "code",
   "execution_count": null,
   "metadata": {
    "collapsed": true
   },
   "outputs": [],
   "source": [
    "%%sql\n",
    "UPDATE dues_paymentPlan\n",
    "SET last_amount_paid = 4 , last_payment_date = current_date - 9\n",
    "WHERE dues_id = 2;"
   ]
  },
  {
   "cell_type": "code",
   "execution_count": null,
   "metadata": {
    "collapsed": true
   },
   "outputs": [],
   "source": [
    "%%sql\n",
    "SELECT * FROM dues_paymentPlan;"
   ]
  },
  {
   "cell_type": "markdown",
   "metadata": {
    "collapsed": true
   },
   "source": [
    "## events table\n",
    "* Trigger: When point_type is updated event_attendance should be updated\n",
    "    * events.point_type = event_attendance.point_type\n",
    "    * or memberPoint_associative"
   ]
  },
  {
   "cell_type": "code",
   "execution_count": 89,
   "metadata": {},
   "outputs": [
    {
     "name": "stdout",
     "output_type": "stream",
     "text": [
      "Done.\n",
      "Done.\n"
     ]
    },
    {
     "data": {
      "text/plain": [
       "[]"
      ]
     },
     "execution_count": 89,
     "metadata": {},
     "output_type": "execute_result"
    }
   ],
   "source": [
    "%%sql\n",
    "DROP TRIGGER IF EXISTS event_point_type_update ON events;\n",
    "DROP FUNCTION IF EXISTS event_type_update();"
   ]
  },
  {
   "cell_type": "code",
   "execution_count": 90,
   "metadata": {},
   "outputs": [
    {
     "name": "stdout",
     "output_type": "stream",
     "text": [
      "Done.\n"
     ]
    },
    {
     "data": {
      "text/plain": [
       "[]"
      ]
     },
     "execution_count": 90,
     "metadata": {},
     "output_type": "execute_result"
    }
   ],
   "source": [
    "%%sql\n",
    "CREATE OR REPLACE FUNCTION event_type_update()\n",
    " RETURNS trigger AS\n",
    "$$\n",
    "BEGIN\n",
    "    UPDATE event_attendance\n",
    "    SET point_type = NEW.point_type\n",
    "    WHERE event_id = OLD.event_id;\n",
    "    \n",
    "    RETURN NEW;\n",
    "END;\n",
    "$$\n",
    "LANGUAGE plpgsql;"
   ]
  },
  {
   "cell_type": "code",
   "execution_count": 91,
   "metadata": {},
   "outputs": [
    {
     "name": "stdout",
     "output_type": "stream",
     "text": [
      "Done.\n"
     ]
    },
    {
     "data": {
      "text/plain": [
       "[]"
      ]
     },
     "execution_count": 91,
     "metadata": {},
     "output_type": "execute_result"
    }
   ],
   "source": [
    "%%sql\n",
    "CREATE TRIGGER event_point_type_update\n",
    "  AFTER UPDATE OF point_type\n",
    "  ON events\n",
    "  FOR EACH ROW\n",
    "  EXECUTE PROCEDURE event_type_update();"
   ]
  },
  {
   "cell_type": "markdown",
   "metadata": {},
   "source": [
    "### Testing"
   ]
  },
  {
   "cell_type": "code",
   "execution_count": null,
   "metadata": {
    "collapsed": true
   },
   "outputs": [],
   "source": [
    "%%sql\n",
    "UPDATE events\n",
    "SET point_type = 3\n",
    "WHERE event_id = 1;"
   ]
  },
  {
   "cell_type": "code",
   "execution_count": null,
   "metadata": {
    "collapsed": true
   },
   "outputs": [],
   "source": [
    "%%sql\n",
    "SELECT * FROM events;"
   ]
  },
  {
   "cell_type": "code",
   "execution_count": null,
   "metadata": {
    "collapsed": true
   },
   "outputs": [],
   "source": [
    "%%sql\n",
    "SELECT * FROM event_attendance;"
   ]
  },
  {
   "cell_type": "markdown",
   "metadata": {},
   "source": [
    "## Views"
   ]
  },
  {
   "cell_type": "code",
   "execution_count": null,
   "metadata": {
    "collapsed": true
   },
   "outputs": [],
   "source": []
  },
  {
   "cell_type": "markdown",
   "metadata": {},
   "source": [
    "# INDEXES"
   ]
  },
  {
   "cell_type": "code",
   "execution_count": null,
   "metadata": {
    "collapsed": true
   },
   "outputs": [],
   "source": []
  },
  {
   "cell_type": "markdown",
   "metadata": {},
   "source": [
    "# QUERIES"
   ]
  },
  {
   "cell_type": "code",
   "execution_count": null,
   "metadata": {
    "collapsed": true
   },
   "outputs": [],
   "source": []
  }
 ],
 "metadata": {
  "kernelspec": {
   "display_name": "Python 3",
   "language": "python",
   "name": "python3"
  },
  "language_info": {
   "codemirror_mode": {
    "name": "ipython",
    "version": 3
   },
   "file_extension": ".py",
   "mimetype": "text/x-python",
   "name": "python",
   "nbconvert_exporter": "python",
   "pygments_lexer": "ipython3",
   "version": "3.4.5"
  }
 },
 "nbformat": 4,
 "nbformat_minor": 2
}
