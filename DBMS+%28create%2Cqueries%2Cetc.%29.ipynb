{
 "cells": [
  {
   "cell_type": "code",
   "execution_count": null,
   "metadata": {
    "collapsed": true
   },
   "outputs": [],
   "source": [
    "# # load sql magic and password input\n",
    "# import getpass\n",
    "# %load_ext sql\n",
    "\n",
    "# # specify parameters\n",
    "# user = \"hagd5d\"               # your pawprint\n",
    "# password = getpass.getpass()    # type in your password after running this cell\n",
    "# host = \"dbase.dsa.missouri.edu\"\n",
    "# database = \"cs_student\""
   ]
  },
  {
   "cell_type": "code",
   "execution_count": 1,
   "metadata": {},
   "outputs": [
    {
     "name": "stdout",
     "output_type": "stream",
     "text": [
      "········\n"
     ]
    }
   ],
   "source": [
    "# load sql magic and password input\n",
    "import getpass\n",
    "%load_ext sql\n",
    "\n",
    "# specify parameters\n",
    "user = \"s18group03\"\n",
    "password = getpass.getpass()    \n",
    "host = \"dbase.dsa.missouri.edu\"\n",
    "database = \"s18dbmsgroups\""
   ]
  },
  {
   "cell_type": "code",
   "execution_count": 2,
   "metadata": {},
   "outputs": [
    {
     "data": {
      "text/plain": [
       "'Connected: s18group03@s18dbmsgroups'"
      ]
     },
     "execution_count": 2,
     "metadata": {},
     "output_type": "execute_result"
    }
   ],
   "source": [
    "# form connection string\n",
    "connection_string = \"postgresql://{user}:{password}@{host}/{database}\".format(user=user, password=password, host=host, database=database)\n",
    "# connect to database using the formed string\n",
    "%sql $connection_string"
   ]
  },
  {
   "cell_type": "markdown",
   "metadata": {},
   "source": [
    "# TABLE CREATION"
   ]
  },
  {
   "cell_type": "markdown",
   "metadata": {},
   "source": [
    "## Clean-up before tables completely (Drop tables)"
   ]
  },
  {
   "cell_type": "code",
   "execution_count": 3,
   "metadata": {},
   "outputs": [
    {
     "name": "stdout",
     "output_type": "stream",
     "text": [
      "Done.\n",
      "Done.\n",
      "Done.\n",
      "Done.\n",
      "Done.\n",
      "Done.\n",
      "Done.\n",
      "Done.\n",
      "Done.\n",
      "Done.\n",
      "Done.\n",
      "Done.\n",
      "Done.\n",
      "Done.\n",
      "Done.\n",
      "Done.\n",
      "Done.\n",
      "Done.\n",
      "Done.\n",
      "Done.\n",
      "Done.\n",
      "Done.\n",
      "Done.\n",
      "Done.\n",
      "Done.\n"
     ]
    },
    {
     "data": {
      "text/plain": [
       "[]"
      ]
     },
     "execution_count": 3,
     "metadata": {},
     "output_type": "execute_result"
    }
   ],
   "source": [
    "%sql DROP TABLE IF EXISTS member CASCADE;\n",
    "%sql DROP TABLE IF EXISTS emergencyContact;\n",
    "%sql DROP TABLE IF EXISTS member_address;\n",
    "%sql DROP TABLE IF EXISTS member_contact;\n",
    "%sql DROP TABLE IF EXISTS memberDues CASCADE;\n",
    "%sql DROP TABLE IF EXISTS dues_paymentPlan;\n",
    "%sql DROP TABLE IF EXISTS member_status;\n",
    "%sql DROP TABLE IF EXISTS family CASCADE;\n",
    "%sql DROP TABLE IF EXISTS familyTree_roster;\n",
    "%sql DROP TABLE IF EXISTS recSports CASCADE;\n",
    "%sql DROP TABLE IF EXISTS recSports_teams CASCADE;\n",
    "%sql DROP TABLE IF EXISTS team_roster;\n",
    "%sql DROP TABLE IF EXISTS merch CASCADE;\n",
    "%sql DROP TABLE IF EXISTS merch_order;\n",
    "%sql DROP TABLE IF EXISTS budget CASCADE;\n",
    "%sql DROP TABLE IF EXISTS chairPosition CASCADE;\n",
    "%sql DROP TABLE IF EXISTS budget_register;\n",
    "%sql DROP TABLE IF EXISTS point_type CASCADE;\n",
    "%sql DROP TABLE IF EXISTS events CASCADE;\n",
    "%sql DROP TABLE IF EXISTS event_attendance;\n",
    "%sql DROP TABLE IF EXISTS memberPoints_assoc;\n",
    "%sql DROP TABLE IF EXISTS potential_roster CASCADE;\n",
    "%sql DROP TABLE IF EXISTS votingResults;\n",
    "%sql DROP TABLE IF EXISTS classes CASCADE;\n",
    "%sql DROP TABLE IF EXISTS class_roster;"
   ]
  },
  {
   "cell_type": "markdown",
   "metadata": {},
   "source": [
    "## Create Table Statements"
   ]
  },
  {
   "cell_type": "markdown",
   "metadata": {},
   "source": [
    "### Security Notes\n",
    "* Doing security based on Users wouldn't make sense for our shared PSQL server. Would likely use this if we had our very own server and could manage our own list of users (which would be similar to the member table)\n",
    "* Need a field for security class (for each table) (Each member will be given a security class field based on their position)\n",
    "    * ex: status_id | status_name | class\n",
    "    * where class = Top secret (TS), secret (S), confidential (C), unclassified (U): TS > S> C > U\n",
    "    * and we would check each member access level before performing an action\n",
    "* Member should have the security class that needs to be checked\n",
    "    * This should get updated (via Trigger) when a chairPostion is updated\n",
    "        * OLD chairPosition should change back to U and NEW chairPosition should change to more secure"
   ]
  },
  {
   "cell_type": "code",
   "execution_count": 4,
   "metadata": {},
   "outputs": [
    {
     "name": "stdout",
     "output_type": "stream",
     "text": [
      "Done.\n"
     ]
    },
    {
     "data": {
      "text/plain": [
       "[]"
      ]
     },
     "execution_count": 4,
     "metadata": {},
     "output_type": "execute_result"
    }
   ],
   "source": [
    "%%sql\n",
    "CREATE OR REPLACE function random_string(length integer) returns text as\n",
    "$$\n",
    "declare\n",
    "  chars text[] := '{0,1,2,3,4,5,6,7,8,9,a,b,c,d,e,f,g,h,i,j,k,l,m,n,o,p,q,r,s,t,u,v,w,x,y,z}';\n",
    "  result text := '';\n",
    "  i integer := 0;\n",
    "begin\n",
    "  if length < 0 then\n",
    "    raise exception 'Given length cannot be less than 0';\n",
    "  end if;\n",
    "  for i in 1..length loop\n",
    "    result := result || chars[1+random()*(array_length(chars, 1)-1)];\n",
    "  end loop;\n",
    "  return result;\n",
    "end;\n",
    "$$\n",
    "LANGUAGE plpgsql;"
   ]
  },
  {
   "cell_type": "markdown",
   "metadata": {},
   "source": [
    "## member_status table"
   ]
  },
  {
   "cell_type": "code",
   "execution_count": 5,
   "metadata": {},
   "outputs": [
    {
     "name": "stdout",
     "output_type": "stream",
     "text": [
      "Done.\n"
     ]
    },
    {
     "data": {
      "text/plain": [
       "[]"
      ]
     },
     "execution_count": 5,
     "metadata": {},
     "output_type": "execute_result"
    }
   ],
   "source": [
    "%%sql \n",
    "CREATE TABLE member_status (\n",
    "    status_id INTEGER PRIMARY KEY,\n",
    "    status_name VARCHAR(25)\n",
    ");"
   ]
  },
  {
   "cell_type": "code",
   "execution_count": 6,
   "metadata": {},
   "outputs": [
    {
     "name": "stdout",
     "output_type": "stream",
     "text": [
      "Done.\n"
     ]
    },
    {
     "data": {
      "text/plain": [
       "[]"
      ]
     },
     "execution_count": 6,
     "metadata": {},
     "output_type": "execute_result"
    }
   ],
   "source": [
    "%%sql\n",
    "TRUNCATE member_status CASCADE;"
   ]
  },
  {
   "cell_type": "code",
   "execution_count": 7,
   "metadata": {},
   "outputs": [
    {
     "name": "stdout",
     "output_type": "stream",
     "text": [
      "4 rows affected.\n"
     ]
    },
    {
     "data": {
      "text/plain": [
       "[]"
      ]
     },
     "execution_count": 7,
     "metadata": {},
     "output_type": "execute_result"
    }
   ],
   "source": [
    "%%sql\n",
    "INSERT INTO member_status VALUES\n",
    "    (1, 'Active'),\n",
    "    (2, 'Locally Inactive'),\n",
    "    (3, 'Nationally Inactive'),\n",
    "    (4, 'Alumni')\n",
    ";"
   ]
  },
  {
   "cell_type": "markdown",
   "metadata": {},
   "source": [
    "## member table"
   ]
  },
  {
   "cell_type": "code",
   "execution_count": 8,
   "metadata": {},
   "outputs": [
    {
     "name": "stdout",
     "output_type": "stream",
     "text": [
      "Done.\n"
     ]
    },
    {
     "data": {
      "text/plain": [
       "[]"
      ]
     },
     "execution_count": 8,
     "metadata": {},
     "output_type": "execute_result"
    }
   ],
   "source": [
    "%%sql \n",
    "CREATE TABLE member (\n",
    "    student_id INTEGER PRIMARY KEY,\n",
    "    pawprint VARCHAR(25),\n",
    "    salt VARCHAR(25),\n",
    "    salted_password VARCHAR(255),\n",
    "    status INTEGER REFERENCES member_status (status_id),\n",
    "    last_name VARCHAR(50),\n",
    "    first_name VARCHAR(50),\n",
    "    birthday DATE,\n",
    "    chapter_book_number INTEGER\n",
    ");"
   ]
  },
  {
   "cell_type": "code",
   "execution_count": 9,
   "metadata": {},
   "outputs": [
    {
     "name": "stdout",
     "output_type": "stream",
     "text": [
      "Done.\n"
     ]
    },
    {
     "data": {
      "text/plain": [
       "[]"
      ]
     },
     "execution_count": 9,
     "metadata": {},
     "output_type": "execute_result"
    }
   ],
   "source": [
    "%%sql\n",
    "TRUNCATE member CASCADE;"
   ]
  },
  {
   "cell_type": "code",
   "execution_count": 10,
   "metadata": {},
   "outputs": [
    {
     "name": "stdout",
     "output_type": "stream",
     "text": [
      "100 rows affected.\n"
     ]
    },
    {
     "data": {
      "text/plain": [
       "[]"
      ]
     },
     "execution_count": 10,
     "metadata": {},
     "output_type": "execute_result"
    }
   ],
   "source": [
    "%%sql\n",
    "INSERT INTO member VALUES\n",
    "    (1, random_string(6),NULL,NULL,1,'Carroll','Roy',current_date + (floor(random() * 350 + 1)::int), floor(random() * 700 + 100)::int),\n",
    "    (2, random_string(6),NULL,NULL,1,'Brown','Clarence',current_date + (floor(random() * 350 + 1)::int), floor(random() * 700 + 100)::int),\n",
    "    (3, random_string(6),NULL,NULL,1,'Markx','Sabrina',current_date + (floor(random() * 350 + 1)::int), floor(random() * 700 + 100)::int),\n",
    "    (4, random_string(6),NULL,NULL,1,'Jonathan','Julia',current_date + (floor(random() * 350 + 1)::int), floor(random() * 700 + 100)::int),\n",
    "    (5, random_string(6),NULL,NULL,1,'Mike','Julian',current_date + (floor(random() * 350 + 1)::int), floor(random() * 700 + 100)::int),\n",
    "    (6, random_string(6),NULL,NULL,1,'Comb','Marlon',current_date + (floor(random() * 350 + 1)::int), floor(random() * 700 + 100)::int),\n",
    "    (7, random_string(6),NULL,NULL,1,'Pierce','Evan',current_date + (floor(random() * 350 + 1)::int), floor(random() * 700 + 100)::int),\n",
    "    (8, random_string(6),NULL,NULL,1,'Wong','Valerie',current_date + (floor(random() * 350 + 1)::int), floor(random() * 700 + 100)::int),\n",
    "    (9, random_string(6),NULL,NULL,1,'Marcella','Sandy',current_date + (floor(random() * 350 + 1)::int), floor(random() * 700 + 100)::int),\n",
    "    (10, random_string(6),NULL,NULL,1,'Logan','Bessie',current_date + (floor(random() * 350 + 1)::int), floor(random() * 700 + 100)::int),\n",
    "    (11, random_string(6),NULL,NULL,1,'Elliott','Seth',current_date + (floor(random() * 350 + 1)::int), floor(random() * 700 + 100)::int),\n",
    "    (12, random_string(6),NULL,NULL,1,'Sylvester','Randy',current_date + (floor(random() * 350 + 1)::int), floor(random() * 700 + 100)::int),\n",
    "    (13, random_string(6),NULL,NULL,1,'Cunningham','Harry',current_date + (floor(random() * 350 + 1)::int), floor(random() * 700 + 100)::int),\n",
    "    (14, random_string(6),NULL,NULL,1,'Carl','Ivan',current_date + (floor(random() * 350 + 1)::int), floor(random() * 700 + 100)::int),\n",
    "    (15, random_string(6),NULL,NULL,1,'Jacob','Lorene',current_date + (floor(random() * 350 + 1)::int), floor(random() * 700 + 100)::int),\n",
    "    (16, random_string(6),NULL,NULL,1,'Larry','Willie',current_date + (floor(random() * 350 + 1)::int), floor(random() * 700 + 100)::int),\n",
    "    (17, random_string(6),NULL,NULL,1,'Chris','Leigh',current_date + (floor(random() * 350 + 1)::int), floor(random() * 700 + 100)::int),\n",
    "    (18, random_string(6),NULL,NULL,1,'Andrew','Lois',current_date + (floor(random() * 350 + 1)::int), floor(random() * 700 + 100)::int),\n",
    "    (19, random_string(6),NULL,NULL,1,'Kayla','Katrina',current_date + (floor(random() * 350 + 1)::int), floor(random() * 700 + 100)::int),\n",
    "    (20, random_string(6),NULL,NULL,1,'Meyers','Lindsey',current_date + (floor(random() * 350 + 1)::int), floor(random() * 700 + 100)::int),\n",
    "    (21, random_string(6),NULL,NULL,1,'Schammel','Joel',current_date + (floor(random() * 350 + 1)::int), floor(random() * 700 + 100)::int),\n",
    "    (22, random_string(6),NULL,NULL,1,'Bailey','Peggy',current_date + (floor(random() * 350 + 1)::int), floor(random() * 700 + 100)::int),\n",
    "    (23, random_string(6),NULL,NULL,1,'Brenden','Robin',current_date + (floor(random() * 350 + 1)::int), floor(random() * 700 + 100)::int),\n",
    "    (24, random_string(6),NULL,NULL,1,'Trochtenberg','Janie',current_date + (floor(random() * 350 + 1)::int), floor(random() * 700 + 100)::int),\n",
    "    (25, random_string(6),NULL,NULL,1,'Barmann','Frances',current_date + (floor(random() * 350 + 1)::int), floor(random() * 700 + 100)::int),\n",
    "    (26, random_string(6),NULL,NULL,1,'Pangan','Perry',current_date + (floor(random() * 350 + 1)::int), floor(random() * 700 + 100)::int),\n",
    "    (27, random_string(6),NULL,NULL,1,'Dorrow','Lowell',current_date + (floor(random() * 350 + 1)::int), floor(random() * 700 + 100)::int),\n",
    "    (28, random_string(6),NULL,NULL,1,'Ferguson','Sergio',current_date + (floor(random() * 350 + 1)::int), floor(random() * 700 + 100)::int),\n",
    "    (29, random_string(6),NULL,NULL,1,'Brown','Karla',current_date + (floor(random() * 350 + 1)::int), floor(random() * 700 + 100)::int),\n",
    "    (30, random_string(6),NULL,NULL,1,'Johnson','Ross',current_date + (floor(random() * 350 + 1)::int), floor(random() * 700 + 100)::int),\n",
    "    (31, random_string(6),NULL,NULL,1,'Klump','Cindy',current_date + (floor(random() * 350 + 1)::int), floor(random() * 700 + 100)::int),\n",
    "    (32, random_string(6),NULL,NULL,1,'Dylan','Emily',current_date + (floor(random() * 350 + 1)::int), floor(random() * 700 + 100)::int),\n",
    "    (33, random_string(6),NULL,NULL,1,'Aaron','Elisa',current_date + (floor(random() * 350 + 1)::int), floor(random() * 700 + 100)::int),\n",
    "    (34, random_string(6),NULL,NULL,1,'Marisa','Martha',current_date + (floor(random() * 350 + 1)::int), floor(random() * 700 + 100)::int),\n",
    "    (35, random_string(6),NULL,NULL,1,'Emily','Muriel',current_date + (floor(random() * 350 + 1)::int), floor(random() * 700 + 100)::int),\n",
    "    (36, random_string(6),NULL,NULL,1,'Alex','Drew',current_date + (floor(random() * 350 + 1)::int), floor(random() * 700 + 100)::int),\n",
    "    (37, random_string(6),NULL,NULL,2,'Johnson','Veronica',current_date + (floor(random() * 350 + 1)::int), floor(random() * 700 + 100)::int),\n",
    "    (38, random_string(6),NULL,NULL,3,'Ali','Henry',current_date + (floor(random() * 350 + 1)::int), floor(random() * 700 + 100)::int),\n",
    "    (39, random_string(6),NULL,NULL,1,'Smith','Bryan',current_date + (floor(random() * 350 + 1)::int), floor(random() * 700 + 100)::int),\n",
    "    (40, random_string(6),NULL,NULL,1,'Steinsfield','Clark',current_date + (floor(random() * 350 + 1)::int), floor(random() * 700 + 100)::int),\n",
    "    (41, random_string(6),NULL,NULL,1,'Gasperino','Jessica',current_date + (floor(random() * 350 + 1)::int), floor(random() * 700 + 100)::int),\n",
    "    (42, random_string(6),NULL,NULL,1,'Gandy','Brent',current_date + (floor(random() * 350 + 1)::int), floor(random() * 700 + 100)::int),\n",
    "    (43, random_string(6),NULL,NULL,1,'Hollander','Crystal',current_date + (floor(random() * 350 + 1)::int), floor(random() * 700 + 100)::int),\n",
    "    (44, random_string(6),NULL,NULL,1,'Jacobson','Rudolph',current_date + (floor(random() * 350 + 1)::int), floor(random() * 700 + 100)::int),\n",
    "    (45, random_string(6),NULL,NULL,1,'McNally','Pam',current_date + (floor(random() * 350 + 1)::int), floor(random() * 700 + 100)::int),\n",
    "    (46, random_string(6),NULL,NULL,1,'Hunter','Jessica',current_date + (floor(random() * 350 + 1)::int), floor(random() * 700 + 100)::int),\n",
    "    (47, random_string(6),NULL,NULL,1,'Harbison','Phillip',current_date + (floor(random() * 350 + 1)::int), floor(random() * 700 + 100)::int),\n",
    "    (48, random_string(6),NULL,NULL,1,'Mathew','Geoffrey',current_date + (floor(random() * 350 + 1)::int), floor(random() * 700 + 100)::int),\n",
    "    (49, random_string(6),NULL,NULL,1,'Horatio','Dan',current_date + (floor(random() * 350 + 1)::int), floor(random() * 700 + 100)::int),\n",
    "    (50, random_string(6),NULL,NULL,1,'Mallory','Alyssa',current_date + (floor(random() * 350 + 1)::int), floor(random() * 700 + 100)::int),\n",
    "    (51, random_string(6),NULL,NULL,1,'Clarence','McNally',current_date + (floor(random() * 350 + 1)::int), floor(random() * 700 + 100)::int),\n",
    "    (52, random_string(6),NULL,NULL,1,'Jessica','Johnson',current_date + (floor(random() * 350 + 1)::int), floor(random() * 700 + 100)::int),\n",
    "    (53, random_string(6),NULL,NULL,3,'Veronica','Steinsfield',current_date + (floor(random() * 350 + 1)::int), floor(random() * 700 + 100)::int),\n",
    "    (54, random_string(6),NULL,NULL,1,'Veronica','Pam',current_date + (floor(random() * 350 + 1)::int), floor(random() * 700 + 100)::int),\n",
    "    (55, random_string(6),NULL,NULL,1,'Henry','Smith',current_date + (floor(random() * 350 + 1)::int), floor(random() * 700 + 100)::int),\n",
    "    (56, random_string(6),NULL,NULL,1,'Johnson','Roy',current_date + (floor(random() * 350 + 1)::int), floor(random() * 700 + 100)::int),\n",
    "    (57, random_string(6),NULL,NULL,1,'Hollander','Bryan',current_date + (floor(random() * 350 + 1)::int), floor(random() * 700 + 100)::int),\n",
    "    (58, random_string(6),NULL,NULL,1,'Gasperino','Muriel',current_date + (floor(random() * 350 + 1)::int), floor(random() * 700 + 100)::int),\n",
    "    (59, random_string(6),NULL,NULL,1,'Brent','Gandy',current_date + (floor(random() * 350 + 1)::int), floor(random() * 700 + 100)::int),\n",
    "    (60, random_string(6),NULL,NULL,1,'Jacobson','Perry',current_date + (floor(random() * 350 + 1)::int), floor(random() * 700 + 100)::int),\n",
    "    (61, random_string(6),NULL,NULL,1,'Klump','Lowell',current_date + (floor(random() * 350 + 1)::int), floor(random() * 700 + 100)::int),\n",
    "    (62, random_string(6),NULL,NULL,1,'Clarence','Cunningham',current_date + (floor(random() * 350 + 1)::int), floor(random() * 700 + 100)::int),\n",
    "    (63, random_string(6),NULL,NULL,3,'Gross','Charlotte',current_date + (floor(random() * 350 + 1)::int), floor(random() * 700 + 100)::int),\n",
    "    (64, random_string(6),NULL,NULL,1,'Francisco','Hoffman',current_date + (floor(random() * 350 + 1)::int), floor(random() * 700 + 100)::int),\n",
    "    (65, random_string(6),NULL,NULL,1,'Douglas','Antoinette',current_date + (floor(random() * 350 + 1)::int), floor(random() * 700 + 100)::int),\n",
    "    (66, random_string(6),NULL,NULL,1,'Graves','Melinda',current_date + (floor(random() * 350 + 1)::int), floor(random() * 700 + 100)::int),\n",
    "    (67, random_string(6),NULL,NULL,1,'Armstrong','Cecelia',current_date + (floor(random() * 350 + 1)::int), floor(random() * 700 + 100)::int),\n",
    "    (68, random_string(6),NULL,NULL,1,'Mcbride','Troy',current_date + (floor(random() * 350 + 1)::int), floor(random() * 700 + 100)::int),\n",
    "    (69, random_string(6),NULL,NULL,2,'Mcgee','Bobbie',current_date + (floor(random() * 350 + 1)::int), floor(random() * 700 + 100)::int),\n",
    "    (70, random_string(6),NULL,NULL,1,'Marshall','Debbie',current_date + (floor(random() * 350 + 1)::int), floor(random() * 700 + 100)::int),\n",
    "    (71, random_string(6),NULL,NULL,1,'Cooper','Natalie',current_date + (floor(random() * 350 + 1)::int), floor(random() * 700 + 100)::int),\n",
    "    (72, random_string(6),NULL,NULL,4,'Harmon','Corey',current_date + (floor(random() * 350 + 1)::int), floor(random() * 700 + 100)::int),\n",
    "    (73, random_string(6),NULL,NULL,1,'Black','Guillermo',current_date + (floor(random() * 350 + 1)::int), floor(random() * 700 + 100)::int),\n",
    "    (74, random_string(6),NULL,NULL,1,'Brewer','Larry',current_date + (floor(random() * 350 + 1)::int), floor(random() * 700 + 100)::int),\n",
    "    (75, random_string(6),NULL,NULL,1,'Hudson','Anne',current_date + (floor(random() * 350 + 1)::int), floor(random() * 700 + 100)::int),\n",
    "    (76, random_string(6),NULL,NULL,2,'Conner','Joe',current_date + (floor(random() * 350 + 1)::int), floor(random() * 700 + 100)::int),\n",
    "    (77, random_string(6),NULL,NULL,1,'Miles','May',current_date + (floor(random() * 350 + 1)::int), floor(random() * 700 + 100)::int),\n",
    "    (78, random_string(6),NULL,NULL,1,'Hayes','Katie',current_date + (floor(random() * 350 + 1)::int), floor(random() * 700 + 100)::int),\n",
    "    (79, random_string(6),NULL,NULL,1,'Boyd','Kyle',current_date + (floor(random() * 350 + 1)::int), floor(random() * 700 + 100)::int),\n",
    "    (80, random_string(6),NULL,NULL,1,'Rodriguez','Nick',current_date + (floor(random() * 350 + 1)::int), floor(random() * 700 + 100)::int),\n",
    "    (81, random_string(6),NULL,NULL,1,'Adams','Kim',current_date + (floor(random() * 350 + 1)::int), floor(random() * 700 + 100)::int),\n",
    "    (82, random_string(6),NULL,NULL,1,'Thompson','Nakia',current_date + (floor(random() * 350 + 1)::int), floor(random() * 700 + 100)::int),\n",
    "    (83, random_string(6),NULL,NULL,1,'Hale','Courtney',current_date + (floor(random() * 350 + 1)::int), floor(random() * 700 + 100)::int),\n",
    "    (84, random_string(6),NULL,NULL,1,'Harper','Jacob',current_date + (floor(random() * 350 + 1)::int), floor(random() * 700 + 100)::int),\n",
    "    (85, random_string(6),NULL,NULL,2,'Mckenzie','Syndey',current_date + (floor(random() * 350 + 1)::int), floor(random() * 700 + 100)::int),\n",
    "    (86, random_string(6),NULL,NULL,1,'Payne','Tyler',current_date + (floor(random() * 350 + 1)::int), floor(random() * 700 + 100)::int),\n",
    "    (87, random_string(6),NULL,NULL,1,'Carlson','Elijah',current_date + (floor(random() * 350 + 1)::int), floor(random() * 700 + 100)::int),\n",
    "    (88, random_string(6),NULL,NULL,1,'Mccarthy','Leroy',current_date + (floor(random() * 350 + 1)::int), floor(random() * 700 + 100)::int),\n",
    "    (89, random_string(6),NULL,NULL,1,'Mccormick','Ronald',current_date + (floor(random() * 350 + 1)::int), floor(random() * 700 + 100)::int),\n",
    "    (90, random_string(6),NULL,NULL,4,'Hill','McKenzie',current_date + (floor(random() * 350 + 1)::int), floor(random() * 700 + 100)::int),\n",
    "    (91, random_string(6),NULL,NULL,1,'Becker','Bea',current_date + (floor(random() * 350 + 1)::int), floor(random() * 700 + 100)::int),\n",
    "    (92, random_string(6),NULL,NULL,1,'West','Jess',current_date + (floor(random() * 350 + 1)::int), floor(random() * 700 + 100)::int),\n",
    "    (93, random_string(6),NULL,NULL,1,'Garth','Mitt',current_date + (floor(random() * 350 + 1)::int), floor(random() * 700 + 100)::int),\n",
    "    (94, random_string(6),NULL,NULL,2,'Brooks','Micheal',current_date + (floor(random() * 350 + 1)::int), floor(random() * 700 + 100)::int),\n",
    "    (95, random_string(6),NULL,NULL,1,'Brown','Mitch',current_date + (floor(random() * 350 + 1)::int), floor(random() * 700 + 100)::int),\n",
    "    (96, random_string(6),NULL,NULL,1,'Marxkors','Joe',current_date + (floor(random() * 350 + 1)::int), floor(random() * 700 + 100)::int),\n",
    "    (97, random_string(6),NULL,NULL,1,'Billy','Julie',current_date + (floor(random() * 350 + 1)::int), floor(random() * 700 + 100)::int),\n",
    "    (98, random_string(6),NULL,NULL,1,'Van Hugh','Kate',current_date + (floor(random() * 350 + 1)::int), floor(random() * 700 + 100)::int),\n",
    "    (99, random_string(6),NULL,NULL,4,'Roberts','Annie',current_date + (floor(random() * 350 + 1)::int), floor(random() * 700 + 100)::int),\n",
    "    (100, random_string(6),NULL,NULL,4,'Ca','Tom',current_date + (floor(random() * 350 + 1)::int), floor(random() * 700 + 100)::int)\n",
    ";"
   ]
  },
  {
   "cell_type": "code",
   "execution_count": null,
   "metadata": {
    "collapsed": true
   },
   "outputs": [],
   "source": [
    "# %%sql\n",
    "# SELECT * FROM member LIMIT 20;"
   ]
  },
  {
   "cell_type": "markdown",
   "metadata": {},
   "source": [
    "## member_address table"
   ]
  },
  {
   "cell_type": "code",
   "execution_count": 11,
   "metadata": {},
   "outputs": [
    {
     "name": "stdout",
     "output_type": "stream",
     "text": [
      "Done.\n"
     ]
    },
    {
     "data": {
      "text/plain": [
       "[]"
      ]
     },
     "execution_count": 11,
     "metadata": {},
     "output_type": "execute_result"
    }
   ],
   "source": [
    "%%sql\n",
    "CREATE TABLE member_address (\n",
    "    student_id INTEGER REFERENCES member (student_id) ON DELETE CASCADE,\n",
    "    street_address VARCHAR(255),\n",
    "    city VARCHAR(100),\n",
    "    state VARCHAR(100),\n",
    "    zip_code VARCHAR(100)\n",
    ");"
   ]
  },
  {
   "cell_type": "code",
   "execution_count": 30,
   "metadata": {},
   "outputs": [
    {
     "name": "stdout",
     "output_type": "stream",
     "text": [
      "Done.\n"
     ]
    },
    {
     "data": {
      "text/plain": [
       "[]"
      ]
     },
     "execution_count": 30,
     "metadata": {},
     "output_type": "execute_result"
    }
   ],
   "source": [
    "%%sql\n",
    "TRUNCATE member_address CASCADE;"
   ]
  },
  {
   "cell_type": "code",
   "execution_count": 31,
   "metadata": {},
   "outputs": [
    {
     "name": "stdout",
     "output_type": "stream",
     "text": [
      "50 rows affected.\n"
     ]
    },
    {
     "data": {
      "text/plain": [
       "[]"
      ]
     },
     "execution_count": 31,
     "metadata": {},
     "output_type": "execute_result"
    }
   ],
   "source": [
    "%%sql\n",
    "INSERT INTO member_address VALUES\n",
    "    (1, (floor(random() * 2500 + 1000)::int) || ' ' || random_string(5), 'Columbia', 'MO', '65211'),\n",
    "    (2, (floor(random() * 2500 + 1000)::int) || ' ' || random_string(5), 'Columbia', 'MO', '65211'),\n",
    "    (3, (floor(random() * 2500 + 1000)::int) || ' ' || random_string(5), 'Columbia', 'MO', '65211'),\n",
    "    (4, (floor(random() * 2500 + 1000)::int) || ' ' || random_string(5), 'Columbia', 'MO', '65211'),\n",
    "    (5, (floor(random() * 2500 + 1000)::int) || ' ' || random_string(5), 'Columbia', 'MO', '65211'),\n",
    "    (6, (floor(random() * 2500 + 1000)::int) || ' ' || random_string(5), 'Columbia', 'MO', '65211'),\n",
    "    (7, (floor(random() * 2500 + 1000)::int) || ' ' || random_string(5), 'Columbia', 'MO', '65211'),\n",
    "    (8, (floor(random() * 2500 + 1000)::int) || ' ' || random_string(5), 'Columbia', 'MO', '65211'),\n",
    "    (9, (floor(random() * 2500 + 1000)::int) || ' ' || random_string(5), 'Columbia', 'MO', '65211'),\n",
    "    (10, (floor(random() * 2500 + 1000)::int) || ' ' || random_string(5), 'Columbia', 'MO', '65211'),\n",
    "    (11, (floor(random() * 2500 + 1000)::int) || ' ' || random_string(5), 'Columbia', 'MO', '65211'),\n",
    "    (12, (floor(random() * 2500 + 1000)::int) || ' ' || random_string(5), 'Columbia', 'MO', '65211'),\n",
    "    (13, (floor(random() * 2500 + 1000)::int) || ' ' || random_string(5), 'Columbia', 'MO', '65211'),\n",
    "    (14, (floor(random() * 2500 + 1000)::int) || ' ' || random_string(5), 'Columbia', 'MO', '65211'),\n",
    "    (15, (floor(random() * 2500 + 1000)::int) || ' ' || random_string(5), 'Columbia', 'MO', '65211'),\n",
    "    (16, (floor(random() * 2500 + 1000)::int) || ' ' || random_string(5), 'Columbia', 'MO', '65211'),\n",
    "    (17, (floor(random() * 2500 + 1000)::int) || ' ' || random_string(5), 'Columbia', 'MO', '65211'),\n",
    "    (18, (floor(random() * 2500 + 1000)::int) || ' ' || random_string(5), 'Columbia', 'MO', '65211'),\n",
    "    (19, (floor(random() * 2500 + 1000)::int) || ' ' || random_string(5), 'Columbia', 'MO', '65211'),\n",
    "    (20, (floor(random() * 2500 + 1000)::int) || ' ' || random_string(5), 'Columbia', 'MO', '65211'),\n",
    "    (21, (floor(random() * 2500 + 1000)::int) || ' ' || random_string(5), 'Columbia', 'MO', '65211'),\n",
    "    (22, (floor(random() * 2500 + 1000)::int) || ' ' || random_string(5), 'Columbia', 'MO', '65211'),\n",
    "    (23, (floor(random() * 2500 + 1000)::int) || ' ' || random_string(5), 'Columbia', 'MO', '65211'),\n",
    "    (24, (floor(random() * 2500 + 1000)::int) || ' ' || random_string(5), 'Columbia', 'MO', '65211'),\n",
    "    (25, (floor(random() * 2500 + 1000)::int) || ' ' || random_string(5), 'Columbia', 'MO', '65211'),\n",
    "    (26, (floor(random() * 2500 + 1000)::int) || ' ' || random_string(5), 'Columbia', 'MO', '65211'),\n",
    "    (27, (floor(random() * 2500 + 1000)::int) || ' ' || random_string(5), 'Columbia', 'MO', '65211'),\n",
    "    (28, (floor(random() * 2500 + 1000)::int) || ' ' || random_string(5), 'Columbia', 'MO', '65211'),\n",
    "    (29, (floor(random() * 2500 + 1000)::int) || ' ' || random_string(5), 'Columbia', 'MO', '65211'),\n",
    "    (30, (floor(random() * 2500 + 1000)::int) || ' ' || random_string(5), 'Columbia', 'MO', '65211'),\n",
    "    (31, (floor(random() * 2500 + 1000)::int) || ' ' || random_string(5), 'Columbia', 'MO', '65211'),\n",
    "    (32, (floor(random() * 2500 + 1000)::int) || ' ' || random_string(5), 'Columbia', 'MO', '65211'),\n",
    "    (33, (floor(random() * 2500 + 1000)::int) || ' ' || random_string(5), 'Columbia', 'MO', '65211'),\n",
    "    (34, (floor(random() * 2500 + 1000)::int) || ' ' || random_string(5), 'Columbia', 'MO', '65211'),\n",
    "    (35, (floor(random() * 2500 + 1000)::int) || ' ' || random_string(5), 'Columbia', 'MO', '65211'),\n",
    "    (36, (floor(random() * 2500 + 1000)::int) || ' ' || random_string(5), 'Columbia', 'MO', '65211'),\n",
    "    (37, (floor(random() * 2500 + 1000)::int) || ' ' || random_string(5), 'Columbia', 'MO', '65211'),\n",
    "    (38, (floor(random() * 2500 + 1000)::int) || ' ' || random_string(5), 'Columbia', 'MO', '65211'),\n",
    "    (39, (floor(random() * 2500 + 1000)::int) || ' ' || random_string(5), 'Columbia', 'MO', '65211'),\n",
    "    (40, (floor(random() * 2500 + 1000)::int) || ' ' || random_string(5), 'Columbia', 'MO', '65211'),\n",
    "    (41, (floor(random() * 2500 + 1000)::int) || ' ' || random_string(5), 'Columbia', 'MO', '65211'),\n",
    "    (42, (floor(random() * 2500 + 1000)::int) || ' ' || random_string(5), 'Columbia', 'MO', '65211'),\n",
    "    (43, (floor(random() * 2500 + 1000)::int) || ' ' || random_string(5), 'Columbia', 'MO', '65211'),\n",
    "    (44, (floor(random() * 2500 + 1000)::int) || ' ' || random_string(5), 'Columbia', 'MO', '65211'),\n",
    "    (45, (floor(random() * 2500 + 1000)::int) || ' ' || random_string(5), 'Columbia', 'MO', '65211'),\n",
    "    (46, (floor(random() * 2500 + 1000)::int) || ' ' || random_string(5), 'Columbia', 'MO', '65211'),\n",
    "    (47, (floor(random() * 2500 + 1000)::int) || ' ' || random_string(5), 'Columbia', 'MO', '65211'),\n",
    "    (48, (floor(random() * 2500 + 1000)::int) || ' ' || random_string(5), 'Columbia', 'MO', '65211'),\n",
    "    (49, (floor(random() * 2500 + 1000)::int) || ' ' || random_string(5), 'Columbia', 'MO', '65211'),\n",
    "    (50, (floor(random() * 2500 + 1000)::int) || ' ' || random_string(5), 'Columbia', 'MO', '65211')\n",
    ";"
   ]
  },
  {
   "cell_type": "markdown",
   "metadata": {},
   "source": [
    "## member_contact table"
   ]
  },
  {
   "cell_type": "code",
   "execution_count": 33,
   "metadata": {},
   "outputs": [
    {
     "name": "stdout",
     "output_type": "stream",
     "text": [
      "Done.\n"
     ]
    },
    {
     "data": {
      "text/plain": [
       "[]"
      ]
     },
     "execution_count": 33,
     "metadata": {},
     "output_type": "execute_result"
    }
   ],
   "source": [
    "%%sql\n",
    "CREATE TABLE member_contact (\n",
    "    student_id INTEGER REFERENCES member (student_id) ON DELETE CASCADE,\n",
    "    email_address VARCHAR(255),\n",
    "    phone_number VARCHAR(25)\n",
    ");"
   ]
  },
  {
   "cell_type": "code",
   "execution_count": 38,
   "metadata": {},
   "outputs": [
    {
     "name": "stdout",
     "output_type": "stream",
     "text": [
      "Done.\n"
     ]
    },
    {
     "data": {
      "text/plain": [
       "[]"
      ]
     },
     "execution_count": 38,
     "metadata": {},
     "output_type": "execute_result"
    }
   ],
   "source": [
    "%%sql\n",
    "TRUNCATE member_contact CASCADE;"
   ]
  },
  {
   "cell_type": "code",
   "execution_count": 39,
   "metadata": {},
   "outputs": [
    {
     "name": "stdout",
     "output_type": "stream",
     "text": [
      "50 rows affected.\n"
     ]
    },
    {
     "data": {
      "text/plain": [
       "[]"
      ]
     },
     "execution_count": 39,
     "metadata": {},
     "output_type": "execute_result"
    }
   ],
   "source": [
    "%%sql\n",
    "INSERT INTO member_contact VALUES\n",
    "    (1, random_string(6) || '@mail.missouri.edu'),\n",
    "    (2, random_string(6) || '@mail.missouri.edu'),\n",
    "    (3, random_string(6) || '@mail.missouri.edu'),\n",
    "    (4, random_string(6) || '@mail.missouri.edu'),\n",
    "    (5, random_string(6) || '@mail.missouri.edu'),\n",
    "    (6, random_string(6) || '@mail.missouri.edu'),\n",
    "    (7, random_string(6) || '@mail.missouri.edu'),\n",
    "    (8, random_string(6) || '@mail.missouri.edu'),\n",
    "    (9, random_string(6) || '@mail.missouri.edu'),\n",
    "    (10, random_string(6) || '@mail.missouri.edu'),\n",
    "    (11, random_string(6) || '@mail.missouri.edu'),\n",
    "    (12, random_string(6) || '@mail.missouri.edu'),\n",
    "    (13, random_string(6) || '@mail.missouri.edu'),\n",
    "    (14, random_string(6) || '@mail.missouri.edu'),\n",
    "    (15, random_string(6) || '@mail.missouri.edu'),\n",
    "    (16, random_string(6) || '@mail.missouri.edu'),\n",
    "    (17, random_string(6) || '@mail.missouri.edu'),\n",
    "    (18, random_string(6) || '@mail.missouri.edu'),\n",
    "    (19, random_string(6) || '@mail.missouri.edu'),\n",
    "    (20, random_string(6) || '@mail.missouri.edu'),\n",
    "    (21, random_string(6) || '@mail.missouri.edu'),\n",
    "    (22, random_string(6) || '@mail.missouri.edu'),\n",
    "    (23, random_string(6) || '@mail.missouri.edu'),\n",
    "    (24, random_string(6) || '@mail.missouri.edu'),\n",
    "    (25, random_string(6) || '@mail.missouri.edu'),\n",
    "    (26, random_string(6) || '@mail.missouri.edu'),\n",
    "    (27, random_string(6) || '@mail.missouri.edu'),\n",
    "    (28, random_string(6) || '@mail.missouri.edu'),\n",
    "    (29, random_string(6) || '@mail.missouri.edu'),\n",
    "    (30, random_string(6) || '@mail.missouri.edu'),\n",
    "    (31, random_string(6) || '@mail.missouri.edu'),\n",
    "    (32, random_string(6) || '@mail.missouri.edu'),\n",
    "    (33, random_string(6) || '@mail.missouri.edu'),\n",
    "    (34, random_string(6) || '@mail.missouri.edu'),\n",
    "    (35, random_string(6) || '@mail.missouri.edu'),\n",
    "    (36, random_string(6) || '@mail.missouri.edu'),\n",
    "    (37, random_string(6) || '@mail.missouri.edu'),\n",
    "    (38, random_string(6) || '@mail.missouri.edu'),\n",
    "    (39, random_string(6) || '@mail.missouri.edu'),\n",
    "    (40, random_string(6) || '@mail.missouri.edu'),\n",
    "    (41, random_string(6) || '@mail.missouri.edu'),\n",
    "    (42, random_string(6) || '@mail.missouri.edu'),\n",
    "    (43, random_string(6) || '@mail.missouri.edu'),\n",
    "    (44, random_string(6) || '@mail.missouri.edu'),\n",
    "    (45, random_string(6) || '@mail.missouri.edu'),\n",
    "    (46, random_string(6) || '@mail.missouri.edu'),\n",
    "    (47, random_string(6) || '@mail.missouri.edu'),\n",
    "    (48, random_string(6) || '@mail.missouri.edu'),\n",
    "    (49, random_string(6) || '@mail.missouri.edu'),\n",
    "    (50, random_string(6) || '@mail.missouri.edu')\n",
    ";"
   ]
  },
  {
   "cell_type": "markdown",
   "metadata": {},
   "source": [
    "## emergencyContact table"
   ]
  },
  {
   "cell_type": "code",
   "execution_count": 41,
   "metadata": {},
   "outputs": [
    {
     "name": "stdout",
     "output_type": "stream",
     "text": [
      "Done.\n"
     ]
    },
    {
     "data": {
      "text/plain": [
       "[]"
      ]
     },
     "execution_count": 41,
     "metadata": {},
     "output_type": "execute_result"
    }
   ],
   "source": [
    "%%sql \n",
    "CREATE TABLE emergencyContact (\n",
    "    student_id INTEGER REFERENCES member (student_id) ON DELETE CASCADE,\n",
    "    last_name VARCHAR(50),\n",
    "    first_name VARCHAR(50),\n",
    "    email_address VARCHAR(255),\n",
    "    phone_number VARCHAR(25),\n",
    "    backup_phone_number VARCHAR(25),\n",
    "    street_address VARCHAR(255),\n",
    "    city VARCHAR(100),\n",
    "    state VARCHAR(100),\n",
    "    zip_code VARCHAR(100),\n",
    "    primary_healthcare_provider VARCHAR(255),\n",
    "    blood_type VARCHAR(25),\n",
    "    medical_conditions VARCHAR(255),\n",
    "    medications VARCHAR(255),\n",
    "    allergies VARCHAR(255),\n",
    "    PRIMARY KEY (student_id)\n",
    ");"
   ]
  },
  {
   "cell_type": "code",
   "execution_count": 42,
   "metadata": {},
   "outputs": [
    {
     "name": "stdout",
     "output_type": "stream",
     "text": [
      "Done.\n"
     ]
    },
    {
     "data": {
      "text/plain": [
       "[]"
      ]
     },
     "execution_count": 42,
     "metadata": {},
     "output_type": "execute_result"
    }
   ],
   "source": [
    "%%sql\n",
    "TRUNCATE emergencyContact CASCADE;"
   ]
  },
  {
   "cell_type": "code",
   "execution_count": 43,
   "metadata": {},
   "outputs": [
    {
     "name": "stdout",
     "output_type": "stream",
     "text": [
      "50 rows affected.\n"
     ]
    },
    {
     "data": {
      "text/plain": [
       "[]"
      ]
     },
     "execution_count": 43,
     "metadata": {},
     "output_type": "execute_result"
    }
   ],
   "source": [
    "%%sql\n",
    "INSERT INTO emergencyContact VALUES\n",
    "    (100,random_string(8),random_string(5),random_string(6) || '@mail.missouri.edu',NULL,NULL,(floor(random() * 2500 + 1000)::int) || ' ' || random_string(5),'Columbia','MO','65211'),\n",
    "    (99,random_string(8),random_string(5),random_string(6) || '@mail.missouri.edu',NULL,NULL,(floor(random() * 2500 + 1000)::int) || ' ' || random_string(5),'Columbia','MO','65211'),\n",
    "    (98,random_string(8),random_string(5),random_string(6) || '@mail.missouri.edu',NULL,NULL,(floor(random() * 2500 + 1000)::int) || ' ' || random_string(5),'Columbia','MO','65211'),\n",
    "    (97,random_string(8),random_string(5),random_string(6) || '@mail.missouri.edu',NULL,NULL,(floor(random() * 2500 + 1000)::int) || ' ' || random_string(5),'Columbia','MO','65211'),\n",
    "    (96,random_string(8),random_string(5),random_string(6) || '@mail.missouri.edu',NULL,NULL,(floor(random() * 2500 + 1000)::int) || ' ' || random_string(5),'Columbia','MO','65211'),\n",
    "    (95,random_string(8),random_string(5),random_string(6) || '@mail.missouri.edu',NULL,NULL,(floor(random() * 2500 + 1000)::int) || ' ' || random_string(5),'Columbia','MO','65211'),\n",
    "    (94,random_string(8),random_string(5),random_string(6) || '@mail.missouri.edu',NULL,NULL,(floor(random() * 2500 + 1000)::int) || ' ' || random_string(5),'Columbia','MO','65211'),\n",
    "    (93,random_string(8),random_string(5),random_string(6) || '@mail.missouri.edu',NULL,NULL,(floor(random() * 2500 + 1000)::int) || ' ' || random_string(5),'Columbia','MO','65211'),\n",
    "    (92,random_string(8),random_string(5),random_string(6) || '@mail.missouri.edu',NULL,NULL,(floor(random() * 2500 + 1000)::int) || ' ' || random_string(5),'Columbia','MO','65211'),\n",
    "    (91,random_string(8),random_string(5),random_string(6) || '@mail.missouri.edu',NULL,NULL,(floor(random() * 2500 + 1000)::int) || ' ' || random_string(5),'Columbia','MO','65211'),\n",
    "    (90,random_string(8),random_string(5),random_string(6) || '@mail.missouri.edu',NULL,NULL,(floor(random() * 2500 + 1000)::int) || ' ' || random_string(5),'Columbia','MO','65211'),\n",
    "    (89,random_string(8),random_string(5),random_string(6) || '@mail.missouri.edu',NULL,NULL,(floor(random() * 2500 + 1000)::int) || ' ' || random_string(5),'Columbia','MO','65211'),\n",
    "    (88,random_string(8),random_string(5),random_string(6) || '@mail.missouri.edu',NULL,NULL,(floor(random() * 2500 + 1000)::int) || ' ' || random_string(5),'Columbia','MO','65211'),\n",
    "    (87,random_string(8),random_string(5),random_string(6) || '@mail.missouri.edu',NULL,NULL,(floor(random() * 2500 + 1000)::int) || ' ' || random_string(5),'Columbia','MO','65211'),\n",
    "    (86,random_string(8),random_string(5),random_string(6) || '@mail.missouri.edu',NULL,NULL,(floor(random() * 2500 + 1000)::int) || ' ' || random_string(5),'Columbia','MO','65211'),\n",
    "    (85,random_string(8),random_string(5),random_string(6) || '@mail.missouri.edu',NULL,NULL,(floor(random() * 2500 + 1000)::int) || ' ' || random_string(5),'Columbia','MO','65211'),\n",
    "    (84,random_string(8),random_string(5),random_string(6) || '@mail.missouri.edu',NULL,NULL,(floor(random() * 2500 + 1000)::int) || ' ' || random_string(5),'Columbia','MO','65211'),\n",
    "    (83,random_string(8),random_string(5),random_string(6) || '@mail.missouri.edu',NULL,NULL,(floor(random() * 2500 + 1000)::int) || ' ' || random_string(5),'Columbia','MO','65211'),\n",
    "    (82,random_string(8),random_string(5),random_string(6) || '@mail.missouri.edu',NULL,NULL,(floor(random() * 2500 + 1000)::int) || ' ' || random_string(5),'Columbia','MO','65211'),\n",
    "    (81,random_string(8),random_string(5),random_string(6) || '@mail.missouri.edu',NULL,NULL,(floor(random() * 2500 + 1000)::int) || ' ' || random_string(5),'Columbia','MO','65211'),\n",
    "    (80,random_string(8),random_string(5),random_string(6) || '@mail.missouri.edu',NULL,NULL,(floor(random() * 2500 + 1000)::int) || ' ' || random_string(5),'Columbia','MO','65211'),\n",
    "    (79,random_string(8),random_string(5),random_string(6) || '@mail.missouri.edu',NULL,NULL,(floor(random() * 2500 + 1000)::int) || ' ' || random_string(5),'Columbia','MO','65211'),\n",
    "    (78,random_string(8),random_string(5),random_string(6) || '@mail.missouri.edu',NULL,NULL,(floor(random() * 2500 + 1000)::int) || ' ' || random_string(5),'Columbia','MO','65211'),\n",
    "    (77,random_string(8),random_string(5),random_string(6) || '@mail.missouri.edu',NULL,NULL,(floor(random() * 2500 + 1000)::int) || ' ' || random_string(5),'Columbia','MO','65211'),\n",
    "    (76,random_string(8),random_string(5),random_string(6) || '@mail.missouri.edu',NULL,NULL,(floor(random() * 2500 + 1000)::int) || ' ' || random_string(5),'Columbia','MO','65211'),\n",
    "    (75,random_string(8),random_string(5),random_string(6) || '@mail.missouri.edu',NULL,NULL,(floor(random() * 2500 + 1000)::int) || ' ' || random_string(5),'Columbia','MO','65211'),\n",
    "    (74,random_string(8),random_string(5),random_string(6) || '@mail.missouri.edu',NULL,NULL,(floor(random() * 2500 + 1000)::int) || ' ' || random_string(5),'Columbia','MO','65211'),\n",
    "    (73,random_string(8),random_string(5),random_string(6) || '@mail.missouri.edu',NULL,NULL,(floor(random() * 2500 + 1000)::int) || ' ' || random_string(5),'Columbia','MO','65211'),\n",
    "    (72,random_string(8),random_string(5),random_string(6) || '@mail.missouri.edu',NULL,NULL,(floor(random() * 2500 + 1000)::int) || ' ' || random_string(5),'Columbia','MO','65211'),\n",
    "    (71,random_string(8),random_string(5),random_string(6) || '@mail.missouri.edu',NULL,NULL,(floor(random() * 2500 + 1000)::int) || ' ' || random_string(5),'Columbia','MO','65211'),\n",
    "    (70,random_string(8),random_string(5),random_string(6) || '@mail.missouri.edu',NULL,NULL,(floor(random() * 2500 + 1000)::int) || ' ' || random_string(5),'Columbia','MO','65211'),\n",
    "    (69,random_string(8),random_string(5),random_string(6) || '@mail.missouri.edu',NULL,NULL,(floor(random() * 2500 + 1000)::int) || ' ' || random_string(5),'Columbia','MO','65211'),\n",
    "    (68,random_string(8),random_string(5),random_string(6) || '@mail.missouri.edu',NULL,NULL,(floor(random() * 2500 + 1000)::int) || ' ' || random_string(5),'Columbia','MO','65211'),\n",
    "    (67,random_string(8),random_string(5),random_string(6) || '@mail.missouri.edu',NULL,NULL,(floor(random() * 2500 + 1000)::int) || ' ' || random_string(5),'Columbia','MO','65211'),\n",
    "    (66,random_string(8),random_string(5),random_string(6) || '@mail.missouri.edu',NULL,NULL,(floor(random() * 2500 + 1000)::int) || ' ' || random_string(5),'Columbia','MO','65211'),\n",
    "    (65,random_string(8),random_string(5),random_string(6) || '@mail.missouri.edu',NULL,NULL,(floor(random() * 2500 + 1000)::int) || ' ' || random_string(5),'Columbia','MO','65211'),\n",
    "    (64,random_string(8),random_string(5),random_string(6) || '@mail.missouri.edu',NULL,NULL,(floor(random() * 2500 + 1000)::int) || ' ' || random_string(5),'Columbia','MO','65211'),\n",
    "    (63,random_string(8),random_string(5),random_string(6) || '@mail.missouri.edu',NULL,NULL,(floor(random() * 2500 + 1000)::int) || ' ' || random_string(5),'Columbia','MO','65211'),\n",
    "    (62,random_string(8),random_string(5),random_string(6) || '@mail.missouri.edu',NULL,NULL,(floor(random() * 2500 + 1000)::int) || ' ' || random_string(5),'Columbia','MO','65211'),\n",
    "    (61,random_string(8),random_string(5),random_string(6) || '@mail.missouri.edu',NULL,NULL,(floor(random() * 2500 + 1000)::int) || ' ' || random_string(5),'Columbia','MO','65211'),\n",
    "    (60,random_string(8),random_string(5),random_string(6) || '@mail.missouri.edu',NULL,NULL,(floor(random() * 2500 + 1000)::int) || ' ' || random_string(5),'Columbia','MO','65211'),\n",
    "    (59,random_string(8),random_string(5),random_string(6) || '@mail.missouri.edu',NULL,NULL,(floor(random() * 2500 + 1000)::int) || ' ' || random_string(5),'Columbia','MO','65211'),\n",
    "    (58,random_string(8),random_string(5),random_string(6) || '@mail.missouri.edu',NULL,NULL,(floor(random() * 2500 + 1000)::int) || ' ' || random_string(5),'Columbia','MO','65211'),\n",
    "    (57,random_string(8),random_string(5),random_string(6) || '@mail.missouri.edu',NULL,NULL,(floor(random() * 2500 + 1000)::int) || ' ' || random_string(5),'Columbia','MO','65211'),\n",
    "    (56,random_string(8),random_string(5),random_string(6) || '@mail.missouri.edu',NULL,NULL,(floor(random() * 2500 + 1000)::int) || ' ' || random_string(5),'Columbia','MO','65211'),\n",
    "    (55,random_string(8),random_string(5),random_string(6) || '@mail.missouri.edu',NULL,NULL,(floor(random() * 2500 + 1000)::int) || ' ' || random_string(5),'Columbia','MO','65211'),\n",
    "    (54,random_string(8),random_string(5),random_string(6) || '@mail.missouri.edu',NULL,NULL,(floor(random() * 2500 + 1000)::int) || ' ' || random_string(5),'Columbia','MO','65211'),\n",
    "    (53,random_string(8),random_string(5),random_string(6) || '@mail.missouri.edu',NULL,NULL,(floor(random() * 2500 + 1000)::int) || ' ' || random_string(5),'Columbia','MO','65211'),\n",
    "    (52,random_string(8),random_string(5),random_string(6) || '@mail.missouri.edu',NULL,NULL,(floor(random() * 2500 + 1000)::int) || ' ' || random_string(5),'Columbia','MO','65211'),\n",
    "    (51,random_string(8),random_string(5),random_string(6) || '@mail.missouri.edu',NULL,NULL,(floor(random() * 2500 + 1000)::int) || ' ' || random_string(5),'Columbia','MO','65211')\n",
    ";"
   ]
  },
  {
   "cell_type": "markdown",
   "metadata": {},
   "source": [
    "## memberDues table"
   ]
  },
  {
   "cell_type": "code",
   "execution_count": 45,
   "metadata": {},
   "outputs": [
    {
     "name": "stdout",
     "output_type": "stream",
     "text": [
      "Done.\n"
     ]
    },
    {
     "data": {
      "text/plain": [
       "[]"
      ]
     },
     "execution_count": 45,
     "metadata": {},
     "output_type": "execute_result"
    }
   ],
   "source": [
    "%%sql \n",
    "CREATE TABLE memberDues (\n",
    "    student_id INTEGER UNIQUE REFERENCES member (student_id) ON DELETE CASCADE,\n",
    "    dues_id INTEGER UNIQUE,\n",
    "    amount_owed REAL,\n",
    "    amount_paid REAL,\n",
    "    payment_method VARCHAR(25),\n",
    "    notes VARCHAR(255),\n",
    "    PRIMARY KEY (student_id, dues_id)\n",
    ");"
   ]
  },
  {
   "cell_type": "code",
   "execution_count": 48,
   "metadata": {},
   "outputs": [
    {
     "name": "stdout",
     "output_type": "stream",
     "text": [
      "Done.\n"
     ]
    },
    {
     "data": {
      "text/plain": [
       "[]"
      ]
     },
     "execution_count": 48,
     "metadata": {},
     "output_type": "execute_result"
    }
   ],
   "source": [
    "%%sql\n",
    "TRUNCATE memberDues CASCADE;"
   ]
  },
  {
   "cell_type": "code",
   "execution_count": 50,
   "metadata": {},
   "outputs": [
    {
     "name": "stdout",
     "output_type": "stream",
     "text": [
      "54 rows affected.\n"
     ]
    },
    {
     "data": {
      "text/plain": [
       "[]"
      ]
     },
     "execution_count": 50,
     "metadata": {},
     "output_type": "execute_result"
    }
   ],
   "source": [
    "%%sql\n",
    "INSERT INTO memberDues VALUES\n",
    "    /*(floor(random() * 100 + 1)::int, 1 ,125.00,round((random()*(125-1)+1)::numeric, 2)),*/\n",
    "    (100, 1 ,125.00,round((random()*(125-1)+1)::numeric, 2)),\n",
    "    (99, 2 ,125.00,round((random()*(125-1)+1)::numeric, 2)),\n",
    "    (98, 3 ,125.00,round((random()*(125-1)+1)::numeric, 2)),\n",
    "    (97, 4 ,125.00,round((random()*(125-1)+1)::numeric, 2)),\n",
    "    (96, 5 ,125.00,round((random()*(125-1)+1)::numeric, 2)),\n",
    "    (95, 6 ,125.00,round((random()*(125-1)+1)::numeric, 2)),\n",
    "    (94, 7 ,125.00,round((random()*(125-1)+1)::numeric, 2)),\n",
    "    (93, 8 ,125.00,round((random()*(125-1)+1)::numeric, 2)),\n",
    "    (92, 9 ,125.00,round((random()*(125-1)+1)::numeric, 2)),\n",
    "    (91, 10 ,125.00,round((random()*(125-1)+1)::numeric, 2)),\n",
    "    (90, 11 ,125.00,round((random()*(125-1)+1)::numeric, 2)),\n",
    "    (89, 12 ,125.00,round((random()*(125-1)+1)::numeric, 2)),\n",
    "    (88, 13 ,125.00,round((random()*(125-1)+1)::numeric, 2)),\n",
    "    (87, 14 ,125.00,round((random()*(125-1)+1)::numeric, 2)),\n",
    "    (86, 15 ,125.00,round((random()*(125-1)+1)::numeric, 2)),\n",
    "    (85, 16 ,125.00,round((random()*(125-1)+1)::numeric, 2)),\n",
    "    (84, 17 ,125.00,round((random()*(125-1)+1)::numeric, 2)),\n",
    "    (83, 18 ,125.00,round((random()*(125-1)+1)::numeric, 2)),\n",
    "    (82, 19 ,125.00,round((random()*(125-1)+1)::numeric, 2)),\n",
    "    (81, 20 ,125.00,round((random()*(125-1)+1)::numeric, 2)),\n",
    "    (80, 21 ,125.00,round((random()*(125-1)+1)::numeric, 2)),\n",
    "    (79, 22 ,125.00,round((random()*(125-1)+1)::numeric, 2)),\n",
    "    (78, 23 ,125.00,round((random()*(125-1)+1)::numeric, 2)),\n",
    "    (77, 24 ,125.00,round((random()*(125-1)+1)::numeric, 2)),\n",
    "    (76, 25 ,125.00,round((random()*(125-1)+1)::numeric, 2)),\n",
    "    (75, 26 ,125.00,round((random()*(125-1)+1)::numeric, 2)),\n",
    "    (74, 27 ,125.00,round((random()*(125-1)+1)::numeric, 2)),\n",
    "    (73, 28 ,125.00,round((random()*(125-1)+1)::numeric, 2)),\n",
    "    (72, 29 ,125.00,round((random()*(125-1)+1)::numeric, 2)),\n",
    "    (71, 30 ,125.00,round((random()*(125-1)+1)::numeric, 2)),\n",
    "    (70, 31 ,125.00,round((random()*(125-1)+1)::numeric, 2)),\n",
    "    (69, 32 ,125.00,round((random()*(125-1)+1)::numeric, 2)),\n",
    "    (68, 33 ,125.00,round((random()*(125-1)+1)::numeric, 2)),\n",
    "    (67, 34 ,125.00,round((random()*(125-1)+1)::numeric, 2)),\n",
    "    (66, 35 ,125.00,round((random()*(125-1)+1)::numeric, 2)),\n",
    "    (65, 36 ,125.00,round((random()*(125-1)+1)::numeric, 2)),\n",
    "    (64, 37 ,125.00,round((random()*(125-1)+1)::numeric, 2)),\n",
    "    (63, 38 ,125.00,round((random()*(125-1)+1)::numeric, 2)),\n",
    "    (62, 39 ,125.00,round((random()*(125-1)+1)::numeric, 2)),\n",
    "    (61, 40 ,125.00,round((random()*(125-1)+1)::numeric, 2)),\n",
    "    (60, 41 ,125.00,round((random()*(125-1)+1)::numeric, 2)),\n",
    "    (59, 42 ,125.00,round((random()*(125-1)+1)::numeric, 2)),\n",
    "    (58, 43 ,125.00,round((random()*(125-1)+1)::numeric, 2)),\n",
    "    (57, 44 ,125.00,round((random()*(125-1)+1)::numeric, 2)),\n",
    "    (56, 45 ,125.00,round((random()*(125-1)+1)::numeric, 2)),\n",
    "    (55, 46 ,125.00,round((random()*(125-1)+1)::numeric, 2)),\n",
    "    (54, 47 ,125.00,round((random()*(125-1)+1)::numeric, 2)),\n",
    "    (53, 48 ,125.00,round((random()*(125-1)+1)::numeric, 2)),\n",
    "    (52, 49 ,125.00,round((random()*(125-1)+1)::numeric, 2)),\n",
    "    (51, 50 ,125.00,round((random()*(125-1)+1)::numeric, 2)),\n",
    "    (50, 51 ,125.00,round((random()*(125-1)+1)::numeric, 2)),\n",
    "    (49, 52 ,125.00,round((random()*(125-1)+1)::numeric, 2)),\n",
    "    (48, 53 ,125.00,round((random()*(125-1)+1)::numeric, 2)),\n",
    "    (1, 100 ,125.00,round((random()*(125-1)+1)::numeric, 2))\n",
    ";"
   ]
  },
  {
   "cell_type": "code",
   "execution_count": 52,
   "metadata": {},
   "outputs": [
    {
     "name": "stdout",
     "output_type": "stream",
     "text": [
      "10 rows affected.\n"
     ]
    },
    {
     "data": {
      "text/html": [
       "<table>\n",
       "    <tr>\n",
       "        <th>student_id</th>\n",
       "        <th>dues_id</th>\n",
       "        <th>amount_owed</th>\n",
       "        <th>amount_paid</th>\n",
       "        <th>payment_method</th>\n",
       "        <th>notes</th>\n",
       "    </tr>\n",
       "    <tr>\n",
       "        <td>100</td>\n",
       "        <td>1</td>\n",
       "        <td>125.0</td>\n",
       "        <td>49.75</td>\n",
       "        <td>None</td>\n",
       "        <td>None</td>\n",
       "    </tr>\n",
       "    <tr>\n",
       "        <td>99</td>\n",
       "        <td>2</td>\n",
       "        <td>125.0</td>\n",
       "        <td>60.59</td>\n",
       "        <td>None</td>\n",
       "        <td>None</td>\n",
       "    </tr>\n",
       "    <tr>\n",
       "        <td>98</td>\n",
       "        <td>3</td>\n",
       "        <td>125.0</td>\n",
       "        <td>80.2</td>\n",
       "        <td>None</td>\n",
       "        <td>None</td>\n",
       "    </tr>\n",
       "    <tr>\n",
       "        <td>97</td>\n",
       "        <td>4</td>\n",
       "        <td>125.0</td>\n",
       "        <td>79.26</td>\n",
       "        <td>None</td>\n",
       "        <td>None</td>\n",
       "    </tr>\n",
       "    <tr>\n",
       "        <td>96</td>\n",
       "        <td>5</td>\n",
       "        <td>125.0</td>\n",
       "        <td>111.43</td>\n",
       "        <td>None</td>\n",
       "        <td>None</td>\n",
       "    </tr>\n",
       "    <tr>\n",
       "        <td>95</td>\n",
       "        <td>6</td>\n",
       "        <td>125.0</td>\n",
       "        <td>77.66</td>\n",
       "        <td>None</td>\n",
       "        <td>None</td>\n",
       "    </tr>\n",
       "    <tr>\n",
       "        <td>94</td>\n",
       "        <td>7</td>\n",
       "        <td>125.0</td>\n",
       "        <td>54.52</td>\n",
       "        <td>None</td>\n",
       "        <td>None</td>\n",
       "    </tr>\n",
       "    <tr>\n",
       "        <td>93</td>\n",
       "        <td>8</td>\n",
       "        <td>125.0</td>\n",
       "        <td>53.98</td>\n",
       "        <td>None</td>\n",
       "        <td>None</td>\n",
       "    </tr>\n",
       "    <tr>\n",
       "        <td>92</td>\n",
       "        <td>9</td>\n",
       "        <td>125.0</td>\n",
       "        <td>84.37</td>\n",
       "        <td>None</td>\n",
       "        <td>None</td>\n",
       "    </tr>\n",
       "    <tr>\n",
       "        <td>91</td>\n",
       "        <td>10</td>\n",
       "        <td>125.0</td>\n",
       "        <td>111.26</td>\n",
       "        <td>None</td>\n",
       "        <td>None</td>\n",
       "    </tr>\n",
       "</table>"
      ],
      "text/plain": [
       "[(100, 1, 125.0, 49.75, None, None),\n",
       " (99, 2, 125.0, 60.59, None, None),\n",
       " (98, 3, 125.0, 80.2, None, None),\n",
       " (97, 4, 125.0, 79.26, None, None),\n",
       " (96, 5, 125.0, 111.43, None, None),\n",
       " (95, 6, 125.0, 77.66, None, None),\n",
       " (94, 7, 125.0, 54.52, None, None),\n",
       " (93, 8, 125.0, 53.98, None, None),\n",
       " (92, 9, 125.0, 84.37, None, None),\n",
       " (91, 10, 125.0, 111.26, None, None)]"
      ]
     },
     "execution_count": 52,
     "metadata": {},
     "output_type": "execute_result"
    }
   ],
   "source": [
    "%%sql \n",
    "SELECT * FROM memberDues LIMIT(10);"
   ]
  },
  {
   "cell_type": "markdown",
   "metadata": {},
   "source": [
    "## dues_paymentPlan table\n",
    "* Trigger: When last_amount_paid updated -> update amount_paid in memberDues\n",
    "    * amount_paid = (OLD)amount_paid + (NEW)last_amount_paid"
   ]
  },
  {
   "cell_type": "code",
   "execution_count": 53,
   "metadata": {},
   "outputs": [
    {
     "name": "stdout",
     "output_type": "stream",
     "text": [
      "Done.\n"
     ]
    },
    {
     "data": {
      "text/plain": [
       "[]"
      ]
     },
     "execution_count": 53,
     "metadata": {},
     "output_type": "execute_result"
    }
   ],
   "source": [
    "%%sql \n",
    "CREATE TABLE dues_paymentPlan (\n",
    "    dues_id INTEGER REFERENCES memberDues (dues_id) ON DELETE CASCADE,\n",
    "    start_date DATE,\n",
    "    end_date DATE,\n",
    "    last_amount_paid REAL,\n",
    "    last_payment_date DATE,\n",
    "    next_amount_due REAL,\n",
    "    next_payment_date DATE,\n",
    "    PRIMARY KEY (dues_id)\n",
    ");"
   ]
  },
  {
   "cell_type": "code",
   "execution_count": 54,
   "metadata": {},
   "outputs": [
    {
     "name": "stdout",
     "output_type": "stream",
     "text": [
      "Done.\n"
     ]
    },
    {
     "data": {
      "text/plain": [
       "[]"
      ]
     },
     "execution_count": 54,
     "metadata": {},
     "output_type": "execute_result"
    }
   ],
   "source": [
    "%%sql\n",
    "TRUNCATE dues_paymentPlan CASCADE;"
   ]
  },
  {
   "cell_type": "code",
   "execution_count": 56,
   "metadata": {},
   "outputs": [
    {
     "name": "stdout",
     "output_type": "stream",
     "text": [
      "20 rows affected.\n"
     ]
    },
    {
     "data": {
      "text/plain": [
       "[]"
      ]
     },
     "execution_count": 56,
     "metadata": {},
     "output_type": "execute_result"
    }
   ],
   "source": [
    "%%sql\n",
    "INSERT INTO dues_paymentPlan VALUES\n",
    "    (\n",
    "        1,\n",
    "        current_date + (floor(random()*20+1)::int),\n",
    "        current_date + (floor(random()*60+1)::int),\n",
    "        NULL,\n",
    "        NULL,\n",
    "        round((random()*(20-1)+1)::numeric, 2),\n",
    "        current_date + (floor(random()*10+1)::int)\n",
    "    ),\n",
    "    (2,current_date + (floor(random()*20+1)::int),current_date + (floor(random()*60+1)::int),NULL,NULL,round((random()*(20-1)+1)::numeric, 2),current_date + (floor(random()*10+1)::int)),\n",
    "    (3,current_date + (floor(random()*20+1)::int),current_date + (floor(random()*60+1)::int),NULL,NULL,round((random()*(20-1)+1)::numeric, 2),current_date + (floor(random()*10+1)::int)),\n",
    "    (4,current_date + (floor(random()*20+1)::int),current_date + (floor(random()*60+1)::int),NULL,NULL,round((random()*(20-1)+1)::numeric, 2),current_date + (floor(random()*10+1)::int)),\n",
    "    (5,current_date + (floor(random()*20+1)::int),current_date + (floor(random()*60+1)::int),NULL,NULL,round((random()*(20-1)+1)::numeric, 2),current_date + (floor(random()*10+1)::int)),\n",
    "    (6,current_date + (floor(random()*20+1)::int),current_date + (floor(random()*60+1)::int),NULL,NULL,round((random()*(20-1)+1)::numeric, 2),current_date + (floor(random()*10+1)::int)),\n",
    "    (7,current_date + (floor(random()*20+1)::int),current_date + (floor(random()*60+1)::int),NULL,NULL,round((random()*(20-1)+1)::numeric, 2),current_date + (floor(random()*10+1)::int)),\n",
    "    (8,current_date + (floor(random()*20+1)::int),current_date + (floor(random()*60+1)::int),NULL,NULL,round((random()*(20-1)+1)::numeric, 2),current_date + (floor(random()*10+1)::int)),\n",
    "    (9,current_date + (floor(random()*20+1)::int),current_date + (floor(random()*60+1)::int),NULL,NULL,round((random()*(20-1)+1)::numeric, 2),current_date + (floor(random()*10+1)::int)),\n",
    "    (10,current_date + (floor(random()*20+1)::int),current_date + (floor(random()*60+1)::int),NULL,NULL,round((random()*(20-1)+1)::numeric, 2),current_date + (floor(random()*10+1)::int)),\n",
    "    (11,current_date + (floor(random()*20+1)::int),current_date + (floor(random()*60+1)::int),NULL,NULL,round((random()*(20-1)+1)::numeric, 2),current_date + (floor(random()*10+1)::int)),\n",
    "    (12,current_date + (floor(random()*20+1)::int),current_date + (floor(random()*60+1)::int),NULL,NULL,round((random()*(20-1)+1)::numeric, 2),current_date + (floor(random()*10+1)::int)),\n",
    "    (13,current_date + (floor(random()*20+1)::int),current_date + (floor(random()*60+1)::int),NULL,NULL,round((random()*(20-1)+1)::numeric, 2),current_date + (floor(random()*10+1)::int)),\n",
    "    (14,current_date + (floor(random()*20+1)::int),current_date + (floor(random()*60+1)::int),NULL,NULL,round((random()*(20-1)+1)::numeric, 2),current_date + (floor(random()*10+1)::int)),\n",
    "    (15,current_date + (floor(random()*20+1)::int),current_date + (floor(random()*60+1)::int),NULL,NULL,round((random()*(20-1)+1)::numeric, 2),current_date + (floor(random()*10+1)::int)),\n",
    "    (16,current_date + (floor(random()*20+1)::int),current_date + (floor(random()*60+1)::int),NULL,NULL,round((random()*(20-1)+1)::numeric, 2),current_date + (floor(random()*10+1)::int)),\n",
    "    (17,current_date + (floor(random()*20+1)::int),current_date + (floor(random()*60+1)::int),NULL,NULL,round((random()*(20-1)+1)::numeric, 2),current_date + (floor(random()*10+1)::int)),\n",
    "    (18,current_date + (floor(random()*20+1)::int),current_date + (floor(random()*60+1)::int),NULL,NULL,round((random()*(20-1)+1)::numeric, 2),current_date + (floor(random()*10+1)::int)),\n",
    "    (19,current_date + (floor(random()*20+1)::int),current_date + (floor(random()*60+1)::int),NULL,NULL,round((random()*(20-1)+1)::numeric, 2),current_date + (floor(random()*10+1)::int)),\n",
    "    (20,current_date + (floor(random()*20+1)::int),current_date + (floor(random()*60+1)::int),NULL,NULL,round((random()*(20-1)+1)::numeric, 2),current_date + (floor(random()*10+1)::int))\n",
    ";"
   ]
  },
  {
   "cell_type": "code",
   "execution_count": 57,
   "metadata": {},
   "outputs": [
    {
     "name": "stdout",
     "output_type": "stream",
     "text": [
      "20 rows affected.\n"
     ]
    },
    {
     "data": {
      "text/html": [
       "<table>\n",
       "    <tr>\n",
       "        <th>dues_id</th>\n",
       "        <th>start_date</th>\n",
       "        <th>end_date</th>\n",
       "        <th>last_amount_paid</th>\n",
       "        <th>last_payment_date</th>\n",
       "        <th>next_amount_due</th>\n",
       "        <th>next_payment_date</th>\n",
       "    </tr>\n",
       "    <tr>\n",
       "        <td>1</td>\n",
       "        <td>2018-05-04</td>\n",
       "        <td>2018-05-09</td>\n",
       "        <td>None</td>\n",
       "        <td>None</td>\n",
       "        <td>2.43</td>\n",
       "        <td>2018-04-20</td>\n",
       "    </tr>\n",
       "    <tr>\n",
       "        <td>2</td>\n",
       "        <td>2018-05-01</td>\n",
       "        <td>2018-04-19</td>\n",
       "        <td>None</td>\n",
       "        <td>None</td>\n",
       "        <td>2.35</td>\n",
       "        <td>2018-04-16</td>\n",
       "    </tr>\n",
       "    <tr>\n",
       "        <td>3</td>\n",
       "        <td>2018-04-24</td>\n",
       "        <td>2018-04-24</td>\n",
       "        <td>None</td>\n",
       "        <td>None</td>\n",
       "        <td>1.8</td>\n",
       "        <td>2018-04-20</td>\n",
       "    </tr>\n",
       "    <tr>\n",
       "        <td>4</td>\n",
       "        <td>2018-04-18</td>\n",
       "        <td>2018-05-23</td>\n",
       "        <td>None</td>\n",
       "        <td>None</td>\n",
       "        <td>18.2</td>\n",
       "        <td>2018-04-20</td>\n",
       "    </tr>\n",
       "    <tr>\n",
       "        <td>5</td>\n",
       "        <td>2018-05-03</td>\n",
       "        <td>2018-04-30</td>\n",
       "        <td>None</td>\n",
       "        <td>None</td>\n",
       "        <td>17.77</td>\n",
       "        <td>2018-04-24</td>\n",
       "    </tr>\n",
       "    <tr>\n",
       "        <td>6</td>\n",
       "        <td>2018-05-04</td>\n",
       "        <td>2018-05-07</td>\n",
       "        <td>None</td>\n",
       "        <td>None</td>\n",
       "        <td>8.72</td>\n",
       "        <td>2018-04-21</td>\n",
       "    </tr>\n",
       "    <tr>\n",
       "        <td>7</td>\n",
       "        <td>2018-05-02</td>\n",
       "        <td>2018-05-05</td>\n",
       "        <td>None</td>\n",
       "        <td>None</td>\n",
       "        <td>4.03</td>\n",
       "        <td>2018-04-19</td>\n",
       "    </tr>\n",
       "    <tr>\n",
       "        <td>8</td>\n",
       "        <td>2018-04-28</td>\n",
       "        <td>2018-06-12</td>\n",
       "        <td>None</td>\n",
       "        <td>None</td>\n",
       "        <td>15.11</td>\n",
       "        <td>2018-04-21</td>\n",
       "    </tr>\n",
       "    <tr>\n",
       "        <td>9</td>\n",
       "        <td>2018-04-22</td>\n",
       "        <td>2018-06-04</td>\n",
       "        <td>None</td>\n",
       "        <td>None</td>\n",
       "        <td>1.09</td>\n",
       "        <td>2018-04-17</td>\n",
       "    </tr>\n",
       "    <tr>\n",
       "        <td>10</td>\n",
       "        <td>2018-05-03</td>\n",
       "        <td>2018-04-20</td>\n",
       "        <td>None</td>\n",
       "        <td>None</td>\n",
       "        <td>4.45</td>\n",
       "        <td>2018-04-19</td>\n",
       "    </tr>\n",
       "    <tr>\n",
       "        <td>11</td>\n",
       "        <td>2018-04-20</td>\n",
       "        <td>2018-04-29</td>\n",
       "        <td>None</td>\n",
       "        <td>None</td>\n",
       "        <td>15.99</td>\n",
       "        <td>2018-04-19</td>\n",
       "    </tr>\n",
       "    <tr>\n",
       "        <td>12</td>\n",
       "        <td>2018-05-02</td>\n",
       "        <td>2018-05-27</td>\n",
       "        <td>None</td>\n",
       "        <td>None</td>\n",
       "        <td>16.33</td>\n",
       "        <td>2018-04-23</td>\n",
       "    </tr>\n",
       "    <tr>\n",
       "        <td>13</td>\n",
       "        <td>2018-05-04</td>\n",
       "        <td>2018-05-27</td>\n",
       "        <td>None</td>\n",
       "        <td>None</td>\n",
       "        <td>11.69</td>\n",
       "        <td>2018-04-24</td>\n",
       "    </tr>\n",
       "    <tr>\n",
       "        <td>14</td>\n",
       "        <td>2018-04-16</td>\n",
       "        <td>2018-06-13</td>\n",
       "        <td>None</td>\n",
       "        <td>None</td>\n",
       "        <td>9.12</td>\n",
       "        <td>2018-04-24</td>\n",
       "    </tr>\n",
       "    <tr>\n",
       "        <td>15</td>\n",
       "        <td>2018-04-21</td>\n",
       "        <td>2018-05-21</td>\n",
       "        <td>None</td>\n",
       "        <td>None</td>\n",
       "        <td>5.18</td>\n",
       "        <td>2018-04-25</td>\n",
       "    </tr>\n",
       "    <tr>\n",
       "        <td>16</td>\n",
       "        <td>2018-04-26</td>\n",
       "        <td>2018-06-12</td>\n",
       "        <td>None</td>\n",
       "        <td>None</td>\n",
       "        <td>9.14</td>\n",
       "        <td>2018-04-24</td>\n",
       "    </tr>\n",
       "    <tr>\n",
       "        <td>17</td>\n",
       "        <td>2018-05-01</td>\n",
       "        <td>2018-05-11</td>\n",
       "        <td>None</td>\n",
       "        <td>None</td>\n",
       "        <td>19.87</td>\n",
       "        <td>2018-04-22</td>\n",
       "    </tr>\n",
       "    <tr>\n",
       "        <td>18</td>\n",
       "        <td>2018-04-26</td>\n",
       "        <td>2018-04-26</td>\n",
       "        <td>None</td>\n",
       "        <td>None</td>\n",
       "        <td>19.82</td>\n",
       "        <td>2018-04-23</td>\n",
       "    </tr>\n",
       "    <tr>\n",
       "        <td>19</td>\n",
       "        <td>2018-04-23</td>\n",
       "        <td>2018-06-01</td>\n",
       "        <td>None</td>\n",
       "        <td>None</td>\n",
       "        <td>1.83</td>\n",
       "        <td>2018-04-18</td>\n",
       "    </tr>\n",
       "    <tr>\n",
       "        <td>20</td>\n",
       "        <td>2018-04-25</td>\n",
       "        <td>2018-06-06</td>\n",
       "        <td>None</td>\n",
       "        <td>None</td>\n",
       "        <td>19.37</td>\n",
       "        <td>2018-04-20</td>\n",
       "    </tr>\n",
       "</table>"
      ],
      "text/plain": [
       "[(1, datetime.date(2018, 5, 4), datetime.date(2018, 5, 9), None, None, 2.43, datetime.date(2018, 4, 20)),\n",
       " (2, datetime.date(2018, 5, 1), datetime.date(2018, 4, 19), None, None, 2.35, datetime.date(2018, 4, 16)),\n",
       " (3, datetime.date(2018, 4, 24), datetime.date(2018, 4, 24), None, None, 1.8, datetime.date(2018, 4, 20)),\n",
       " (4, datetime.date(2018, 4, 18), datetime.date(2018, 5, 23), None, None, 18.2, datetime.date(2018, 4, 20)),\n",
       " (5, datetime.date(2018, 5, 3), datetime.date(2018, 4, 30), None, None, 17.77, datetime.date(2018, 4, 24)),\n",
       " (6, datetime.date(2018, 5, 4), datetime.date(2018, 5, 7), None, None, 8.72, datetime.date(2018, 4, 21)),\n",
       " (7, datetime.date(2018, 5, 2), datetime.date(2018, 5, 5), None, None, 4.03, datetime.date(2018, 4, 19)),\n",
       " (8, datetime.date(2018, 4, 28), datetime.date(2018, 6, 12), None, None, 15.11, datetime.date(2018, 4, 21)),\n",
       " (9, datetime.date(2018, 4, 22), datetime.date(2018, 6, 4), None, None, 1.09, datetime.date(2018, 4, 17)),\n",
       " (10, datetime.date(2018, 5, 3), datetime.date(2018, 4, 20), None, None, 4.45, datetime.date(2018, 4, 19)),\n",
       " (11, datetime.date(2018, 4, 20), datetime.date(2018, 4, 29), None, None, 15.99, datetime.date(2018, 4, 19)),\n",
       " (12, datetime.date(2018, 5, 2), datetime.date(2018, 5, 27), None, None, 16.33, datetime.date(2018, 4, 23)),\n",
       " (13, datetime.date(2018, 5, 4), datetime.date(2018, 5, 27), None, None, 11.69, datetime.date(2018, 4, 24)),\n",
       " (14, datetime.date(2018, 4, 16), datetime.date(2018, 6, 13), None, None, 9.12, datetime.date(2018, 4, 24)),\n",
       " (15, datetime.date(2018, 4, 21), datetime.date(2018, 5, 21), None, None, 5.18, datetime.date(2018, 4, 25)),\n",
       " (16, datetime.date(2018, 4, 26), datetime.date(2018, 6, 12), None, None, 9.14, datetime.date(2018, 4, 24)),\n",
       " (17, datetime.date(2018, 5, 1), datetime.date(2018, 5, 11), None, None, 19.87, datetime.date(2018, 4, 22)),\n",
       " (18, datetime.date(2018, 4, 26), datetime.date(2018, 4, 26), None, None, 19.82, datetime.date(2018, 4, 23)),\n",
       " (19, datetime.date(2018, 4, 23), datetime.date(2018, 6, 1), None, None, 1.83, datetime.date(2018, 4, 18)),\n",
       " (20, datetime.date(2018, 4, 25), datetime.date(2018, 6, 6), None, None, 19.37, datetime.date(2018, 4, 20))]"
      ]
     },
     "execution_count": 57,
     "metadata": {},
     "output_type": "execute_result"
    }
   ],
   "source": [
    "%%sql\n",
    "SELECT * FROM dues_paymentPlan;"
   ]
  },
  {
   "cell_type": "markdown",
   "metadata": {},
   "source": [
    "## family table"
   ]
  },
  {
   "cell_type": "code",
   "execution_count": 58,
   "metadata": {},
   "outputs": [
    {
     "name": "stdout",
     "output_type": "stream",
     "text": [
      "Done.\n"
     ]
    },
    {
     "data": {
      "text/plain": [
       "[]"
      ]
     },
     "execution_count": 58,
     "metadata": {},
     "output_type": "execute_result"
    }
   ],
   "source": [
    "%%sql\n",
    "CREATE TABLE family (\n",
    "    family_id INTEGER PRIMARY KEY,\n",
    "    family_name VARCHAR(255),\n",
    "    founding_date DATE\n",
    ");"
   ]
  },
  {
   "cell_type": "code",
   "execution_count": 59,
   "metadata": {},
   "outputs": [
    {
     "name": "stdout",
     "output_type": "stream",
     "text": [
      "Done.\n"
     ]
    },
    {
     "data": {
      "text/plain": [
       "[]"
      ]
     },
     "execution_count": 59,
     "metadata": {},
     "output_type": "execute_result"
    }
   ],
   "source": [
    "%%sql\n",
    "TRUNCATE family CASCADE;"
   ]
  },
  {
   "cell_type": "code",
   "execution_count": 60,
   "metadata": {},
   "outputs": [
    {
     "name": "stdout",
     "output_type": "stream",
     "text": [
      "10 rows affected.\n"
     ]
    },
    {
     "data": {
      "text/plain": [
       "[]"
      ]
     },
     "execution_count": 60,
     "metadata": {},
     "output_type": "execute_result"
    }
   ],
   "source": [
    "%%sql\n",
    "INSERT INTO family VALUES\n",
    "    (1, 'Wright', '1916-02-14'),\n",
    "    (2, 'Bell', '1916-02-14'),\n",
    "    (3, 'Baker', '1916-02-14'),\n",
    "    (4, 'Royals', '1916-02-14'),\n",
    "    (5, 'Harrison Ford', '1916-02-14'),\n",
    "    (6, 'Summer Young', '1916-02-14'),\n",
    "    (7, 'Doyle', '1916-02-14'),\n",
    "    (8, 'Fem', '1916-02-14'),\n",
    "    (9, 'Gong', '1916-02-14'),\n",
    "    (10, 'Cook', '1916-02-14')\n",
    ";"
   ]
  },
  {
   "cell_type": "markdown",
   "metadata": {},
   "source": [
    "## familyTree_roster table"
   ]
  },
  {
   "cell_type": "code",
   "execution_count": null,
   "metadata": {
    "collapsed": true
   },
   "outputs": [],
   "source": [
    "%%sql \n",
    "CREATE TABLE familyTree_roster (\n",
    "    student_id INTEGER UNIQUE REFERENCES member (student_id) ON DELETE CASCADE,\n",
    "    family_id INTEGER NOT NULL REFERENCES family (family_id) ON DELETE CASCADE\n",
    ");"
   ]
  },
  {
   "cell_type": "code",
   "execution_count": null,
   "metadata": {
    "collapsed": true
   },
   "outputs": [],
   "source": [
    "%%sql\n",
    "TRUNCATE familyTree_roster CASCADE;"
   ]
  },
  {
   "cell_type": "code",
   "execution_count": null,
   "metadata": {
    "collapsed": true
   },
   "outputs": [],
   "source": [
    "%%sql\n",
    "INSERT INTO familyTree_roster VALUES\n",
    "    (1, 10),\n",
    "    (2, 10),\n",
    "    (3, 10),\n",
    "    (4, 10),\n",
    "    (5, 10),\n",
    "    (6, 9),\n",
    "    (7, 9),\n",
    "    (8, 9),\n",
    "    (9, 9),\n",
    "    (10, 9),\n",
    "    (11, 8),\n",
    "    (12, 8),\n",
    "    (13, 8),\n",
    "    (14, 8),\n",
    "    (15, 8),\n",
    "    (16, 8),\n",
    "    (17, 8),\n",
    "    (18, 8),\n",
    "    (19, 8),\n",
    "    (20, 8),\n",
    "    (21, 7),\n",
    "    (22, 7),\n",
    "    (23, 7),\n",
    "    (24, 7),\n",
    "    (25, 7),\n",
    "    (26, 7),\n",
    "    (27, 7),\n",
    "    (28, 7),\n",
    "    (29, 7),\n",
    "    (30, 7),\n",
    "    (31, 7),\n",
    "    (32, 7),\n",
    "    (33, 6),\n",
    "    (34, 6),\n",
    "    (35, 6),\n",
    "    (36, 6),\n",
    "    (37, 6),\n",
    "    (38, 6),\n",
    "    (39, 6),\n",
    "    (40, 6),\n",
    "    (41, 6),\n",
    "    (42, 6),\n",
    "    (43, 6),\n",
    "    (44, 6),\n",
    "    (45, 6),\n",
    "    (46, 6),\n",
    "    (47, 6),\n",
    "    (48, 6),\n",
    "    (49, 6),\n",
    "    (50, 6),\n",
    "    (51, 6),\n",
    "    (52, 6),\n",
    "    (53, 5),\n",
    "    (54, 5),\n",
    "    (55, 5),\n",
    "    (56, 4),\n",
    "    (57, 4),\n",
    "    (58, 4),\n",
    "    (59, 4),\n",
    "    (60, 4),\n",
    "    (61, 4),\n",
    "    (62, 3),\n",
    "    (63, 3),\n",
    "    (64, 3),\n",
    "    (65, 3),\n",
    "    (66, 3),\n",
    "    (67, 3),\n",
    "    (68, 3),\n",
    "    (69, 3),\n",
    "    (70, 3),\n",
    "    (71, 2),\n",
    "    (72, 2),\n",
    "    (73, 2),\n",
    "    (74, 2),\n",
    "    (75, 2),\n",
    "    (76, 2),\n",
    "    (77, 2),\n",
    "    (78, 2),\n",
    "    (79, 2),\n",
    "    (80, 2),\n",
    "    (81, 2),\n",
    "    (82, 2),\n",
    "    (83, 2),\n",
    "    (84, 2),\n",
    "    (85, 2),\n",
    "    (86, 2),\n",
    "    (87, 2),\n",
    "    (88, 2),\n",
    "    (89, 2),\n",
    "    (90, 2),\n",
    "    (91, 1),\n",
    "    (92, 1),\n",
    "    (93, 1),\n",
    "    (94, 1),\n",
    "    (95, 1),\n",
    "    (96, 1),\n",
    "    (97, 1),\n",
    "    (98, 1),\n",
    "    (99, 1),\n",
    "    (100, 1)\n",
    ";"
   ]
  },
  {
   "cell_type": "markdown",
   "metadata": {},
   "source": [
    "## recSports table"
   ]
  },
  {
   "cell_type": "code",
   "execution_count": null,
   "metadata": {
    "collapsed": true
   },
   "outputs": [],
   "source": [
    "%%sql\n",
    "CREATE TABLE recSports (\n",
    "    sport_id INTEGER PRIMARY KEY,\n",
    "    sport_name VARCHAR(255) NOT NULL,\n",
    "    semester VARCHAR(50),\n",
    "    start_date DATE,\n",
    "    end_date DATE\n",
    ");"
   ]
  },
  {
   "cell_type": "code",
   "execution_count": null,
   "metadata": {
    "collapsed": true
   },
   "outputs": [],
   "source": [
    "%%sql\n",
    "TRUNCATE recSports CASCADE;"
   ]
  },
  {
   "cell_type": "code",
   "execution_count": null,
   "metadata": {
    "collapsed": true
   },
   "outputs": [],
   "source": [
    "%%sql\n",
    "INSERT INTO recSports VALUES\n",
    "    (1, 'CO-REC Basketball', 'Fall', '2015-10-25', '2015-12-25'),\n",
    "    (2, 'Battleship', 'Fall', '2015-11-25', '2015-11-25'),\n",
    "    (3, 'CO-REC Flag Football', 'Fall', '2015-10-25', '2015-12-25'),\n",
    "    (4, 'CO-REC Indoor Volleyball', 'Fall', '2015-10-25', '2015-11-25'),\n",
    "    (5, 'Log Rolling', 'Fall', '2015-11-26', '2015-11-26'),\n",
    "    (6, 'CO-REC Basketball', 'Spring', '2015-2-15', '2015-3-25'),\n",
    "    (7, 'Battleship', 'Spring', '2015-2-15', '2015-2-15'),\n",
    "    (8, 'CO-REC Soccer', 'Spring', '2015-2-15', '2015-4-15'),\n",
    "    (9, 'CO-REC Sand Volleyball', 'Spring', '2015-4-01', '2015-4-25'),\n",
    "    (10, 'Log Rolling', 'Spring', '2015-2-16', '2015-2-16'),\n",
    "    (11, 'CO-REC Basketball', 'Fall', '2016-10-25', '2016-12-25'),\n",
    "    (12, 'Battleship', 'Fall', '2016-11-25', '2016-11-25'),\n",
    "    (13, 'CO-REC Flag Football', 'Fall', '2016-10-25', '2016-12-25'),\n",
    "    (14, 'CO-REC Indoor Volleyball', 'Fall', '2016-10-25', '2016-11-25'),\n",
    "    (15, 'Log Rolling', 'Fall', '2016-11-26', '2016-11-26'),\n",
    "    (16, 'CO-REC Basketball', 'Spring', '2016-2-15', '2016-3-25'),\n",
    "    (17, 'Battleship', 'Spring', '2016-2-15', '2016-2-15'),\n",
    "    (18, 'CO-REC Soccer', 'Spring', '2016-2-15', '2016-4-15'),\n",
    "    (19, 'CO-REC Sand Volleyball', 'Spring', '2016-4-01', '2016-4-25'),\n",
    "    (20, 'Log Rolling', 'Spring', '2016-2-16', '2016-2-16'),\n",
    "    (21, 'CO-REC Basketball', 'Fall', '2017-10-25', '2017-12-25'),\n",
    "    (22, 'Battleship', 'Fall', '2017-11-25', '2017-11-25'),\n",
    "    (23, 'CO-REC Flag Football', 'Fall', '2017-10-25', '2017-12-25'),\n",
    "    (24, 'CO-REC Indoor Volleyball', 'Fall', '2017-10-25', '2017-11-25'),\n",
    "    (25, 'Log Rolling', 'Fall', '2017-11-26', '2017-11-26'),\n",
    "    (26, 'CO-REC Basketball', 'Spring', '2017-2-15', '2017-3-25'),\n",
    "    (27, 'Battleship', 'Spring', '2017-2-15', '2017-2-15'),\n",
    "    (28, 'CO-REC Soccer', 'Spring', '2017-2-15', '2017-4-15'),\n",
    "    (29, 'CO-REC Sand Volleyball', 'Spring', '2017-4-01', '2017-4-25'),\n",
    "    (30, 'Log Rolling', 'Spring', '2017-2-16', '2017-2-16'),\n",
    "    (31, 'CO-REC Basketball', 'Spring', '2018-2-15', '2018-3-25'),\n",
    "    (32, 'CO-REC Soccer', 'Spring', '2018-2-15', '2018-4-15')\n",
    ";"
   ]
  },
  {
   "cell_type": "markdown",
   "metadata": {},
   "source": [
    "## recSports_teams table"
   ]
  },
  {
   "cell_type": "code",
   "execution_count": null,
   "metadata": {
    "collapsed": true
   },
   "outputs": [],
   "source": [
    "%%sql\n",
    "CREATE TABLE recSports_teams (\n",
    "    team_id INTEGER PRIMARY KEY,\n",
    "    sport_id INTEGER REFERENCES recSports (sport_id),\n",
    "    team_name VARCHAR(255),\n",
    "    day_of week VARCHAR(50), /*Day the team plays*/\n",
    "    time_of_day TIME /*time games are played*/\n",
    ");"
   ]
  },
  {
   "cell_type": "code",
   "execution_count": null,
   "metadata": {
    "collapsed": true
   },
   "outputs": [],
   "source": [
    "%%sql\n",
    "TRUNCATE recSports_teams CASCADE;"
   ]
  },
  {
   "cell_type": "code",
   "execution_count": null,
   "metadata": {
    "collapsed": true
   },
   "outputs": [],
   "source": [
    "%%sql\n",
    "INSERT INTO recSports_teams VALUES\n",
    "    (1, 32, 'PSP Soccer', 'Wednesday'),\n",
    "    (2, 31, 'PSP Basketball', 'Sunday'),\n",
    "    (3, 29, 'PSP 1', 'Sunday'),\n",
    "    (4, 29, 'PSP 2', 'Sunday'),\n",
    "    (5, 29, 'PSP 3', 'Monday'),\n",
    "    (6, 29, 'PSP 4', 'Monday'),\n",
    "    (7, 27, 'PSP Purple', 'Thursday'),\n",
    "    (8, 27, 'PSP Gold', 'Thursday'),\n",
    "    (9, 27, 'PSP White', 'Thursday'),\n",
    "    (10, 27, 'PSP 1', 'Thursday'),\n",
    "    (11, 27, 'PSP 2', 'Thursday'),\n",
    "    (12, 27, 'PSP 3', 'Thursday')\n",
    ";"
   ]
  },
  {
   "cell_type": "markdown",
   "metadata": {},
   "source": [
    "## team_roster table"
   ]
  },
  {
   "cell_type": "code",
   "execution_count": null,
   "metadata": {
    "collapsed": true
   },
   "outputs": [],
   "source": [
    "%%sql\n",
    "CREATE TABLE team_roster (\n",
    "    team_id INTEGER REFERENCES recSports_teams (team_id),\n",
    "    student_id INTEGER REFERENCES member (student_id),\n",
    "    PRIMARY KEY (team_id, student_id)\n",
    ");"
   ]
  },
  {
   "cell_type": "code",
   "execution_count": null,
   "metadata": {
    "collapsed": true
   },
   "outputs": [],
   "source": [
    "%%sql\n",
    "TRUNCATE team_roster CASCADE;"
   ]
  },
  {
   "cell_type": "code",
   "execution_count": null,
   "metadata": {
    "collapsed": true
   },
   "outputs": [],
   "source": [
    "%%sql\n",
    "INSERT INTO team_roster VALUES\n",
    "    (1,1),\n",
    "    (1,11),\n",
    "    (1,31),\n",
    "    (1,21),\n",
    "    (1,41),\n",
    "    (1,51),\n",
    "    (1,61),\n",
    "    (1,71),\n",
    "    (1,81),\n",
    "    (1,91),\n",
    "    (1,5),\n",
    "    (1,6),\n",
    "    (1,9),\n",
    "    (2,1),\n",
    "    (2,11),\n",
    "    (2,31),\n",
    "    (2,21),\n",
    "    (2,41),\n",
    "    (2,51),\n",
    "    (2,61),\n",
    "    (2,71),\n",
    "    (2,81),\n",
    "    (2,91),\n",
    "    (2,5),\n",
    "    (2,6),\n",
    "    (2,9),\n",
    "    (7, 1),\n",
    "    (7, 2),\n",
    "    (7, 3),\n",
    "    (7, 4),\n",
    "    (3, 1),\n",
    "    (3, 2),\n",
    "    (3, 3),\n",
    "    (3, 4),\n",
    "    (4, 55),\n",
    "    (4, 42),\n",
    "    (4, 43),\n",
    "    (4, 68),\n",
    "    (5, 32),\n",
    "    (5, 79),\n",
    "    (5, 80),\n",
    "    (5, 100),\n",
    "    (6, 37),\n",
    "    (6, 47),\n",
    "    (6, 67),\n",
    "    (6, 87),\n",
    "    (8, 78),\n",
    "    (8, 77),\n",
    "    (8, 76),\n",
    "    (8, 75),\n",
    "    (9, 54),\n",
    "    (9, 52),\n",
    "    (9, 65),\n",
    "    (9, 66),\n",
    "    (10, 32),\n",
    "    (10, 21),\n",
    "    (10, 20),\n",
    "    (10, 57),\n",
    "    (11, 89),\n",
    "    (11, 90),\n",
    "    (11, 91),\n",
    "    (11, 92),\n",
    "    (12, 13),\n",
    "    (12, 100),\n",
    "    (12, 81),\n",
    "    (12, 9)\n",
    ";"
   ]
  },
  {
   "cell_type": "markdown",
   "metadata": {},
   "source": [
    "## merch table"
   ]
  },
  {
   "cell_type": "code",
   "execution_count": null,
   "metadata": {
    "collapsed": true
   },
   "outputs": [],
   "source": [
    "%%sql\n",
    "CREATE TABLE merch (\n",
    "    merch_id INTEGER PRIMARY KEY,\n",
    "    item_name VARCHAR(100),\n",
    "    price REAL,\n",
    "    semester VARCHAR(50),\n",
    "    year INTEGER\n",
    ");"
   ]
  },
  {
   "cell_type": "code",
   "execution_count": null,
   "metadata": {
    "collapsed": true
   },
   "outputs": [],
   "source": [
    "%%sql\n",
    "TRUNCATE merch CASCADE;"
   ]
  },
  {
   "cell_type": "code",
   "execution_count": null,
   "metadata": {
    "collapsed": true
   },
   "outputs": [],
   "source": [
    "%%sql\n",
    "INSERT INTO merch VALUES\n",
    "    (1, 'Rush T-Shirt', 5.50, 'Spring', 2016),\n",
    "    (2, 'Comfort Hat', 11.75, 'Spring', 2016),\n",
    "    (3, 'Owl T-Shirt', 12.50, 'Spring', 2016),\n",
    "    (4, 'Crest T-Shirt', 17.50, 'Fall', 2016),\n",
    "    (5, 'PSP Mug', 10.75, 'Fall', 2016),\n",
    "    (6, 'Greek Hoodie', 12.50, 'Fall', 2016),\n",
    "    (7, 'Greek Quarter-Zip', 17.50, 'Spring', 2017),\n",
    "    (8, 'PSP Sticker', 2.75, 'Spring', 2017),\n",
    "    (9, 'Ugly Sweater', 20.50, 'Spring', 2017),\n",
    "    (10, 'Star Wars T-Shirt', 17.50, 'Fall', 2017),\n",
    "    (11, 'PSP Sweatpants', 11.75, 'Fall', 2017),\n",
    "    (13, 'Retro T-Shirt', 17.50, 'Spring', 2018),\n",
    "    (14, 'PSP Hat', 11.75, 'Spring', 2018),\n",
    "    (15, 'Greek T-Shirt', 12.50, 'Spring', 2018),\n",
    "    (16, 'Quarter-Zip', 25.00, 'Spring', 2018)\n",
    ";"
   ]
  },
  {
   "cell_type": "markdown",
   "metadata": {},
   "source": [
    "## merch_order table"
   ]
  },
  {
   "cell_type": "code",
   "execution_count": null,
   "metadata": {
    "collapsed": true
   },
   "outputs": [],
   "source": [
    "%%sql\n",
    "CREATE TABLE merch_order (\n",
    "    merch_id INTEGER REFERENCES merch (merch_id) ON DELETE CASCADE,\n",
    "    student_id INTEGER REFERENCES member (student_id) ON DELETE CASCADE,\n",
    "    quantity INTEGER NOT NULL,\n",
    "    payment_due_date DATE,\n",
    "    delivery_date DATE,\n",
    "    completed BOOLEAN, /* Boolean value for checking if an order has been fully completed */\n",
    "    PRIMARY KEY (merch_id, student_id)\n",
    ");"
   ]
  },
  {
   "cell_type": "code",
   "execution_count": null,
   "metadata": {
    "collapsed": true
   },
   "outputs": [],
   "source": [
    "%%sql\n",
    "TRUNCATE merch_order CASCADE;"
   ]
  },
  {
   "cell_type": "code",
   "execution_count": null,
   "metadata": {
    "collapsed": true
   },
   "outputs": [],
   "source": [
    "%%sql\n",
    "INSERT INTO merch_order VALUES\n",
    "    (1, 1, 1, current_date - 400, current_date - 390, FALSE),\n",
    "    (1, 2, 1, current_date - 400, current_date - 390, FALSE),\n",
    ";"
   ]
  },
  {
   "cell_type": "markdown",
   "metadata": {},
   "source": [
    "## budget table"
   ]
  },
  {
   "cell_type": "code",
   "execution_count": null,
   "metadata": {
    "collapsed": true
   },
   "outputs": [],
   "source": [
    "%%sql\n",
    "CREATE TABLE budget (\n",
    "    budget_item_id INTEGER PRIMARY KEY,\n",
    "    item_name VARCHAR(255) NOT NULL,\n",
    "    item_type INTEGER NOT NULL, /* 0 for expense, 1 for revenue */\n",
    "    budget_amount REAL NOT NULL,\n",
    "    semester VARCHAR(255),\n",
    "    year INTEGER /* Maybe change to date (only year though) */\n",
    ");"
   ]
  },
  {
   "cell_type": "code",
   "execution_count": null,
   "metadata": {
    "collapsed": true
   },
   "outputs": [],
   "source": [
    "%%sql\n",
    "TRUNCATE budget CASCADE;"
   ]
  },
  {
   "cell_type": "code",
   "execution_count": null,
   "metadata": {
    "collapsed": true
   },
   "outputs": [],
   "source": [
    "%%sql\n",
    "INSERT INTO budget VALUES\n",
    "    (1, 'NAME', 0, 1200.00, 'Fall', 2016),\n",
    ";"
   ]
  },
  {
   "cell_type": "markdown",
   "metadata": {},
   "source": [
    "## chairPosition table"
   ]
  },
  {
   "cell_type": "code",
   "execution_count": null,
   "metadata": {},
   "outputs": [],
   "source": [
    "%%sql\n",
    "CREATE TABLE chairPosition (\n",
    "    position_id INTEGER PRIMARY KEY,\n",
    "    student_id INTEGER REFERENCES member (student_id) ON DELETE CASCADE,\n",
    "    /* ADD CHAIR POSITION FIELD LIKE \"position INTEGER\" 0 for active&no position / 4 for president / and so on */\n",
    "    position_name VARCHAR(255) NOT NULL,\n",
    "    position_type VARCHAR(255), /* EBOARD or EBEC */\n",
    "    description VARCHAR(255)\n",
    ");"
   ]
  },
  {
   "cell_type": "code",
   "execution_count": null,
   "metadata": {},
   "outputs": [],
   "source": [
    "%%sql\n",
    "TRUNCATE chairPosition CASCADE;"
   ]
  },
  {
   "cell_type": "code",
   "execution_count": null,
   "metadata": {},
   "outputs": [],
   "source": [
    "%%sql\n",
    "INSERT INTO chairPosition VALUES\n",
    "    (1, NULL, 'President', 'EBOARD'),\n",
    "    (2, NULL, 'Vice President', 'EBOARD'),\n",
    "    (3, NULL, 'Recording Secretary', 'EBOARD'),\n",
    "    (4, NULL, 'Corresponding Secretary', 'EBOARD'),\n",
    "    (5, NULL, 'Treasurer', 'EBOARD'),\n",
    "    (6, NULL, 'Recruitment Chair', 'EBOARD'),\n",
    "    (7, NULL, 'Initiate Advisor', 'EBOARD'),\n",
    "    (8, NULL, 'Historian', 'EBOARD'),\n",
    "    (9, NULL, 'Parlimentarian', 'EBOARD'),\n",
    "    (10, NULL, 'Bro At Large', 'EBOARD'),\n",
    "    (11, NULL, 'Fundraising Chair', 'EBEC'),\n",
    "    (12, NULL, 'Alumni Chair', 'EBEC'),\n",
    "    (13, NULL, 'Philanthropy Chair', 'EBEC'),\n",
    "    (14, NULL, 'Service Chair', 'EBEC'),\n",
    "    (15, NULL, 'DAS Chair', 'EBEC'),\n",
    "    (16, NULL, 'Fellowship Chair', 'EBEC'),\n",
    "    (17, NULL, 'Risk Management Chair', 'EBEC'),\n",
    "    (18, NULL, 'Rec Sports Chair (1)', 'EBEC'),\n",
    "    (19, NULL, 'Rec Sports Chair (2)', 'EBEC'),\n",
    "    (20, NULL, 'PR Chair (1)', 'EBEC'),\n",
    "    (21, NULL, 'PR Chair (2)', 'EBEC'),\n",
    "    (22, NULL, 'Campus Liason', 'EBEC')\n",
    ";"
   ]
  },
  {
   "cell_type": "markdown",
   "metadata": {},
   "source": [
    "## budget_register table"
   ]
  },
  {
   "cell_type": "code",
   "execution_count": null,
   "metadata": {
    "collapsed": true
   },
   "outputs": [],
   "source": [
    "%%sql\n",
    "CREATE TABLE budget_register (\n",
    "    register_id INTEGER PRIMARY KEY,\n",
    "    budget_item_id INTEGER REFERENCES budget (budget_item_id) NOT NULL,\n",
    "    chairposition INTEGER REFERENCES chairPosition (position_id),\n",
    "    transaction_type INTEGER NOT NULL, /* 0 for expense, 1 for revenue */\n",
    "    transaction_amount REAL NOT NULL,\n",
    "    transaction_date DATE NOT NULL,\n",
    "    method VARCHAR(255) /* Method of transaction such as Cash, Card, Check */\n",
    ");"
   ]
  },
  {
   "cell_type": "code",
   "execution_count": null,
   "metadata": {
    "collapsed": true
   },
   "outputs": [],
   "source": [
    "%%sql\n",
    "TRUNCATE budget_register CASCADE;"
   ]
  },
  {
   "cell_type": "code",
   "execution_count": null,
   "metadata": {
    "collapsed": true
   },
   "outputs": [],
   "source": [
    "%%sql\n",
    "INSERT INTO member_status VALUES\n",
    "    (1, 'Active'),\n",
    "    (2, 'Locally Inactive'),\n",
    "    (3, 'Nationally Inactive'),\n",
    "    (4, 'Alumni')\n",
    ";"
   ]
  },
  {
   "cell_type": "markdown",
   "metadata": {},
   "source": [
    "## point_type table"
   ]
  },
  {
   "cell_type": "code",
   "execution_count": null,
   "metadata": {},
   "outputs": [],
   "source": [
    "%%sql \n",
    "CREATE TABLE point_type (\n",
    "    type_id INTEGER PRIMARY KEY,\n",
    "    name VARCHAR(255)\n",
    ");"
   ]
  },
  {
   "cell_type": "code",
   "execution_count": null,
   "metadata": {},
   "outputs": [],
   "source": [
    "%%sql\n",
    "TRUNCATE point_type CASCADE;"
   ]
  },
  {
   "cell_type": "code",
   "execution_count": null,
   "metadata": {},
   "outputs": [],
   "source": [
    "%%sql\n",
    "INSERT INTO point_type VALUES\n",
    "    (1, 'DAS'),\n",
    "    (2, 'Fellowship'),\n",
    "    (3, 'Service'),\n",
    "    (4, 'Fundraising'),\n",
    "    (5, 'Campus Liason')\n",
    "    /* ADD types for voting and other requirements */\n",
    ";"
   ]
  },
  {
   "cell_type": "markdown",
   "metadata": {},
   "source": [
    "## events table\n",
    "* Trigger: When point_type is updated event_attendance should be updated\n",
    "    * events.point_type = event_attendance.point_type\n",
    "    * or memberPoint_associative"
   ]
  },
  {
   "cell_type": "code",
   "execution_count": null,
   "metadata": {},
   "outputs": [],
   "source": [
    "%%sql\n",
    "CREATE TABLE events (\n",
    "    event_id INTEGER PRIMARY KEY,\n",
    "    position_id INTEGER REFERENCES chairPosition (position_id),\n",
    "    point_type INTEGER NOT NULL REFERENCES point_type (type_id),\n",
    "    num_of_points INTEGER NOT NULL, /* Default should be 1 but can sometimes be 2 or more */\n",
    "    title VARCHAR(255), /* Name of the event */\n",
    "    event_date DATE,\n",
    "    semester VARCHAR(255)\n",
    ");"
   ]
  },
  {
   "cell_type": "code",
   "execution_count": null,
   "metadata": {},
   "outputs": [],
   "source": [
    "%%sql\n",
    "TRUNCATE events CASCADE;"
   ]
  },
  {
   "cell_type": "code",
   "execution_count": null,
   "metadata": {},
   "outputs": [],
   "source": [
    "%%sql\n",
    "INSERT INTO events VALUES\n",
    "    (1, NULL, 1, 1),\n",
    "    (2, NULL, 2, 2),\n",
    "    (3, NULL, 3, 1),\n",
    "    (4, NULL, 4, 1),\n",
    "    (5, NULL, 5, 1),\n",
    "    (6, NULL, 5, 1),\n",
    "    (7, NULL, 4, 2),\n",
    "    (8, NULL, 3, 1),\n",
    "    (9, NULL, 2, 1),\n",
    "    (10, NULL, 1, 1)\n",
    ";"
   ]
  },
  {
   "cell_type": "markdown",
   "metadata": {},
   "source": [
    "## event_attendance table"
   ]
  },
  {
   "cell_type": "code",
   "execution_count": null,
   "metadata": {},
   "outputs": [],
   "source": [
    "%%sql\n",
    "CREATE TABLE event_attendance (\n",
    "    event_id INTEGER REFERENCES events (event_id),\n",
    "    student_id INTEGER REFERENCES member (student_id),\n",
    "    point_type INTEGER REFERENCES point_type (type_id),\n",
    "    PRIMARY KEY (event_id, student_id)\n",
    ");"
   ]
  },
  {
   "cell_type": "code",
   "execution_count": null,
   "metadata": {},
   "outputs": [],
   "source": [
    "%%sql\n",
    "TRUNCATE event_attendance CASCADE;"
   ]
  },
  {
   "cell_type": "code",
   "execution_count": null,
   "metadata": {},
   "outputs": [],
   "source": [
    "%%sql\n",
    "INSERT INTO event_attendance VALUES\n",
    "    (1,2,1),\n",
    "    (1,3,1),\n",
    "    (1,4,1),\n",
    "    (2,2,2),\n",
    "    (5,2,5),\n",
    "    (7,2,4)\n",
    ";"
   ]
  },
  {
   "cell_type": "markdown",
   "metadata": {},
   "source": [
    "## memberPoints_assoc table **** (Delete Possibly)"
   ]
  },
  {
   "cell_type": "code",
   "execution_count": null,
   "metadata": {
    "collapsed": true
   },
   "outputs": [],
   "source": [
    "%%sql\n",
    "CREATE TABLE memberPoints_assoc (\n",
    "    student_id INTEGER REFERENCES member (student_id),\n",
    "    point_type INTEGER REFERENCES point_type (type_id),\n",
    "    PRIMARY KEY (student_id, point_type)\n",
    ");"
   ]
  },
  {
   "cell_type": "code",
   "execution_count": null,
   "metadata": {
    "collapsed": true
   },
   "outputs": [],
   "source": [
    "%%sql\n",
    "TRUNCATE memberPoints_assoc CASCADE;"
   ]
  },
  {
   "cell_type": "code",
   "execution_count": null,
   "metadata": {
    "collapsed": true
   },
   "outputs": [],
   "source": [
    "%%sql\n",
    "INSERT INTO member_status VALUES\n",
    "    (1, 'Active'),\n",
    "    (2, 'Locally Inactive'),\n",
    "    (3, 'Nationally Inactive'),\n",
    "    (4, 'Alumni')\n",
    ";"
   ]
  },
  {
   "cell_type": "markdown",
   "metadata": {},
   "source": [
    "## potential_roster table"
   ]
  },
  {
   "cell_type": "code",
   "execution_count": null,
   "metadata": {
    "collapsed": true
   },
   "outputs": [],
   "source": [
    "%%sql\n",
    "CREATE TABLE potential_roster (   \n",
    "    student_id INTEGER PRIMARY KEY,\n",
    "    pawprint VARCHAR(25),\n",
    "    last_name VARCHAR(50),\n",
    "    first_name VARCHAR(50),\n",
    "    email_address VARCHAR(255),\n",
    "    phone_number VARCHAR(25)\n",
    ");"
   ]
  },
  {
   "cell_type": "code",
   "execution_count": null,
   "metadata": {
    "collapsed": true
   },
   "outputs": [],
   "source": [
    "%%sql\n",
    "TRUNCATE potential_roster CASCADE;"
   ]
  },
  {
   "cell_type": "code",
   "execution_count": null,
   "metadata": {
    "collapsed": true
   },
   "outputs": [],
   "source": [
    "%%sql\n",
    "INSERT INTO member_status VALUES\n",
    "    (1, 'Active'),\n",
    "    (2, 'Locally Inactive'),\n",
    "    (3, 'Nationally Inactive'),\n",
    "    (4, 'Alumni')\n",
    ";"
   ]
  },
  {
   "cell_type": "markdown",
   "metadata": {},
   "source": [
    "## votingResults table"
   ]
  },
  {
   "cell_type": "code",
   "execution_count": null,
   "metadata": {
    "collapsed": true
   },
   "outputs": [],
   "source": [
    "%%sql\n",
    "CREATE TABLE votingResults (\n",
    "    roundNum INTEGER,\n",
    "    student_id INTEGER REFERENCES potential_roster (student_id) ON DELETE CASCADE,\n",
    "    yes INTEGER,\n",
    "    no INTEGER,\n",
    "    abstain INTEGER,\n",
    "    PRIMARY KEY (student_id, roundNum)\n",
    ");"
   ]
  },
  {
   "cell_type": "code",
   "execution_count": null,
   "metadata": {
    "collapsed": true
   },
   "outputs": [],
   "source": [
    "%%sql\n",
    "TRUNCATE votingResults CASCADE;"
   ]
  },
  {
   "cell_type": "code",
   "execution_count": null,
   "metadata": {
    "collapsed": true
   },
   "outputs": [],
   "source": [
    "%%sql\n",
    "INSERT INTO member_status VALUES\n",
    "    (1, 'Active'),\n",
    "    (2, 'Locally Inactive'),\n",
    "    (3, 'Nationally Inactive'),\n",
    "    (4, 'Alumni')\n",
    ";"
   ]
  },
  {
   "cell_type": "markdown",
   "metadata": {},
   "source": [
    "## classes table"
   ]
  },
  {
   "cell_type": "code",
   "execution_count": null,
   "metadata": {
    "collapsed": true
   },
   "outputs": [],
   "source": [
    "%%sql\n",
    "CREATE TABLE classes (\n",
    "    class_id INTEGER PRIMARY KEY,\n",
    "    class_name VARCHAR(255),\n",
    "    semester VARCHAR(50),\n",
    "    year INTEGER\n",
    ");"
   ]
  },
  {
   "cell_type": "code",
   "execution_count": null,
   "metadata": {
    "collapsed": true
   },
   "outputs": [],
   "source": [
    "%%sql\n",
    "TRUNCATE classes CASCADE;"
   ]
  },
  {
   "cell_type": "code",
   "execution_count": null,
   "metadata": {
    "collapsed": true
   },
   "outputs": [],
   "source": [
    "%%sql\n",
    "INSERT INTO member_status VALUES\n",
    "    (1, 'Active'),\n",
    "    (2, 'Locally Inactive'),\n",
    "    (3, 'Nationally Inactive'),\n",
    "    (4, 'Alumni')\n",
    ";"
   ]
  },
  {
   "cell_type": "markdown",
   "metadata": {},
   "source": [
    "## class_roster table"
   ]
  },
  {
   "cell_type": "code",
   "execution_count": null,
   "metadata": {
    "collapsed": true
   },
   "outputs": [],
   "source": [
    "%%sql \n",
    "CREATE TABLE class_roster (\n",
    "    student_id INTEGER UNIQUE REFERENCES member (student_id) ON DELETE CASCADE,\n",
    "    class_id INTEGER NOT NULL REFERENCES classes (class_id) ON DELETE CASCADE\n",
    ");"
   ]
  },
  {
   "cell_type": "code",
   "execution_count": null,
   "metadata": {
    "collapsed": true
   },
   "outputs": [],
   "source": [
    "%%sql\n",
    "TRUNCATE class_roster CASCADE;"
   ]
  },
  {
   "cell_type": "code",
   "execution_count": null,
   "metadata": {
    "collapsed": true
   },
   "outputs": [],
   "source": [
    "%%sql\n",
    "INSERT INTO member_status VALUES\n",
    "    (1, 'Active'),\n",
    "    (2, 'Locally Inactive'),\n",
    "    (3, 'Nationally Inactive'),\n",
    "    (4, 'Alumni')\n",
    ";"
   ]
  },
  {
   "cell_type": "markdown",
   "metadata": {},
   "source": [
    "# TRIGGERS / VIEWS"
   ]
  },
  {
   "cell_type": "markdown",
   "metadata": {},
   "source": [
    "## Triggers"
   ]
  },
  {
   "cell_type": "markdown",
   "metadata": {
    "collapsed": true
   },
   "source": [
    "## dues_paymentPlan table\n",
    "* Trigger: When last_amount_paid updated -> update amount_paid in memberDues\n",
    "    * amount_paid = (OLD)amount_paid + (NEW)last_amount_paid"
   ]
  },
  {
   "cell_type": "code",
   "execution_count": null,
   "metadata": {},
   "outputs": [],
   "source": [
    "%%sql\n",
    "DROP TRIGGER IF EXISTS dues_paymentPlan_payment ON dues_paymentPlan;\n",
    "DROP FUNCTION IF EXISTS payment_made();"
   ]
  },
  {
   "cell_type": "code",
   "execution_count": null,
   "metadata": {},
   "outputs": [],
   "source": [
    "%%sql\n",
    "CREATE OR REPLACE FUNCTION payment_made()\n",
    " RETURNS trigger AS\n",
    "$$\n",
    "BEGIN\n",
    "    /* Case when a payment is made and last_payment_date is supplied */\n",
    "    IF NEW.last_amount_paid IS NOT NULL AND NEW.last_payment_date IS NOT NULL\n",
    "    THEN\n",
    "        UPDATE memberDues \n",
    "        SET amount_paid = amount_paid + NEW.last_amount_paid\n",
    "        WHERE memberDues.dues_id = (\n",
    "            SELECT dues_id \n",
    "            FROM dues_paymentPlan AS dpp\n",
    "            WHERE memberDues.dues_id = dpp.dues_id);\n",
    "    END IF;\n",
    "    \n",
    "    /* Default Behavior when a payment is made */\n",
    "    IF NEW.last_amount_paid IS NOT NULL AND OLD.last_payment_date = NEW.last_payment_date\n",
    "    THEN\n",
    "        UPDATE memberDues \n",
    "        SET amount_paid = amount_paid + NEW.last_amount_paid\n",
    "        WHERE memberDues.dues_id = (\n",
    "            SELECT dues_id \n",
    "            FROM dues_paymentPlan AS dpp\n",
    "            WHERE memberDues.dues_id = dpp.dues_id);\n",
    "\n",
    "        UPDATE dues_paymentPlan\n",
    "        SET last_payment_date = current_date\n",
    "        WHERE dues_paymentPlan.dues_id = 2;\n",
    "    \n",
    "    END IF;\n",
    "    \n",
    "    RETURN NEW;\n",
    "END;\n",
    "$$\n",
    "LANGUAGE plpgsql;"
   ]
  },
  {
   "cell_type": "code",
   "execution_count": null,
   "metadata": {},
   "outputs": [],
   "source": [
    "%%sql\n",
    "CREATE TRIGGER dues_paymentPlan_payment\n",
    "  AFTER UPDATE OF last_amount_paid, last_payment_date\n",
    "  ON dues_paymentPlan\n",
    "  FOR EACH ROW\n",
    "  EXECUTE PROCEDURE payment_made();"
   ]
  },
  {
   "cell_type": "markdown",
   "metadata": {},
   "source": [
    "### Testing"
   ]
  },
  {
   "cell_type": "code",
   "execution_count": null,
   "metadata": {},
   "outputs": [],
   "source": [
    "%%sql\n",
    "SELECT * FROM memberDues WHERE dues_id = 2;"
   ]
  },
  {
   "cell_type": "code",
   "execution_count": null,
   "metadata": {},
   "outputs": [],
   "source": [
    "%%sql\n",
    "SELECT * FROM dues_paymentPlan WHERE dues_id = 2;"
   ]
  },
  {
   "cell_type": "code",
   "execution_count": null,
   "metadata": {},
   "outputs": [],
   "source": [
    "%%sql\n",
    "UPDATE dues_paymentPlan\n",
    "SET last_amount_paid = 5\n",
    "WHERE dues_id = 2;"
   ]
  },
  {
   "cell_type": "code",
   "execution_count": null,
   "metadata": {},
   "outputs": [],
   "source": [
    "%%sql\n",
    "UPDATE dues_paymentPlan\n",
    "SET last_amount_paid = 4 , last_payment_date = current_date - 9\n",
    "WHERE dues_id = 2;"
   ]
  },
  {
   "cell_type": "code",
   "execution_count": null,
   "metadata": {},
   "outputs": [],
   "source": [
    "%%sql\n",
    "SELECT * FROM dues_paymentPlan;"
   ]
  },
  {
   "cell_type": "markdown",
   "metadata": {
    "collapsed": true
   },
   "source": [
    "## events table\n",
    "* Trigger: When point_type is updated event_attendance should be updated\n",
    "    * events.point_type = event_attendance.point_type\n",
    "    * or memberPoint_associative"
   ]
  },
  {
   "cell_type": "code",
   "execution_count": null,
   "metadata": {},
   "outputs": [],
   "source": [
    "%%sql\n",
    "DROP TRIGGER IF EXISTS event_point_type_update ON events;\n",
    "DROP FUNCTION IF EXISTS event_type_update();"
   ]
  },
  {
   "cell_type": "code",
   "execution_count": null,
   "metadata": {},
   "outputs": [],
   "source": [
    "%%sql\n",
    "CREATE OR REPLACE FUNCTION event_type_update()\n",
    " RETURNS trigger AS\n",
    "$$\n",
    "BEGIN\n",
    "    UPDATE event_attendance\n",
    "    SET point_type = NEW.point_type\n",
    "    WHERE event_id = OLD.event_id;\n",
    "    \n",
    "    RETURN NEW;\n",
    "END;\n",
    "$$\n",
    "LANGUAGE plpgsql;"
   ]
  },
  {
   "cell_type": "code",
   "execution_count": null,
   "metadata": {},
   "outputs": [],
   "source": [
    "%%sql\n",
    "CREATE TRIGGER event_point_type_update\n",
    "  AFTER UPDATE OF point_type\n",
    "  ON events\n",
    "  FOR EACH ROW\n",
    "  EXECUTE PROCEDURE event_type_update();"
   ]
  },
  {
   "cell_type": "markdown",
   "metadata": {},
   "source": [
    "### Testing"
   ]
  },
  {
   "cell_type": "code",
   "execution_count": null,
   "metadata": {},
   "outputs": [],
   "source": [
    "%%sql\n",
    "UPDATE events\n",
    "SET point_type = 3\n",
    "WHERE event_id = 1;"
   ]
  },
  {
   "cell_type": "code",
   "execution_count": null,
   "metadata": {},
   "outputs": [],
   "source": [
    "%%sql\n",
    "SELECT * FROM events;"
   ]
  },
  {
   "cell_type": "code",
   "execution_count": null,
   "metadata": {},
   "outputs": [],
   "source": [
    "%%sql\n",
    "SELECT * FROM event_attendance;"
   ]
  },
  {
   "cell_type": "markdown",
   "metadata": {},
   "source": [
    "## Views"
   ]
  },
  {
   "cell_type": "code",
   "execution_count": null,
   "metadata": {
    "collapsed": true
   },
   "outputs": [],
   "source": []
  },
  {
   "cell_type": "markdown",
   "metadata": {},
   "source": [
    "# INDEXES"
   ]
  },
  {
   "cell_type": "code",
   "execution_count": null,
   "metadata": {
    "collapsed": true
   },
   "outputs": [],
   "source": []
  },
  {
   "cell_type": "markdown",
   "metadata": {},
   "source": [
    "# QUERIES"
   ]
  },
  {
   "cell_type": "code",
   "execution_count": null,
   "metadata": {
    "collapsed": true
   },
   "outputs": [],
   "source": []
  }
 ],
 "metadata": {
  "kernelspec": {
   "display_name": "Python 3",
   "language": "python",
   "name": "python3"
  },
  "language_info": {
   "codemirror_mode": {
    "name": "ipython",
    "version": 3
   },
   "file_extension": ".py",
   "mimetype": "text/x-python",
   "name": "python",
   "nbconvert_exporter": "python",
   "pygments_lexer": "ipython3",
   "version": "3.4.5"
  }
 },
 "nbformat": 4,
 "nbformat_minor": 2
}
